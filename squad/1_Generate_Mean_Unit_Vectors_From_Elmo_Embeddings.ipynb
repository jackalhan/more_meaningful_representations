{
 "cells": [
  {
   "cell_type": "code",
   "execution_count": null,
   "metadata": {},
   "outputs": [],
   "source": [
    "import os\n",
    "import h5py\n",
    "from tqdm import tqdm_notebook\n",
    "import warnings\n",
    "import numpy as np\n",
    "from sklearn.preprocessing import normalize\n",
    "warnings.filterwarnings('ignore')"
   ]
  },
  {
   "cell_type": "code",
   "execution_count": null,
   "metadata": {},
   "outputs": [],
   "source": [
    "#dataset_type = 'train'\n",
    "dataset_type = 'dev'\n",
    "dataset_version = 'v1.1'\n",
    "index_field = ['Unnamed: 0']\n",
    "\n",
    "# required files\n",
    "_basepath = '/home/jackalhan/Development/github/more_meaningful_representations/squad/'\n",
    "datadir = os.path.join(_basepath, dataset_type)\n",
    "modeldir = os.path.join(_basepath, 'model')\n",
    "_embedding_paragraph_file_as_h5py_name = 'elmo_paragraph_embeddings.hdf5'\n",
    "embedding_paragraph_file_as_h5py = os.path.join(datadir, _embedding_paragraph_file_as_h5py_name)\n",
    "\n",
    "_embedding_question_file_as_h5py_name = 'elmo_question_embeddings.hdf5'\n",
    "embedding_question_file_as_h5py = os.path.join(datadir, _embedding_question_file_as_h5py_name)\n",
    "\n",
    "_embedding_mean_paragraph_file_as_h5py_name = 'elmo_{}_mean_paragraph_embeddings.hdf5'\n",
    "embedding_mean_paragraph_file_as_h5py = os.path.join(datadir, _embedding_mean_paragraph_file_as_h5py_name)\n",
    "\n",
    "_embedding_mean_question_file_as_h5py_name = 'elmo_{}_mean_question_embeddings.hdf5'\n",
    "embedding_mean_question_file_as_h5py = os.path.join(datadir, _embedding_mean_question_file_as_h5py_name)\n"
   ]
  },
  {
   "cell_type": "code",
   "execution_count": null,
   "metadata": {},
   "outputs": [],
   "source": [
    "dims = 1024\n",
    "items = [dict({'type':'Questions', \n",
    "                     'matrix': np.empty((0, dims), dtype=float),\n",
    "                     'source_file':embedding_question_file_as_h5py,\n",
    "                     'destination_file': embedding_mean_question_file_as_h5py}), \n",
    "              dict({'type':'Paragraphs', \n",
    "                     'matrix': np.empty((0, dims), dtype=float),\n",
    "                     'source_file':embedding_paragraph_file_as_h5py,\n",
    "                     'destination_file': embedding_mean_paragraph_file_as_h5py})\n",
    "              ]\n",
    "for vals in items:\n",
    "    print(vals['type'], 'are getting processed!!!')    \n",
    "    with h5py.File(vals['source_file'], 'r') as fin:        \n",
    "        for _ in tqdm_notebook(fin, total=len(fin)):             \n",
    "            vec = np.array(fin[str(_)][...])\n",
    "            #print(vec.shape)            \n",
    "            mean_vector = np.apply_over_axes(np.mean, vec, (0, 1))\n",
    "            #print(mean_vector.shape)\n",
    "            reshaped_mean_vector = np.reshape(mean_vector, (1,dims))\n",
    "            #print(reshaped_mean_vector.shape)\n",
    "            vals['matrix'] = np.append(vals['matrix'], reshaped_mean_vector, axis=0)\n",
    "                "
   ]
  },
  {
   "cell_type": "code",
   "execution_count": null,
   "metadata": {},
   "outputs": [],
   "source": [
    "for norm_type in ['l1', 'l2']:\n",
    "    print(10*'*', norm_type.upper(),'NORM', 10*'*')\n",
    "    QUES_Mean = items[0]['matrix']\n",
    "    PARA_Mean = items[1]['matrix']\n",
    "    #QUES_Norms = QUES_Mean / np.linalg.norm(QUES_Mean, ord=2)\n",
    "    QUES_Norms = normalize(QUES_Mean, norm=norm_type)\n",
    "    PARA_Norms = normalize(PARA_Mean, norm=norm_type)\n",
    "    items[0]['norm_matrix'] = QUES_Norms\n",
    "    items[1]['norm_matrix'] = PARA_Norms\n",
    "    for vals in items:\n",
    "        print(vals['type'], 'are getting processed!!!')    \n",
    "        with h5py.File(vals['destination_file'].format(norm_type), 'w') as fout: \n",
    "            for i, _ in enumerate(tqdm_notebook(vals['norm_matrix'], total=len(vals['norm_matrix']))):\n",
    "                ds = fout.create_dataset(\n",
    "                                '{}'.format(i),\n",
    "                                _.shape, dtype='float32',\n",
    "                                data=_)\n",
    "        "
   ]
  }
 ],
 "metadata": {
  "kernelspec": {
   "display_name": "Python 3",
   "language": "python",
   "name": "python3"
  },
  "language_info": {
   "codemirror_mode": {
    "name": "ipython",
    "version": 3
   },
   "file_extension": ".py",
   "mimetype": "text/x-python",
   "name": "python",
   "nbconvert_exporter": "python",
   "pygments_lexer": "ipython3",
   "version": "3.5.2"
  }
 },
 "nbformat": 4,
 "nbformat_minor": 2
}
