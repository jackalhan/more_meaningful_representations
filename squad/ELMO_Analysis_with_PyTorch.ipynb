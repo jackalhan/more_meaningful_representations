{
 "cells": [
  {
   "cell_type": "markdown",
   "metadata": {},
   "source": [
    "### LIBRARIES :"
   ]
  },
  {
   "cell_type": "code",
   "execution_count": null,
   "metadata": {},
   "outputs": [],
   "source": [
    "from allennlp.commands.elmo import ElmoEmbedder\n",
    "import os\n",
    "import warnings\n",
    "import pandas as pd\n",
    "from tqdm import tqdm_notebook\n",
    "import numpy as np\n",
    "import h5py\n",
    "from sklearn.metrics.pairwise import cosine_similarity\n",
    "warnings.filterwarnings('ignore')"
   ]
  },
  {
   "cell_type": "markdown",
   "metadata": {},
   "source": [
    "### FILE PATHS :"
   ]
  },
  {
   "cell_type": "code",
   "execution_count": null,
   "metadata": {},
   "outputs": [],
   "source": [
    "_basepath = '/home/jackalhan/Development/github/more_meaningful_representations/squad/dev'\n",
    "_input_file_name = 'input_words.txt'\n",
    "_options_file_name = 'elmo_2x4096_512_2048cnn_2xhighway_weights.json'\n",
    "_weight_file_name = 'elmo_2x4096_512_2048cnn_2xhighway_weights.hdf5'\n",
    "_embeddings_file_name = 'elmo_embeddings.hdf5'\n",
    "_neighbor_words_file_name =  'nearest_words.csv'\n",
    "\n",
    "datadir = os.path.join(_basepath)\n",
    "options_file = os.path.join(datadir, _options_file_name)\n",
    "weight_file = os.path.join(datadir, _weight_file_name)\n",
    "embeddings = os.path.join(datadir, _embeddings_file_name)\n",
    "neighbor_words = os.path.join(datadir, _neighbor_words_file_name)\n",
    "input_file = os.path.join(datadir, _input_file_name)"
   ]
  },
  {
   "cell_type": "markdown",
   "metadata": {},
   "source": [
    "### PIPELINE:"
   ]
  },
  {
   "cell_type": "code",
   "execution_count": null,
   "metadata": {},
   "outputs": [],
   "source": [
    "with open(input_file) as f:\n",
    "    contents = f.readlines()\n",
    "contents = [[content.strip()] for content in contents]\n",
    "ee = ElmoEmbedder(options_file, weight_file)\n",
    "embeddings = np.asarray(ee.embed_batch(contents))\n",
    "slices = [{'slice_type':'All', 'slice_index':None, 'axis':(1,2)},\n",
    "          {'slice_type':'1st', 'slice_index':0, 'axis':(1)},\n",
    "          {'slice_type':'2nd', 'slice_index':1, 'axis':(1)},\n",
    "          {'slice_type':'3rd', 'slice_index':2, 'axis':(1)}]\n",
    "neighbor_list = []\n",
    "for _s in slices:\n",
    "    print('Processing : {}'.format(_s))\n",
    "    embeddings_ = embeddings\n",
    "    if _s['slice_index'] is not None:\n",
    "        embeddings_ = embeddings[:,_s['slice_index']]        \n",
    "    embeddings_ = np.apply_over_axes(np.mean, embeddings_, _s['axis'])\n",
    "    embeddings_ = np.reshape(embeddings_,(embeddings.shape[0], embeddings.shape[3]))\n",
    "    for _id, _embedding in enumerate(tqdm_notebook(embeddings_, total=len(embeddings_))):\n",
    "        _embedding = np.array([_embedding]) \n",
    "        sk_sim = cosine_similarity(_embedding,embeddings_)[0]\n",
    "        neighbors = np.argsort(-sk_sim)\n",
    "        for _, neighbor_id in enumerate(neighbors[0:5]):\n",
    "            neighbor_list.append((_s['slice_type'], contents[_id][0], contents[neighbor_id][0],_+1, sk_sim[neighbor_id]))\n",
    "df_neighbors = pd.DataFrame(data=neighbor_list, columns=['slice_type','word', 'neighbor_word', 'neighbor_order', 'cos_similarity'])\n",
    "df_neighbors.to_csv(neighbor_words, index=False)\n",
    "print('Completed')"
   ]
  }
 ],
 "metadata": {
  "kernelspec": {
   "display_name": "Python 3",
   "language": "python",
   "name": "python3"
  },
  "language_info": {
   "codemirror_mode": {
    "name": "ipython",
    "version": 3
   },
   "file_extension": ".py",
   "mimetype": "text/x-python",
   "name": "python",
   "nbconvert_exporter": "python",
   "pygments_lexer": "ipython3",
   "version": "3.6.3"
  }
 },
 "nbformat": 4,
 "nbformat_minor": 1
}
