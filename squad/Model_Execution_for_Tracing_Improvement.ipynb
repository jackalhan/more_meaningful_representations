{
 "cells": [
  {
   "cell_type": "code",
   "execution_count": 1,
   "metadata": {},
   "outputs": [
    {
     "name": "stderr",
     "output_type": "stream",
     "text": [
      "/home/jackalhan/Development/github/more_meaningful_representations/venv35/lib/python3.5/site-packages/h5py/__init__.py:36: FutureWarning: Conversion of the second argument of issubdtype from `float` to `np.floating` is deprecated. In future, it will be treated as `np.float64 == np.dtype(float).type`.\n",
      "  from ._conv import register_converters as _register_converters\n"
     ]
    }
   ],
   "source": [
    "import os\n",
    "import sys\n",
    "path = !echo ${VIRTUAL_ENV}\n",
    "path = os.path.join(path[0], '..')\n",
    "sys.path.append(path)\n",
    "from helper.utils import load_from_pickle, load_from_shelve\n",
    "import numpy as np\n",
    "import pandas as pd\n",
    "import collections\n",
    "# from plotly import tools\n",
    "# import plotly as py\n",
    "# import plotly.graph_objs as go\n",
    "#import impywidgets as widget\n",
    "# py.offline.init_notebook_mode(connected=True)"
   ]
  },
  {
   "cell_type": "code",
   "execution_count": 99,
   "metadata": {},
   "outputs": [],
   "source": [
    "base_data_path = \"/home/jackalhan/Development/github/more_meaningful_representations/squad/train/improvement/model_performances/subset_5000/model_2_layers_2_epoch_1_mar_1.0_sf_0.05_0.05_wd_0.001_0.001_lr_0.001_dim_8196_8196_keep_1_1_seed_66_66_loss_v3\""
   ]
  },
  {
   "cell_type": "code",
   "execution_count": 106,
   "metadata": {},
   "outputs": [
    {
     "data": {
      "text/plain": [
       "['0 --> /home/jackalhan/Development/github/more_meaningful_representations/squad/train/improvement/model_performances/subset_5000/model_2_layers_2_epoch_1_mar_1.0_sf_0.05_0.05_wd_0.001_0.001_lr_0.001_dim_8196_8196_keep_1_1_seed_66_66_loss_v3/debug_dict.pkl']"
      ]
     },
     "execution_count": 106,
     "metadata": {},
     "output_type": "execute_result"
    }
   ],
   "source": [
    "debug_files = {}\n",
    "for i, structure in enumerate(os.walk(base_data_path)):\n",
    "    root, dirs, files = structure\n",
    "    for file in files:\n",
    "        if file.endswith(\".pkl\"):            \n",
    "            debug_files[i] = os.path.join(root, file)\n",
    "[\"{} --> {}\".format(key, value) for key, value in debug_files.items()]"
   ]
  },
  {
   "cell_type": "code",
   "execution_count": 107,
   "metadata": {},
   "outputs": [],
   "source": [
    "model_indx =0\n",
    "my_dict = load_from_pickle(os.path.join(base_data_path, \n",
    "                                        debug_files[model_indx]))\n",
    "num_of_epochs = my_dict['epochs']"
   ]
  },
  {
   "cell_type": "code",
   "execution_count": 108,
   "metadata": {
    "scrolled": true
   },
   "outputs": [
    {
     "data": {
      "text/html": [
       "<div>\n",
       "<style scoped>\n",
       "    .dataframe tbody tr th:only-of-type {\n",
       "        vertical-align: middle;\n",
       "    }\n",
       "\n",
       "    .dataframe tbody tr th {\n",
       "        vertical-align: top;\n",
       "    }\n",
       "\n",
       "    .dataframe thead th {\n",
       "        text-align: right;\n",
       "    }\n",
       "</style>\n",
       "<table border=\"1\" class=\"dataframe\">\n",
       "  <thead>\n",
       "    <tr style=\"text-align: right;\">\n",
       "      <th></th>\n",
       "      <th>eval_metric_name</th>\n",
       "      <th>1</th>\n",
       "      <th>2</th>\n",
       "      <th>3</th>\n",
       "      <th>5</th>\n",
       "      <th>10</th>\n",
       "      <th>20</th>\n",
       "      <th>50</th>\n",
       "      <th>all</th>\n",
       "    </tr>\n",
       "  </thead>\n",
       "  <tbody>\n",
       "    <tr>\n",
       "      <th>0</th>\n",
       "      <td>map</td>\n",
       "      <td>0.453398</td>\n",
       "      <td>0.516019</td>\n",
       "      <td>0.535113</td>\n",
       "      <td>0.549822</td>\n",
       "      <td>0.559959</td>\n",
       "      <td>0.564501</td>\n",
       "      <td>0.566202</td>\n",
       "      <td>-</td>\n",
       "    </tr>\n",
       "    <tr>\n",
       "      <th>1</th>\n",
       "      <td>recall</td>\n",
       "      <td>0.453398</td>\n",
       "      <td>0.578641</td>\n",
       "      <td>0.635922</td>\n",
       "      <td>0.7</td>\n",
       "      <td>0.774757</td>\n",
       "      <td>0.839806</td>\n",
       "      <td>0.891262</td>\n",
       "      <td>-</td>\n",
       "    </tr>\n",
       "    <tr>\n",
       "      <th>2</th>\n",
       "      <td>mrp</td>\n",
       "      <td>-</td>\n",
       "      <td>-</td>\n",
       "      <td>-</td>\n",
       "      <td>-</td>\n",
       "      <td>-</td>\n",
       "      <td>-</td>\n",
       "      <td>-</td>\n",
       "      <td>0.566902</td>\n",
       "    </tr>\n",
       "    <tr>\n",
       "      <th>3</th>\n",
       "      <td>precision</td>\n",
       "      <td>0.453398</td>\n",
       "      <td>0.28932</td>\n",
       "      <td>0.211974</td>\n",
       "      <td>0.14</td>\n",
       "      <td>0.0774757</td>\n",
       "      <td>0.0419903</td>\n",
       "      <td>0.0178252</td>\n",
       "      <td>-</td>\n",
       "    </tr>\n",
       "    <tr>\n",
       "      <th>4</th>\n",
       "      <td>dcg</td>\n",
       "      <td>0.453398</td>\n",
       "      <td>0.532417</td>\n",
       "      <td>0.561058</td>\n",
       "      <td>0.587506</td>\n",
       "      <td>0.611833</td>\n",
       "      <td>0.628317</td>\n",
       "      <td>0.638624</td>\n",
       "      <td>-</td>\n",
       "    </tr>\n",
       "    <tr>\n",
       "      <th>5</th>\n",
       "      <td>arp</td>\n",
       "      <td>-</td>\n",
       "      <td>-</td>\n",
       "      <td>-</td>\n",
       "      <td>-</td>\n",
       "      <td>-</td>\n",
       "      <td>-</td>\n",
       "      <td>-</td>\n",
       "      <td>36.7126</td>\n",
       "    </tr>\n",
       "    <tr>\n",
       "      <th>6</th>\n",
       "      <td>ndcg</td>\n",
       "      <td>0.453398</td>\n",
       "      <td>0.532417</td>\n",
       "      <td>0.561058</td>\n",
       "      <td>0.587506</td>\n",
       "      <td>0.611833</td>\n",
       "      <td>0.628317</td>\n",
       "      <td>0.638624</td>\n",
       "      <td>-</td>\n",
       "    </tr>\n",
       "  </tbody>\n",
       "</table>\n",
       "</div>"
      ],
      "text/plain": [
       "  eval_metric_name         1         2         3         5         10  \\\n",
       "0              map  0.453398  0.516019  0.535113  0.549822   0.559959   \n",
       "1           recall  0.453398  0.578641  0.635922       0.7   0.774757   \n",
       "2              mrp         -         -         -         -          -   \n",
       "3        precision  0.453398   0.28932  0.211974      0.14  0.0774757   \n",
       "4              dcg  0.453398  0.532417  0.561058  0.587506   0.611833   \n",
       "5              arp         -         -         -         -          -   \n",
       "6             ndcg  0.453398  0.532417  0.561058  0.587506   0.611833   \n",
       "\n",
       "          20         50       all  \n",
       "0   0.564501   0.566202         -  \n",
       "1   0.839806   0.891262         -  \n",
       "2          -          -  0.566902  \n",
       "3  0.0419903  0.0178252         -  \n",
       "4   0.628317   0.638624         -  \n",
       "5          -          -   36.7126  \n",
       "6   0.628317   0.638624         -  "
      ]
     },
     "execution_count": 108,
     "metadata": {},
     "output_type": "execute_result"
    }
   ],
   "source": [
    "eval_metrics = ['recall', 'precision', 'map', 'dcg', 'ndcg', 'arp', 'mrp']\n",
    "top_k = ['eval_metric_name', '1', '2', '3', '5', '10', '20', '50', 'all']\n",
    "\n",
    "#extract feature names and k into the hiarchical format\n",
    "eval_metrics = {}\n",
    "for key, value in my_dict['1'].items():\n",
    "    _ = key.split('_')\n",
    "    fn_name = _[0]\n",
    "    k = _[1]\n",
    "    if fn_name not in eval_metrics:\n",
    "        eval_metrics[fn_name]={}\n",
    "    if k == 'all':\n",
    "        eval_metrics[fn_name][1000] = value\n",
    "    else:\n",
    "        eval_metrics[fn_name][int(k)] = value\n",
    "\n",
    "# now place them to the dataframes\n",
    "dataset = []\n",
    "for fn_name, ks in eval_metrics.items():\n",
    "    ks_ = collections.OrderedDict(sorted(ks.items()))\n",
    "    row = []\n",
    "    for k in top_k:\n",
    "        if k == 'eval_metric_name':\n",
    "            row.append(fn_name)\n",
    "            continue\n",
    "        if k == 'all':\n",
    "            _k = 1000\n",
    "        else:\n",
    "            _k = int(k)\n",
    "        if _k in ks_:\n",
    "            row.append(ks[int(_k)])\n",
    "        else:\n",
    "            row.append('-')\n",
    "    dataset.append(row)\n",
    "    #print(fn_name)\n",
    "df_dataset = pd.DataFrame(data=dataset, columns=top_k)\n",
    "df_dataset"
   ]
  },
  {
   "cell_type": "code",
   "execution_count": 64,
   "metadata": {},
   "outputs": [
    {
     "data": {
      "text/plain": [
       "dict_items([('ndcg_3', 0.37390348), ('map_2', 0.35333333333333333), ('dcg_2', 0.36040348), ('dcg_5', 0.38744393), ('recall_5', 0.44033333333333335), ('ndcg_10', 0.40131763), ('map_10', 0.3755247354497353), ('ndcg_50', 0.42750308), ('precision_10', 0.04833333333333333), ('recall_10', 0.48333333333333334), ('map_20', 0.37906500779635455), ('precision_3', 0.13577777777777778), ('map_5', 0.3698166666666666), ('precision_20', 0.02666666666666667), ('recall_1', 0.3263333333333333), ('map_3', 0.3623333333333334), ('ndcg_20', 0.4140497), ('dcg_1', 0.32633334), ('mrp_all', 0.3829111), ('recall_2', 0.38033333333333336), ('ndcg_2', 0.36040348), ('precision_2', 0.19016666666666668), ('ndcg_5', 0.38744393), ('recall_20', 0.5333333333333333), ('precision_50', 0.012013333333333334), ('dcg_50', 0.42750308), ('ndcg_1', 0.32633334), ('dcg_20', 0.4140497), ('dcg_10', 0.40131763), ('precision_5', 0.08806666666666667), ('map_1', 0.3263333333333333), ('recall_3', 0.4073333333333333), ('dcg_3', 0.37390348), ('recall_50', 0.6006666666666667), ('map_50', 0.3812627148969057), ('precision_1', 0.3263333333333333), ('arp_all', 335.42932)])"
      ]
     },
     "execution_count": 64,
     "metadata": {},
     "output_type": "execute_result"
    }
   ],
   "source": [
    "my_dict['1'].items()"
   ]
  }
 ],
 "metadata": {
  "kernelspec": {
   "display_name": "Python 3",
   "language": "python",
   "name": "python3"
  },
  "language_info": {
   "codemirror_mode": {
    "name": "ipython",
    "version": 3
   },
   "file_extension": ".py",
   "mimetype": "text/x-python",
   "name": "python",
   "nbconvert_exporter": "python",
   "pygments_lexer": "ipython3",
   "version": "3.5.2"
  }
 },
 "nbformat": 4,
 "nbformat_minor": 1
}
