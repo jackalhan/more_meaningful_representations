{
 "cells": [
  {
   "cell_type": "code",
   "execution_count": 135,
   "metadata": {},
   "outputs": [
    {
     "data": {
      "text/html": [
       "<script>requirejs.config({paths: { 'plotly': ['https://cdn.plot.ly/plotly-latest.min']},});if(!window.Plotly) {{require(['plotly'],function(plotly) {window.Plotly=plotly;});}}</script>"
      ],
      "text/vnd.plotly.v1+html": [
       "<script>requirejs.config({paths: { 'plotly': ['https://cdn.plot.ly/plotly-latest.min']},});if(!window.Plotly) {{require(['plotly'],function(plotly) {window.Plotly=plotly;});}}</script>"
      ]
     },
     "metadata": {},
     "output_type": "display_data"
    }
   ],
   "source": [
    "import os\n",
    "import sys\n",
    "path = !echo ${VIRTUAL_ENV}\n",
    "path = os.path.join(path[0], '..')\n",
    "sys.path.append(path)\n",
    "from helper.utils import load_from_pickle, load_from_shelve\n",
    "import numpy as np\n",
    "import pandas as pd\n",
    "from plotly import tools\n",
    "import plotly as py\n",
    "import plotly.graph_objs as go\n",
    "#import impywidgets as widget\n",
    "py.offline.init_notebook_mode(connected=True)"
   ]
  },
  {
   "cell_type": "code",
   "execution_count": 136,
   "metadata": {},
   "outputs": [],
   "source": [
    "base_data_path = \"/home/jackalhan/Development/github/more_meaningful_representations/squad/train/improvement/model_performances/subset_5000\""
   ]
  },
  {
   "cell_type": "code",
   "execution_count": 249,
   "metadata": {},
   "outputs": [],
   "source": [
    "debug_files = {}\n",
    "for root, dirs, files in os.walk(base_data_path):\n",
    "    for file in files:\n",
    "        if file.endswith(\".pkl\"):            \n",
    "            debug_files[root.rpartition('/')[2]] = os.path.join(root, file)"
   ]
  },
  {
   "cell_type": "code",
   "execution_count": 250,
   "metadata": {},
   "outputs": [
    {
     "data": {
      "text/plain": [
       "{'model_1_layers_1_epoch_10_mar_1_sf_0.045_wd_0.001_lr_0.001_dim_1024_keep_no_seed_66': '/home/jackalhan/Development/github/more_meaningful_representations/squad/train/improvement/model_performances/subset_5000/model_1_layers_1_epoch_10_mar_1_sf_0.045_wd_0.001_lr_0.001_dim_1024_keep_no_seed_66/debug_dict.pkl',\n",
       " 'model_2_layers_1_epoch_10_mar_1_sf_0.045_wd_0.001_lr_0.001_dim_2048_keep_1_seed_66': '/home/jackalhan/Development/github/more_meaningful_representations/squad/train/improvement/model_performances/subset_5000/model_2_layers_1_epoch_10_mar_1_sf_0.045_wd_0.001_lr_0.001_dim_2048_keep_1_seed_66/debug_dict.pkl'}"
      ]
     },
     "execution_count": 250,
     "metadata": {},
     "output_type": "execute_result"
    }
   ],
   "source": [
    "debug_files"
   ]
  },
  {
   "cell_type": "code",
   "execution_count": 251,
   "metadata": {},
   "outputs": [],
   "source": [
    "model_name = \"model_2_layers_1_epoch_10_mar_1_sf_0.045_wd_0.001_lr_0.001_dim_2048_keep_1_seed_66\"\n",
    "my_dict = load_from_pickle(os.path.join(base_data_path, \n",
    "                                        debug_files[model_name]))\n",
    "num_of_epochs = my_dict['epochs']\n",
    "number_of_sample_question_size = 15\n",
    "# temp_ids = np.arange(my_dict['actual_labels'].shape[0])\n",
    "# np.random.shuffle(temp_ids)\n",
    "# question_ids = temp_ids[:number_of_sample_question_size]"
   ]
  },
  {
   "cell_type": "code",
   "execution_count": 252,
   "metadata": {},
   "outputs": [
    {
     "data": {
      "application/vnd.plotly.v1+json": {
       "data": [
        {
         "mode": "lines+markers",
         "name": "Top top_1",
         "type": "scatter",
         "x": [
          0,
          1,
          2,
          3,
          4,
          5,
          6,
          7,
          8,
          9,
          10
         ],
         "y": [
          0.3372,
          0.3232,
          0.308,
          0.3032,
          0.2938,
          0.2898,
          0.2844,
          0.279,
          0.2748,
          0.2714,
          0.268
         ]
        },
        {
         "mode": "lines+markers",
         "name": "Top top_2",
         "type": "scatter",
         "x": [
          0,
          1,
          2,
          3,
          4,
          5,
          6,
          7,
          8,
          9,
          10
         ],
         "y": [
          0.4204,
          0.4046,
          0.386,
          0.38,
          0.3716,
          0.3642,
          0.3558,
          0.3522,
          0.349,
          0.346,
          0.3402
         ]
        },
        {
         "mode": "lines+markers",
         "name": "Top top_5",
         "type": "scatter",
         "x": [
          0,
          1,
          2,
          3,
          4,
          5,
          6,
          7,
          8,
          9,
          10
         ],
         "y": [
          0.5266,
          0.4986,
          0.4826,
          0.4772,
          0.4696,
          0.4638,
          0.4556,
          0.448,
          0.4426,
          0.439,
          0.4322
         ]
        },
        {
         "mode": "lines+markers",
         "name": "Top top_10",
         "type": "scatter",
         "x": [
          0,
          1,
          2,
          3,
          4,
          5,
          6,
          7,
          8,
          9,
          10
         ],
         "y": [
          0.597,
          0.5718,
          0.5514,
          0.5428,
          0.5332,
          0.526,
          0.521,
          0.5158,
          0.511,
          0.5054,
          0.4998
         ]
        },
        {
         "mode": "lines+markers",
         "name": "Top top_20",
         "type": "scatter",
         "x": [
          0,
          1,
          2,
          3,
          4,
          5,
          6,
          7,
          8,
          9,
          10
         ],
         "y": [
          0.6724,
          0.6448,
          0.6258,
          0.6146,
          0.6044,
          0.5984,
          0.5904,
          0.585,
          0.5794,
          0.5756,
          0.57
         ]
        },
        {
         "mode": "lines+markers",
         "name": "Top top_50",
         "type": "scatter",
         "x": [
          0,
          1,
          2,
          3,
          4,
          5,
          6,
          7,
          8,
          9,
          10
         ],
         "y": [
          0.759,
          0.7262,
          0.7076,
          0.6988,
          0.6908,
          0.6858,
          0.6786,
          0.6738,
          0.669,
          0.6626,
          0.6584
         ]
        }
       ],
       "layout": {
        "title": "How the recalls at top n are changing for each epoch",
        "xaxis": {
         "title": "Epochs"
        },
        "yaxis": {
         "title": "Recall Values"
        }
       }
      },
      "text/html": [
       "<div id=\"539b9913-028a-48f1-b6e3-67df8cdb3064\" style=\"height: 525px; width: 100%;\" class=\"plotly-graph-div\"></div><script type=\"text/javascript\">require([\"plotly\"], function(Plotly) { window.PLOTLYENV=window.PLOTLYENV || {};window.PLOTLYENV.BASE_URL=\"https://plot.ly\";Plotly.newPlot(\"539b9913-028a-48f1-b6e3-67df8cdb3064\", [{\"name\": \"Top top_1\", \"type\": \"scatter\", \"x\": [0, 1, 2, 3, 4, 5, 6, 7, 8, 9, 10], \"y\": [0.3372, 0.3232, 0.308, 0.3032, 0.2938, 0.2898, 0.2844, 0.279, 0.2748, 0.2714, 0.268], \"mode\": \"lines+markers\"}, {\"name\": \"Top top_2\", \"type\": \"scatter\", \"x\": [0, 1, 2, 3, 4, 5, 6, 7, 8, 9, 10], \"y\": [0.4204, 0.4046, 0.386, 0.38, 0.3716, 0.3642, 0.3558, 0.3522, 0.349, 0.346, 0.3402], \"mode\": \"lines+markers\"}, {\"name\": \"Top top_5\", \"type\": \"scatter\", \"x\": [0, 1, 2, 3, 4, 5, 6, 7, 8, 9, 10], \"y\": [0.5266, 0.4986, 0.4826, 0.4772, 0.4696, 0.4638, 0.4556, 0.448, 0.4426, 0.439, 0.4322], \"mode\": \"lines+markers\"}, {\"name\": \"Top top_10\", \"type\": \"scatter\", \"x\": [0, 1, 2, 3, 4, 5, 6, 7, 8, 9, 10], \"y\": [0.597, 0.5718, 0.5514, 0.5428, 0.5332, 0.526, 0.521, 0.5158, 0.511, 0.5054, 0.4998], \"mode\": \"lines+markers\"}, {\"name\": \"Top top_20\", \"type\": \"scatter\", \"x\": [0, 1, 2, 3, 4, 5, 6, 7, 8, 9, 10], \"y\": [0.6724, 0.6448, 0.6258, 0.6146, 0.6044, 0.5984, 0.5904, 0.585, 0.5794, 0.5756, 0.57], \"mode\": \"lines+markers\"}, {\"name\": \"Top top_50\", \"type\": \"scatter\", \"x\": [0, 1, 2, 3, 4, 5, 6, 7, 8, 9, 10], \"y\": [0.759, 0.7262, 0.7076, 0.6988, 0.6908, 0.6858, 0.6786, 0.6738, 0.669, 0.6626, 0.6584], \"mode\": \"lines+markers\"}], {\"yaxis\": {\"title\": \"Recall Values\"}, \"xaxis\": {\"title\": \"Epochs\"}, \"title\": \"How the recalls at top n are changing for each epoch\"}, {\"linkText\": \"Export to plot.ly\", \"showLink\": true})});</script>"
      ],
      "text/vnd.plotly.v1+html": [
       "<div id=\"539b9913-028a-48f1-b6e3-67df8cdb3064\" style=\"height: 525px; width: 100%;\" class=\"plotly-graph-div\"></div><script type=\"text/javascript\">require([\"plotly\"], function(Plotly) { window.PLOTLYENV=window.PLOTLYENV || {};window.PLOTLYENV.BASE_URL=\"https://plot.ly\";Plotly.newPlot(\"539b9913-028a-48f1-b6e3-67df8cdb3064\", [{\"name\": \"Top top_1\", \"type\": \"scatter\", \"x\": [0, 1, 2, 3, 4, 5, 6, 7, 8, 9, 10], \"y\": [0.3372, 0.3232, 0.308, 0.3032, 0.2938, 0.2898, 0.2844, 0.279, 0.2748, 0.2714, 0.268], \"mode\": \"lines+markers\"}, {\"name\": \"Top top_2\", \"type\": \"scatter\", \"x\": [0, 1, 2, 3, 4, 5, 6, 7, 8, 9, 10], \"y\": [0.4204, 0.4046, 0.386, 0.38, 0.3716, 0.3642, 0.3558, 0.3522, 0.349, 0.346, 0.3402], \"mode\": \"lines+markers\"}, {\"name\": \"Top top_5\", \"type\": \"scatter\", \"x\": [0, 1, 2, 3, 4, 5, 6, 7, 8, 9, 10], \"y\": [0.5266, 0.4986, 0.4826, 0.4772, 0.4696, 0.4638, 0.4556, 0.448, 0.4426, 0.439, 0.4322], \"mode\": \"lines+markers\"}, {\"name\": \"Top top_10\", \"type\": \"scatter\", \"x\": [0, 1, 2, 3, 4, 5, 6, 7, 8, 9, 10], \"y\": [0.597, 0.5718, 0.5514, 0.5428, 0.5332, 0.526, 0.521, 0.5158, 0.511, 0.5054, 0.4998], \"mode\": \"lines+markers\"}, {\"name\": \"Top top_20\", \"type\": \"scatter\", \"x\": [0, 1, 2, 3, 4, 5, 6, 7, 8, 9, 10], \"y\": [0.6724, 0.6448, 0.6258, 0.6146, 0.6044, 0.5984, 0.5904, 0.585, 0.5794, 0.5756, 0.57], \"mode\": \"lines+markers\"}, {\"name\": \"Top top_50\", \"type\": \"scatter\", \"x\": [0, 1, 2, 3, 4, 5, 6, 7, 8, 9, 10], \"y\": [0.759, 0.7262, 0.7076, 0.6988, 0.6908, 0.6858, 0.6786, 0.6738, 0.669, 0.6626, 0.6584], \"mode\": \"lines+markers\"}], {\"yaxis\": {\"title\": \"Recall Values\"}, \"xaxis\": {\"title\": \"Epochs\"}, \"title\": \"How the recalls at top n are changing for each epoch\"}, {\"linkText\": \"Export to plot.ly\", \"showLink\": true})});</script>"
      ]
     },
     "metadata": {},
     "output_type": "display_data"
    }
   ],
   "source": [
    "\"\"\"\n",
    "How the recalls at top n are changing for each epoch \n",
    "\"\"\"\n",
    "\n",
    "data_recalls = []\n",
    "sub_list = []\n",
    "sub_list.append(0)\n",
    "sub_list.extend([x for x in my_dict['normalized_recalls_before_model']])\n",
    "data_recalls.append(sub_list)\n",
    "for i in range(1,num_of_epochs+1):\n",
    "    sub_list = []\n",
    "    sub_list.append(i)\n",
    "    sub_list.extend([x for x in my_dict[str(i)]['normalized_recalls_after_model']])\n",
    "    data_recalls.append(sub_list)\n",
    "df_data_recalls = pd.DataFrame(data_recalls, columns=['epoch', 'top_1', 'top_2', 'top_5'\n",
    "                                                   ,'top_10', 'top_20', 'top_50'])\n",
    "traces = []\n",
    "for c in df_data_recalls.columns[1:]:\n",
    "    trace = go.Scatter(\n",
    "    x = df_data_recalls.index,\n",
    "    y = df_data_recalls[c],\n",
    "    mode = 'lines+markers',\n",
    "    name = 'Top {}'.format(c))\n",
    "    traces.append(trace)\n",
    "\n",
    "layout = go.Layout(\n",
    "    title='How the recalls at top n are changing for each epoch',\n",
    "    xaxis=dict(\n",
    "        title='Epochs'\n",
    "    ),\n",
    "    yaxis=dict(\n",
    "        title='Recall Values'\n",
    "    )\n",
    ")\n",
    "fig =  go.Figure(data=traces, layout=layout)\n",
    "py.offline.iplot(fig)"
   ]
  },
  {
   "cell_type": "code",
   "execution_count": 254,
   "metadata": {},
   "outputs": [
    {
     "data": {
      "application/vnd.plotly.v1+json": {
       "data": [
        {
         "mode": "lines+markers",
         "name": "Question 381",
         "type": "scatter",
         "x": [
          0,
          1,
          2,
          3,
          4,
          5,
          6,
          7,
          8,
          9,
          10
         ],
         "y": [
          1,
          0,
          0,
          0,
          0,
          0,
          0,
          0,
          0,
          0,
          0
         ]
        },
        {
         "mode": "lines+markers",
         "name": "Question 828",
         "type": "scatter",
         "x": [
          0,
          1,
          2,
          3,
          4,
          5,
          6,
          7,
          8,
          9,
          10
         ],
         "y": [
          1,
          1,
          1,
          1,
          0,
          0,
          0,
          0,
          0,
          0,
          0
         ]
        },
        {
         "mode": "lines+markers",
         "name": "Question 3625",
         "type": "scatter",
         "x": [
          0,
          1,
          2,
          3,
          4,
          5,
          6,
          7,
          8,
          9,
          10
         ],
         "y": [
          1,
          1,
          1,
          1,
          0,
          0,
          0,
          0,
          0,
          0,
          0
         ]
        },
        {
         "mode": "lines+markers",
         "name": "Question 4652",
         "type": "scatter",
         "x": [
          0,
          1,
          2,
          3,
          4,
          5,
          6,
          7,
          8,
          9,
          10
         ],
         "y": [
          1,
          1,
          1,
          1,
          1,
          1,
          1,
          1,
          1,
          1,
          0
         ]
        },
        {
         "mode": "lines+markers",
         "name": "Question 1773",
         "type": "scatter",
         "x": [
          0,
          1,
          2,
          3,
          4,
          5,
          6,
          7,
          8,
          9,
          10
         ],
         "y": [
          1,
          0,
          0,
          0,
          0,
          0,
          0,
          0,
          0,
          0,
          0
         ]
        },
        {
         "mode": "lines+markers",
         "name": "Question 2735",
         "type": "scatter",
         "x": [
          0,
          1,
          2,
          3,
          4,
          5,
          6,
          7,
          8,
          9,
          10
         ],
         "y": [
          1,
          1,
          0,
          0,
          0,
          0,
          0,
          0,
          0,
          0,
          0
         ]
        }
       ],
       "layout": {
        "title": "Questions\" Paragraphs are still in their top 1 closest neighbours",
        "xaxis": {
         "title": "Epochs"
        },
        "yaxis": {
         "title": "Yes or No"
        }
       }
      },
      "text/html": [
       "<div id=\"2788f939-9fad-46da-a0af-59d57b430365\" style=\"height: 525px; width: 100%;\" class=\"plotly-graph-div\"></div><script type=\"text/javascript\">require([\"plotly\"], function(Plotly) { window.PLOTLYENV=window.PLOTLYENV || {};window.PLOTLYENV.BASE_URL=\"https://plot.ly\";Plotly.newPlot(\"2788f939-9fad-46da-a0af-59d57b430365\", [{\"name\": \"Question 381\", \"type\": \"scatter\", \"x\": [0, 1, 2, 3, 4, 5, 6, 7, 8, 9, 10], \"y\": [1, 0, 0, 0, 0, 0, 0, 0, 0, 0, 0], \"mode\": \"lines+markers\"}, {\"name\": \"Question 828\", \"type\": \"scatter\", \"x\": [0, 1, 2, 3, 4, 5, 6, 7, 8, 9, 10], \"y\": [1, 1, 1, 1, 0, 0, 0, 0, 0, 0, 0], \"mode\": \"lines+markers\"}, {\"name\": \"Question 3625\", \"type\": \"scatter\", \"x\": [0, 1, 2, 3, 4, 5, 6, 7, 8, 9, 10], \"y\": [1, 1, 1, 1, 0, 0, 0, 0, 0, 0, 0], \"mode\": \"lines+markers\"}, {\"name\": \"Question 4652\", \"type\": \"scatter\", \"x\": [0, 1, 2, 3, 4, 5, 6, 7, 8, 9, 10], \"y\": [1, 1, 1, 1, 1, 1, 1, 1, 1, 1, 0], \"mode\": \"lines+markers\"}, {\"name\": \"Question 1773\", \"type\": \"scatter\", \"x\": [0, 1, 2, 3, 4, 5, 6, 7, 8, 9, 10], \"y\": [1, 0, 0, 0, 0, 0, 0, 0, 0, 0, 0], \"mode\": \"lines+markers\"}, {\"name\": \"Question 2735\", \"type\": \"scatter\", \"x\": [0, 1, 2, 3, 4, 5, 6, 7, 8, 9, 10], \"y\": [1, 1, 0, 0, 0, 0, 0, 0, 0, 0, 0], \"mode\": \"lines+markers\"}], {\"yaxis\": {\"title\": \"Yes or No\"}, \"xaxis\": {\"title\": \"Epochs\"}, \"title\": \"Questions\\\" Paragraphs are still in their top 1 closest neighbours\"}, {\"linkText\": \"Export to plot.ly\", \"showLink\": true})});</script>"
      ],
      "text/vnd.plotly.v1+html": [
       "<div id=\"2788f939-9fad-46da-a0af-59d57b430365\" style=\"height: 525px; width: 100%;\" class=\"plotly-graph-div\"></div><script type=\"text/javascript\">require([\"plotly\"], function(Plotly) { window.PLOTLYENV=window.PLOTLYENV || {};window.PLOTLYENV.BASE_URL=\"https://plot.ly\";Plotly.newPlot(\"2788f939-9fad-46da-a0af-59d57b430365\", [{\"name\": \"Question 381\", \"type\": \"scatter\", \"x\": [0, 1, 2, 3, 4, 5, 6, 7, 8, 9, 10], \"y\": [1, 0, 0, 0, 0, 0, 0, 0, 0, 0, 0], \"mode\": \"lines+markers\"}, {\"name\": \"Question 828\", \"type\": \"scatter\", \"x\": [0, 1, 2, 3, 4, 5, 6, 7, 8, 9, 10], \"y\": [1, 1, 1, 1, 0, 0, 0, 0, 0, 0, 0], \"mode\": \"lines+markers\"}, {\"name\": \"Question 3625\", \"type\": \"scatter\", \"x\": [0, 1, 2, 3, 4, 5, 6, 7, 8, 9, 10], \"y\": [1, 1, 1, 1, 0, 0, 0, 0, 0, 0, 0], \"mode\": \"lines+markers\"}, {\"name\": \"Question 4652\", \"type\": \"scatter\", \"x\": [0, 1, 2, 3, 4, 5, 6, 7, 8, 9, 10], \"y\": [1, 1, 1, 1, 1, 1, 1, 1, 1, 1, 0], \"mode\": \"lines+markers\"}, {\"name\": \"Question 1773\", \"type\": \"scatter\", \"x\": [0, 1, 2, 3, 4, 5, 6, 7, 8, 9, 10], \"y\": [1, 0, 0, 0, 0, 0, 0, 0, 0, 0, 0], \"mode\": \"lines+markers\"}, {\"name\": \"Question 2735\", \"type\": \"scatter\", \"x\": [0, 1, 2, 3, 4, 5, 6, 7, 8, 9, 10], \"y\": [1, 1, 0, 0, 0, 0, 0, 0, 0, 0, 0], \"mode\": \"lines+markers\"}], {\"yaxis\": {\"title\": \"Yes or No\"}, \"xaxis\": {\"title\": \"Epochs\"}, \"title\": \"Questions\\\" Paragraphs are still in their top 1 closest neighbours\"}, {\"linkText\": \"Export to plot.ly\", \"showLink\": true})});</script>"
      ]
     },
     "metadata": {},
     "output_type": "display_data"
    },
    {
     "name": "stdout",
     "output_type": "stream",
     "text": [
      "Problematic Questions\n"
     ]
    },
    {
     "data": {
      "text/plain": [
       "[381, 828, 3625, 4652, 1773, 2735]"
      ]
     },
     "execution_count": 254,
     "metadata": {},
     "output_type": "execute_result"
    }
   ],
   "source": [
    "\"\"\"\n",
    "which of questions are getting worse (moving farther from its ground-truth) through subsequent epochs.\n",
    "\"\"\"\n",
    "\n",
    "k = 1\n",
    "good_questions_at_top_1_idx = np.where(my_dict['top_k'][str(k)]['are_founds_before'] == 1)\n",
    "np.random.shuffle(good_questions_at_top_1_idx[0])\n",
    "# IN ORDER TO SELECT RANDOM QUESTIONS\n",
    "#question_ids = good_questions_at_top_1_idx[0][:number_of_sample_question_size]\n",
    "\n",
    "# IN ORDER TO ENTER QUESTIONS\n",
    "question_ids = [381, 828, 3625, 4652, 1773, 2735]\n",
    "\n",
    "good_questions_at_top_1_are_founds = my_dict['top_k'][str(k)]['are_founds_before'][question_ids]\n",
    "good_questions_at_top_1_labels = my_dict['top_k'][str(k)]['closest_labels_before'][question_ids]\n",
    "good_questions_at_top_1_distances = my_dict['top_k'][str(k)]['distances_before'][question_ids]\n",
    "\n",
    "still_good_question = pd.DataFrame()\n",
    "still_good_question[0]= np.reshape(good_questions_at_top_1_are_founds, [-1,])\n",
    "for i in range(1,num_of_epochs+1):\n",
    "    still_good_question[i] = np.reshape(my_dict[str(i)]['top_k'][str(k)]['are_founds_after'][question_ids], [-1,])\n",
    "still_good_question = still_good_question.T\n",
    "still_good_question.columns = [question_ids[col_name] for col_name in still_good_question.columns]\n",
    "data = []\n",
    "problematic_questions = []\n",
    "for q in question_ids:\n",
    "    _problematic_question = np.where(still_good_question[q] == 0)[0]\n",
    "    _problematic_question = still_good_question[q][_problematic_question]\n",
    "    if _problematic_question.shape[0] != 0:\n",
    "        problematic_questions.append(_problematic_question.name)\n",
    "    trace = go.Scatter(\n",
    "    x = still_good_question.index,\n",
    "    y = still_good_question[q],\n",
    "    mode = 'lines+markers',\n",
    "    name = 'Question {}'.format(q))\n",
    "    data.append(trace)\n",
    "\n",
    "layout = go.Layout(\n",
    "    title='Questions\" Paragraphs are still in their top {} closest neighbours'.format(k),\n",
    "    xaxis=dict(\n",
    "        title='Epochs'\n",
    "    ),\n",
    "    yaxis=dict(\n",
    "        title='Yes or No'\n",
    "    )\n",
    ")\n",
    "fig =  go.Figure(data=data, layout=layout)\n",
    "py.offline.iplot(fig)\n",
    "print('Problematic Questions')\n",
    "[_p for _p in problematic_questions]"
   ]
  },
  {
   "cell_type": "code",
   "execution_count": 255,
   "metadata": {},
   "outputs": [
    {
     "data": {
      "application/vnd.plotly.v1+json": {
       "data": [
        {
         "hoverinfo": "ytext",
         "mode": "lines+markers",
         "name": "Question 381",
         "text": [
          8282,
          267,
          267,
          267,
          267,
          267,
          267,
          267,
          13700,
          13700,
          13700
         ],
         "type": "scatter",
         "x": [
          0,
          1,
          2,
          3,
          4,
          5,
          6,
          7,
          8,
          9,
          10
         ],
         "y": [
          1.1303666830062866,
          1.043530821800232,
          1.0283674001693726,
          1.0216906070709229,
          1.015671968460083,
          1.010877013206482,
          1.0062144994735718,
          1.0028799772262573,
          0.9998770356178284,
          0.9954120516777039,
          0.9909214377403259
         ]
        },
        {
         "hoverinfo": "ytext",
         "mode": "lines+markers",
         "name": "Question 828",
         "text": [
          14973,
          14973,
          14973,
          14973,
          12818,
          12818,
          12818,
          12818,
          12818,
          12818,
          12818
         ],
         "type": "scatter",
         "x": [
          0,
          1,
          2,
          3,
          4,
          5,
          6,
          7,
          8,
          9,
          10
         ],
         "y": [
          0.9921040534973145,
          0.934906005859375,
          0.9286882877349854,
          0.926128625869751,
          0.9207544326782227,
          0.9124366044998169,
          0.9058080315589905,
          0.9004061818122864,
          0.89576655626297,
          0.89213627576828,
          0.888615608215332
         ]
        },
        {
         "hoverinfo": "ytext",
         "mode": "lines+markers",
         "name": "Question 3625",
         "text": [
          14946,
          14946,
          14946,
          14946,
          6631,
          6631,
          6631,
          6631,
          6631,
          6631,
          6631
         ],
         "type": "scatter",
         "x": [
          0,
          1,
          2,
          3,
          4,
          5,
          6,
          7,
          8,
          9,
          10
         ],
         "y": [
          1.0518085956573486,
          0.9960969090461731,
          0.9876425862312317,
          0.9829024076461792,
          0.9769629836082458,
          0.9696090817451477,
          0.9633844494819641,
          0.9587562680244446,
          0.954796552658081,
          0.9524425268173218,
          0.9497979283332825
         ]
        },
        {
         "hoverinfo": "ytext",
         "mode": "lines+markers",
         "name": "Question 4652",
         "text": [
          3397,
          3397,
          3397,
          3397,
          3397,
          3397,
          3397,
          3397,
          3397,
          3397,
          5186
         ],
         "type": "scatter",
         "x": [
          0,
          1,
          2,
          3,
          4,
          5,
          6,
          7,
          8,
          9,
          10
         ],
         "y": [
          0.9429203867912292,
          0.9213868975639343,
          0.9223180413246155,
          0.924629807472229,
          0.9277132749557495,
          0.9301825761795044,
          0.9324318766593933,
          0.9342126250267029,
          0.9361693859100342,
          0.9375926852226257,
          0.9356411099433899
         ]
        },
        {
         "hoverinfo": "ytext",
         "mode": "lines+markers",
         "name": "Question 1773",
         "text": [
          7357,
          9795,
          9795,
          9795,
          9795,
          9795,
          9795,
          9795,
          9795,
          9795,
          9795
         ],
         "type": "scatter",
         "x": [
          0,
          1,
          2,
          3,
          4,
          5,
          6,
          7,
          8,
          9,
          10
         ],
         "y": [
          1.0468354225158691,
          0.94842129945755,
          0.9352661371231079,
          0.9273311495780945,
          0.9197921752929688,
          0.9140388369560242,
          0.9086572527885437,
          0.9045254588127136,
          0.9006574749946594,
          0.8982419371604919,
          0.8951591849327087
         ]
        },
        {
         "hoverinfo": "ytext",
         "mode": "lines+markers",
         "name": "Question 2735",
         "text": [
          18012,
          18012,
          18658,
          18658,
          18658,
          18658,
          18658,
          18658,
          18658,
          18658,
          18658
         ],
         "type": "scatter",
         "x": [
          0,
          1,
          2,
          3,
          4,
          5,
          6,
          7,
          8,
          9,
          10
         ],
         "y": [
          1.0795434713363647,
          1.0171095132827759,
          1.0072144269943237,
          0.9996762871742249,
          0.9932604432106018,
          0.988465428352356,
          0.9838361144065857,
          0.9804823994636536,
          0.976958155632019,
          0.9743735790252686,
          0.9717319011688232
         ]
        }
       ],
       "layout": {
        "title": "Are questions getting farther from their ground-truth paragraph in each epoch iteration? <br> to grab the closest paragraph, please hover the question",
        "xaxis": {
         "title": "Epochs"
        },
        "yaxis": {
         "title": "Distance to Closest Paragraph"
        }
       }
      },
      "text/html": [
       "<div id=\"c7984ee9-74cb-45a1-8303-f7458053e5c4\" style=\"height: 525px; width: 100%;\" class=\"plotly-graph-div\"></div><script type=\"text/javascript\">require([\"plotly\"], function(Plotly) { window.PLOTLYENV=window.PLOTLYENV || {};window.PLOTLYENV.BASE_URL=\"https://plot.ly\";Plotly.newPlot(\"c7984ee9-74cb-45a1-8303-f7458053e5c4\", [{\"name\": \"Question 381\", \"hoverinfo\": \"ytext\", \"y\": [1.1303666830062866, 1.043530821800232, 1.0283674001693726, 1.0216906070709229, 1.015671968460083, 1.010877013206482, 1.0062144994735718, 1.0028799772262573, 0.9998770356178284, 0.9954120516777039, 0.9909214377403259], \"x\": [0, 1, 2, 3, 4, 5, 6, 7, 8, 9, 10], \"type\": \"scatter\", \"text\": [8282, 267, 267, 267, 267, 267, 267, 267, 13700, 13700, 13700], \"mode\": \"lines+markers\"}, {\"name\": \"Question 828\", \"hoverinfo\": \"ytext\", \"y\": [0.9921040534973145, 0.934906005859375, 0.9286882877349854, 0.926128625869751, 0.9207544326782227, 0.9124366044998169, 0.9058080315589905, 0.9004061818122864, 0.89576655626297, 0.89213627576828, 0.888615608215332], \"x\": [0, 1, 2, 3, 4, 5, 6, 7, 8, 9, 10], \"type\": \"scatter\", \"text\": [14973, 14973, 14973, 14973, 12818, 12818, 12818, 12818, 12818, 12818, 12818], \"mode\": \"lines+markers\"}, {\"name\": \"Question 3625\", \"hoverinfo\": \"ytext\", \"y\": [1.0518085956573486, 0.9960969090461731, 0.9876425862312317, 0.9829024076461792, 0.9769629836082458, 0.9696090817451477, 0.9633844494819641, 0.9587562680244446, 0.954796552658081, 0.9524425268173218, 0.9497979283332825], \"x\": [0, 1, 2, 3, 4, 5, 6, 7, 8, 9, 10], \"type\": \"scatter\", \"text\": [14946, 14946, 14946, 14946, 6631, 6631, 6631, 6631, 6631, 6631, 6631], \"mode\": \"lines+markers\"}, {\"name\": \"Question 4652\", \"hoverinfo\": \"ytext\", \"y\": [0.9429203867912292, 0.9213868975639343, 0.9223180413246155, 0.924629807472229, 0.9277132749557495, 0.9301825761795044, 0.9324318766593933, 0.9342126250267029, 0.9361693859100342, 0.9375926852226257, 0.9356411099433899], \"x\": [0, 1, 2, 3, 4, 5, 6, 7, 8, 9, 10], \"type\": \"scatter\", \"text\": [3397, 3397, 3397, 3397, 3397, 3397, 3397, 3397, 3397, 3397, 5186], \"mode\": \"lines+markers\"}, {\"name\": \"Question 1773\", \"hoverinfo\": \"ytext\", \"y\": [1.0468354225158691, 0.94842129945755, 0.9352661371231079, 0.9273311495780945, 0.9197921752929688, 0.9140388369560242, 0.9086572527885437, 0.9045254588127136, 0.9006574749946594, 0.8982419371604919, 0.8951591849327087], \"x\": [0, 1, 2, 3, 4, 5, 6, 7, 8, 9, 10], \"type\": \"scatter\", \"text\": [7357, 9795, 9795, 9795, 9795, 9795, 9795, 9795, 9795, 9795, 9795], \"mode\": \"lines+markers\"}, {\"name\": \"Question 2735\", \"hoverinfo\": \"ytext\", \"y\": [1.0795434713363647, 1.0171095132827759, 1.0072144269943237, 0.9996762871742249, 0.9932604432106018, 0.988465428352356, 0.9838361144065857, 0.9804823994636536, 0.976958155632019, 0.9743735790252686, 0.9717319011688232], \"x\": [0, 1, 2, 3, 4, 5, 6, 7, 8, 9, 10], \"type\": \"scatter\", \"text\": [18012, 18012, 18658, 18658, 18658, 18658, 18658, 18658, 18658, 18658, 18658], \"mode\": \"lines+markers\"}], {\"yaxis\": {\"title\": \"Distance to Closest Paragraph\"}, \"xaxis\": {\"title\": \"Epochs\"}, \"title\": \"Are questions getting farther from their ground-truth paragraph in each epoch iteration? <br> to grab the closest paragraph, please hover the question\"}, {\"linkText\": \"Export to plot.ly\", \"showLink\": true})});</script>"
      ],
      "text/vnd.plotly.v1+html": [
       "<div id=\"c7984ee9-74cb-45a1-8303-f7458053e5c4\" style=\"height: 525px; width: 100%;\" class=\"plotly-graph-div\"></div><script type=\"text/javascript\">require([\"plotly\"], function(Plotly) { window.PLOTLYENV=window.PLOTLYENV || {};window.PLOTLYENV.BASE_URL=\"https://plot.ly\";Plotly.newPlot(\"c7984ee9-74cb-45a1-8303-f7458053e5c4\", [{\"name\": \"Question 381\", \"hoverinfo\": \"ytext\", \"y\": [1.1303666830062866, 1.043530821800232, 1.0283674001693726, 1.0216906070709229, 1.015671968460083, 1.010877013206482, 1.0062144994735718, 1.0028799772262573, 0.9998770356178284, 0.9954120516777039, 0.9909214377403259], \"x\": [0, 1, 2, 3, 4, 5, 6, 7, 8, 9, 10], \"type\": \"scatter\", \"text\": [8282, 267, 267, 267, 267, 267, 267, 267, 13700, 13700, 13700], \"mode\": \"lines+markers\"}, {\"name\": \"Question 828\", \"hoverinfo\": \"ytext\", \"y\": [0.9921040534973145, 0.934906005859375, 0.9286882877349854, 0.926128625869751, 0.9207544326782227, 0.9124366044998169, 0.9058080315589905, 0.9004061818122864, 0.89576655626297, 0.89213627576828, 0.888615608215332], \"x\": [0, 1, 2, 3, 4, 5, 6, 7, 8, 9, 10], \"type\": \"scatter\", \"text\": [14973, 14973, 14973, 14973, 12818, 12818, 12818, 12818, 12818, 12818, 12818], \"mode\": \"lines+markers\"}, {\"name\": \"Question 3625\", \"hoverinfo\": \"ytext\", \"y\": [1.0518085956573486, 0.9960969090461731, 0.9876425862312317, 0.9829024076461792, 0.9769629836082458, 0.9696090817451477, 0.9633844494819641, 0.9587562680244446, 0.954796552658081, 0.9524425268173218, 0.9497979283332825], \"x\": [0, 1, 2, 3, 4, 5, 6, 7, 8, 9, 10], \"type\": \"scatter\", \"text\": [14946, 14946, 14946, 14946, 6631, 6631, 6631, 6631, 6631, 6631, 6631], \"mode\": \"lines+markers\"}, {\"name\": \"Question 4652\", \"hoverinfo\": \"ytext\", \"y\": [0.9429203867912292, 0.9213868975639343, 0.9223180413246155, 0.924629807472229, 0.9277132749557495, 0.9301825761795044, 0.9324318766593933, 0.9342126250267029, 0.9361693859100342, 0.9375926852226257, 0.9356411099433899], \"x\": [0, 1, 2, 3, 4, 5, 6, 7, 8, 9, 10], \"type\": \"scatter\", \"text\": [3397, 3397, 3397, 3397, 3397, 3397, 3397, 3397, 3397, 3397, 5186], \"mode\": \"lines+markers\"}, {\"name\": \"Question 1773\", \"hoverinfo\": \"ytext\", \"y\": [1.0468354225158691, 0.94842129945755, 0.9352661371231079, 0.9273311495780945, 0.9197921752929688, 0.9140388369560242, 0.9086572527885437, 0.9045254588127136, 0.9006574749946594, 0.8982419371604919, 0.8951591849327087], \"x\": [0, 1, 2, 3, 4, 5, 6, 7, 8, 9, 10], \"type\": \"scatter\", \"text\": [7357, 9795, 9795, 9795, 9795, 9795, 9795, 9795, 9795, 9795, 9795], \"mode\": \"lines+markers\"}, {\"name\": \"Question 2735\", \"hoverinfo\": \"ytext\", \"y\": [1.0795434713363647, 1.0171095132827759, 1.0072144269943237, 0.9996762871742249, 0.9932604432106018, 0.988465428352356, 0.9838361144065857, 0.9804823994636536, 0.976958155632019, 0.9743735790252686, 0.9717319011688232], \"x\": [0, 1, 2, 3, 4, 5, 6, 7, 8, 9, 10], \"type\": \"scatter\", \"text\": [18012, 18012, 18658, 18658, 18658, 18658, 18658, 18658, 18658, 18658, 18658], \"mode\": \"lines+markers\"}], {\"yaxis\": {\"title\": \"Distance to Closest Paragraph\"}, \"xaxis\": {\"title\": \"Epochs\"}, \"title\": \"Are questions getting farther from their ground-truth paragraph in each epoch iteration? <br> to grab the closest paragraph, please hover the question\"}, {\"linkText\": \"Export to plot.ly\", \"showLink\": true})});</script>"
      ]
     },
     "metadata": {},
     "output_type": "display_data"
    },
    {
     "name": "stdout",
     "output_type": "stream",
     "text": [
      "Closest Paragraphs of these Problematic Questions\n"
     ]
    },
    {
     "data": {
      "text/plain": [
       "{381: {267, 8282, 13700},\n",
       " 828: {12818, 14973},\n",
       " 1773: {7357, 9795},\n",
       " 2735: {18012, 18658},\n",
       " 3625: {6631, 14946},\n",
       " 4652: {3397, 5186}}"
      ]
     },
     "execution_count": 255,
     "metadata": {},
     "output_type": "execute_result"
    }
   ],
   "source": [
    "\"What happened to the following question?\"\n",
    "sample_question_that_are_getting_worse_idx = problematic_questions\n",
    "sample_question_that_are_getting_worse_sub_idx = [np.where(question_ids==q)[0][0] for q in sample_question_that_are_getting_worse_idx]\n",
    "#label_of_sample_question = good_questions_at_top_1_labels[sample_question_that_are_getting_worse_sub_idx]\n",
    "\"Is that question getting farther from its ground-truth paragraph?\"\n",
    "getting_worse_distances = pd.DataFrame()\n",
    "getting_worse_labels = pd.DataFrame()\n",
    "getting_worse_distances[0] = np.reshape(good_questions_at_top_1_distances[sample_question_that_are_getting_worse_sub_idx], [-1,])\n",
    "getting_worse_labels[0] = np.reshape(good_questions_at_top_1_labels[sample_question_that_are_getting_worse_sub_idx], [-1,])\n",
    "for i in range(1,num_of_epochs+1):\n",
    "    getting_worse_distances[i] = np.reshape(my_dict[str(i)]['top_k'][str(1)]['distances_after'][sample_question_that_are_getting_worse_idx], [-1,])\n",
    "    getting_worse_labels[i] = np.reshape(my_dict[str(i)]['top_k'][str(1)]['closest_labels_after'][sample_question_that_are_getting_worse_idx], [-1,])\n",
    "\n",
    "getting_worse_distances = getting_worse_distances.T\n",
    "getting_worse_labels = getting_worse_labels.T\n",
    "getting_worse_distances.columns = [sample_question_that_are_getting_worse_idx[i] for i, col_name in enumerate(getting_worse_distances.columns)]\n",
    "getting_worse_labels.columns = [sample_question_that_are_getting_worse_idx[i] for i, col_name in enumerate(getting_worse_labels.columns)]\n",
    "\n",
    "data = []\n",
    "for q in sample_question_that_are_getting_worse_idx:\n",
    "    trace = go.Scatter(\n",
    "    x = getting_worse_distances.index,\n",
    "    y = getting_worse_distances[q],\n",
    "    text = getting_worse_labels[q],\n",
    "    hoverinfo = 'y' 'text',\n",
    "    mode = 'lines+markers',\n",
    "    name = 'Question {}'.format(q))\n",
    "    data.append(trace)\n",
    "\n",
    "layout = go.Layout(\n",
    "    title='Are questions getting farther from their ground-truth paragraph in each epoch iteration? <br> ' +\n",
    "    'to grab the closest paragraph, please hover the question',\n",
    "    xaxis=dict(\n",
    "        title='Epochs'\n",
    "    ),\n",
    "    yaxis=dict(\n",
    "        title='Distance to Closest Paragraph'\n",
    "    )\n",
    ")\n",
    "fig =  go.Figure(data=data, layout=layout)\n",
    "py.offline.iplot(fig)\n",
    "closest_paragraphs_of_problematic_questions = dict()\n",
    "print('Closest Paragraphs of these Problematic Questions')\n",
    "for _q in problematic_questions:\n",
    "    closest_paragraphs_of_problematic_questions[_q] = set(getting_worse_labels[_q]) \n",
    "closest_paragraphs_of_problematic_questions"
   ]
  },
  {
   "cell_type": "code",
   "execution_count": 256,
   "metadata": {},
   "outputs": [
    {
     "name": "stdout",
     "output_type": "stream",
     "text": [
      "**********\n",
      "Question 4652\n",
      "**********\n",
      "Question 3625\n",
      "**********\n",
      "Question 2735\n",
      "**********\n",
      "Question 828\n",
      "**********\n",
      "Question 1773\n",
      "**********\n",
      "Question 381\n"
     ]
    }
   ],
   "source": [
    "total_ks = len(my_dict['top_k'])\n",
    "questions = []\n",
    "for question, paragraphs in closest_paragraphs_of_problematic_questions.items():\n",
    "    print('*' * 10)\n",
    "    print('Question {}'.format(question))    \n",
    "    # iterate each k for that question so that we can specify \n",
    "    # what are the closest paragraph to that question for each k, what is their distance\n",
    "    # and also what is the order of ground truth paragraph to that question  within the list of results in k and \n",
    "    # its distance\n",
    "    \n",
    "    # FOR EPOCH 0 : BEFORE APPENDIX\n",
    "    _epoch = 0\n",
    "    for _k in range(total_ks):\n",
    "        paragraph_at_k = my_dict['top_k'][str(total_ks)]['closest_labels_before'][question][_k]\n",
    "        q_to_p_distance_at_k = my_dict['top_k'][str(total_ks)]['distances_before'][question][_k]\n",
    "        is_ground_truth_in_k_range = my_dict['top_k'][str(_k+1)]['are_founds_before'][question][0]\n",
    "        questions.append((question,\n",
    "                         _epoch,\n",
    "                         _k+1,\n",
    "                         paragraph_at_k, \n",
    "                         q_to_p_distance_at_k,\n",
    "                         is_ground_truth_in_k_range\n",
    "        ))\n",
    "    # FOR EPOCH > 0 : AFTER APPENDIX\n",
    "    for _epoch in range(1,num_of_epochs+1):\n",
    "        for _k in range(total_ks):\n",
    "            paragraph_at_k = my_dict[str(_epoch)]['top_k'][str(total_ks)]['closest_labels_after'][question][_k]\n",
    "            q_to_p_distance_at_k = my_dict[str(_epoch)]['top_k'][str(total_ks)]['distances_after'][question][_k]\n",
    "            is_ground_truth_in_k_range = my_dict[str(_epoch)]['top_k'][str(_k+1)]['are_founds_after'][question][0]\n",
    "            questions.append((question,\n",
    "                             _epoch,\n",
    "                             _k+1,\n",
    "                             paragraph_at_k, \n",
    "                             q_to_p_distance_at_k,\n",
    "                             is_ground_truth_in_k_range\n",
    "            ))\n",
    "df_traced_questions = pd.DataFrame(questions, columns=['question_id','epoch', 'k', 'paragraph_id', 'distance_to_paragraph', 'is_ground_truth_in_k_range'])   "
   ]
  },
  {
   "cell_type": "code",
   "execution_count": 245,
   "metadata": {},
   "outputs": [
    {
     "name": "stdout",
     "output_type": "stream",
     "text": [
      "Question 4652 is displayed with itsprogress within all epoch and k values\n"
     ]
    }
   ],
   "source": [
    "question_id_to_examine = 4652\n",
    "\n",
    "print('Question {} is displayed with itsprogress within all epoch and k values'.format(question_id_to_examine))\n",
    "question_to_display_progress = df_traced_questions[df_traced_questions['question_id'] == question_id_to_examine]\n",
    "# question_to_display_progress"
   ]
  },
  {
   "cell_type": "code",
   "execution_count": 257,
   "metadata": {},
   "outputs": [
    {
     "name": "stdout",
     "output_type": "stream",
     "text": [
      "Question 4652 is plotted\n"
     ]
    },
    {
     "data": {
      "application/vnd.plotly.v1+json": {
       "data": [
        {
         "mode": "lines+markers",
         "name": "Paragraph 1216",
         "type": "scatter",
         "x": [
          0,
          1,
          2,
          3,
          4,
          5,
          6,
          7,
          8,
          9,
          10
         ],
         "y": [
          1.5,
          1.5,
          1.5,
          1.5,
          1.5,
          1.5,
          1.5,
          0.9759275913238525,
          0.9707794785499573,
          0.9663478136062622,
          0.9621224999427795
         ]
        },
        {
         "mode": "lines+markers",
         "name": "Paragraph 5559",
         "type": "scatter",
         "x": [
          0,
          1,
          2,
          3,
          4,
          5,
          6,
          7,
          8,
          9,
          10
         ],
         "y": [
          1.5,
          1.5,
          1.0096851587295532,
          0.9999263286590576,
          0.9936715960502625,
          0.9879595637321472,
          1.5,
          1.5,
          1.5,
          1.5,
          1.5
         ]
        },
        {
         "mode": "lines+markers",
         "name": "Paragraph 5186",
         "type": "scatter",
         "x": [
          0,
          1,
          2,
          3,
          4,
          5,
          6,
          7,
          8,
          9,
          10
         ],
         "y": [
          1.5,
          0.9837494492530823,
          0.9660309553146362,
          0.9534920454025269,
          0.9434328079223633,
          0.9359737038612366,
          0.9288421273231506,
          0.9225522875785828,
          0.9155294895172119,
          0.9117991328239441,
          0.9095252752304077
         ]
        },
        {
         "mode": "lines+markers",
         "name": "Paragraph 12354",
         "type": "scatter",
         "x": [
          0,
          1,
          2,
          3,
          4,
          5,
          6,
          7,
          8,
          9,
          10
         ],
         "y": [
          1.5,
          1.5,
          1.5,
          1.5,
          0.9902192950248718,
          0.9795171618461609,
          0.970675528049469,
          0.9624682068824768,
          0.9572483897209167,
          0.952285885810852,
          0.9489789605140686
         ]
        },
        {
         "mode": "lines+markers",
         "name": "Ground Truth 3397",
         "type": "scatter",
         "x": [
          0,
          1,
          2,
          3,
          4,
          5,
          6,
          7,
          8,
          9,
          10
         ],
         "y": [
          0.9429203867912292,
          0.9214602112770081,
          0.9243158102035522,
          0.9283720850944519,
          0.9316568374633789,
          0.9353728890419006,
          0.9379993677139282,
          0.9419323801994324,
          0.9452988505363464,
          0.9470322132110596,
          0.9494035840034485
         ]
        },
        {
         "mode": "lines+markers",
         "name": "Paragraph 5767",
         "type": "scatter",
         "x": [
          0,
          1,
          2,
          3,
          4,
          5,
          6,
          7,
          8,
          9,
          10
         ],
         "y": [
          1.5,
          1.0059486627578735,
          0.9934855103492737,
          0.9839226603507996,
          0.9780563712120056,
          0.9721188545227051,
          0.9686713218688965,
          0.9651330709457397,
          0.964942991733551,
          0.9650729298591614,
          0.9635356664657593
         ]
        },
        {
         "mode": "lines+markers",
         "name": "Paragraph 6760",
         "type": "scatter",
         "x": [
          0,
          1,
          2,
          3,
          4,
          5,
          6,
          7,
          8,
          9,
          10
         ],
         "y": [
          1.5,
          1.004032850265503,
          0.9995393753051758,
          0.9960177540779114,
          1.5,
          1.5,
          1.5,
          1.5,
          1.5,
          1.5,
          1.5
         ]
        },
        {
         "mode": "lines+markers",
         "name": "Paragraph 13703",
         "type": "scatter",
         "x": [
          0,
          1,
          2,
          3,
          4,
          5,
          6,
          7,
          8,
          9,
          10
         ],
         "y": [
          1.5,
          1.5,
          1.5,
          1.5,
          1.5,
          0.9877750873565674,
          0.9828996658325195,
          1.5,
          1.5,
          1.5,
          1.5
         ]
        },
        {
         "mode": "lines+markers",
         "name": "Paragraph 12042",
         "type": "scatter",
         "x": [
          0,
          1,
          2,
          3,
          4,
          5,
          6,
          7,
          8,
          9,
          10
         ],
         "y": [
          1.5,
          0.9969427585601807,
          0.9885504841804504,
          0.9820734262466431,
          0.9784745573997498,
          0.9741817712783813,
          0.9721788763999939,
          0.9703739881515503,
          0.9712259769439697,
          1.5,
          1.5
         ]
        },
        {
         "mode": "lines+markers",
         "name": "Paragraph 8711",
         "type": "scatter",
         "x": [
          0,
          1,
          2,
          3,
          4,
          5,
          6,
          7,
          8,
          9,
          10
         ],
         "y": [
          1.5,
          1.5,
          1.5,
          1.5,
          1.5,
          1.5,
          1.5,
          1.5,
          1.5,
          0.9710556864738464,
          0.9655498266220093
         ]
        },
        {
         "mode": "lines+markers",
         "name": "Paragraph 11404",
         "type": "scatter",
         "x": [
          0,
          1,
          2,
          3,
          4,
          5,
          6,
          7,
          8,
          9,
          10
         ],
         "y": [
          1.5,
          1.0025601387023926,
          0.9981313347816467,
          0.9966365098953247,
          1.5,
          1.5,
          1.5,
          1.5,
          1.5,
          1.5,
          1.5
         ]
        },
        {
         "mode": "lines+markers",
         "name": "Paragraph 4205",
         "type": "scatter",
         "x": [
          0,
          1,
          2,
          3,
          4,
          5,
          6,
          7,
          8,
          9,
          10
         ],
         "y": [
          1.5,
          1.0136728286743164,
          1.0030651092529297,
          0.996483564376831,
          0.9917260408401489,
          1.5,
          1.5,
          1.5,
          1.5,
          1.5,
          1.5
         ]
        },
        {
         "mode": "lines+markers",
         "name": "Paragraph 7757",
         "type": "scatter",
         "x": [
          0,
          1,
          2,
          3,
          4,
          5,
          6,
          7,
          8,
          9,
          10
         ],
         "y": [
          1.5,
          1.5,
          1.5,
          0.9984307885169983,
          0.9904932975769043,
          0.9850561618804932,
          0.9806145429611206,
          1.5,
          1.5,
          1.5,
          1.5
         ]
        },
        {
         "mode": "lines+markers",
         "name": "Paragraph 6193",
         "type": "scatter",
         "x": [
          0,
          1,
          2,
          3,
          4,
          5,
          6,
          7,
          8,
          9,
          10
         ],
         "y": [
          1.5,
          1.5,
          1.5,
          1.5,
          1.5,
          1.5,
          1.5,
          0.9765353798866272,
          0.968879759311676,
          0.9640317559242249,
          0.960334300994873
         ]
        },
        {
         "mode": "lines+markers",
         "name": "Paragraph 15347",
         "type": "scatter",
         "x": [
          0,
          1,
          2,
          3,
          4,
          5,
          6,
          7,
          8,
          9,
          10
         ],
         "y": [
          1.5,
          1.5,
          1.5,
          1.5,
          0.9890386462211609,
          0.9774381518363953,
          0.968083918094635,
          0.959618330001831,
          0.9528124332427979,
          0.9473538994789124,
          0.9436327219009399
         ]
        },
        {
         "mode": "lines+markers",
         "name": "Paragraph 11189",
         "type": "scatter",
         "x": [
          0,
          1,
          2,
          3,
          4,
          5,
          6,
          7,
          8,
          9,
          10
         ],
         "y": [
          1.5,
          1.0117008686065674,
          1.0067628622055054,
          1.5,
          1.5,
          1.5,
          1.5,
          1.5,
          1.5,
          1.5,
          1.5
         ]
        },
        {
         "mode": "lines+markers",
         "name": "Paragraph 6327",
         "type": "scatter",
         "x": [
          0,
          1,
          2,
          3,
          4,
          5,
          6,
          7,
          8,
          9,
          10
         ],
         "y": [
          1.5,
          1.016433596611023,
          1.0017316341400146,
          0.9917078614234924,
          0.9844623804092407,
          0.9785549640655518,
          0.972849428653717,
          0.9668852090835571,
          0.9625588059425354,
          0.9605368971824646,
          0.9585615396499634
         ]
        },
        {
         "mode": "lines+markers",
         "name": "Paragraph 10392",
         "type": "scatter",
         "x": [
          0,
          1,
          2,
          3,
          4,
          5,
          6,
          7,
          8,
          9,
          10
         ],
         "y": [
          1.5,
          1.0193661451339722,
          1.5,
          1.5,
          1.5,
          1.5,
          1.5,
          1.5,
          1.5,
          1.5,
          1.5
         ]
        },
        {
         "mode": "lines+markers",
         "name": "Paragraph 5563",
         "type": "scatter",
         "x": [
          0,
          1,
          2,
          3,
          4,
          5,
          6,
          7,
          8,
          9,
          10
         ],
         "y": [
          1.5,
          1.5,
          1.5,
          1.5,
          1.5,
          1.5,
          0.9822877645492554,
          0.9760197997093201,
          0.9713106751441956,
          0.9678264260292053,
          0.9644624590873718
         ]
        }
       ],
       "layout": {
        "title": "Distances of the paragraphs to that question 4652 are getting progressed in each epoch",
        "xaxis": {
         "title": "Epochs"
        },
        "yaxis": {
         "title": "Distance"
        }
       }
      },
      "text/html": [
       "<div id=\"b04c6c3e-6635-4a6f-a58b-ae3ba009e328\" style=\"height: 525px; width: 100%;\" class=\"plotly-graph-div\"></div><script type=\"text/javascript\">require([\"plotly\"], function(Plotly) { window.PLOTLYENV=window.PLOTLYENV || {};window.PLOTLYENV.BASE_URL=\"https://plot.ly\";Plotly.newPlot(\"b04c6c3e-6635-4a6f-a58b-ae3ba009e328\", [{\"name\": \"Paragraph 1216\", \"type\": \"scatter\", \"x\": [0, 1, 2, 3, 4, 5, 6, 7, 8, 9, 10], \"y\": [1.5, 1.5, 1.5, 1.5, 1.5, 1.5, 1.5, 0.9759275913238525, 0.9707794785499573, 0.9663478136062622, 0.9621224999427795], \"mode\": \"lines+markers\"}, {\"name\": \"Paragraph 5559\", \"type\": \"scatter\", \"x\": [0, 1, 2, 3, 4, 5, 6, 7, 8, 9, 10], \"y\": [1.5, 1.5, 1.0096851587295532, 0.9999263286590576, 0.9936715960502625, 0.9879595637321472, 1.5, 1.5, 1.5, 1.5, 1.5], \"mode\": \"lines+markers\"}, {\"name\": \"Paragraph 5186\", \"type\": \"scatter\", \"x\": [0, 1, 2, 3, 4, 5, 6, 7, 8, 9, 10], \"y\": [1.5, 0.9837494492530823, 0.9660309553146362, 0.9534920454025269, 0.9434328079223633, 0.9359737038612366, 0.9288421273231506, 0.9225522875785828, 0.9155294895172119, 0.9117991328239441, 0.9095252752304077], \"mode\": \"lines+markers\"}, {\"name\": \"Paragraph 12354\", \"type\": \"scatter\", \"x\": [0, 1, 2, 3, 4, 5, 6, 7, 8, 9, 10], \"y\": [1.5, 1.5, 1.5, 1.5, 0.9902192950248718, 0.9795171618461609, 0.970675528049469, 0.9624682068824768, 0.9572483897209167, 0.952285885810852, 0.9489789605140686], \"mode\": \"lines+markers\"}, {\"name\": \"Ground Truth 3397\", \"type\": \"scatter\", \"x\": [0, 1, 2, 3, 4, 5, 6, 7, 8, 9, 10], \"y\": [0.9429203867912292, 0.9214602112770081, 0.9243158102035522, 0.9283720850944519, 0.9316568374633789, 0.9353728890419006, 0.9379993677139282, 0.9419323801994324, 0.9452988505363464, 0.9470322132110596, 0.9494035840034485], \"mode\": \"lines+markers\"}, {\"name\": \"Paragraph 5767\", \"type\": \"scatter\", \"x\": [0, 1, 2, 3, 4, 5, 6, 7, 8, 9, 10], \"y\": [1.5, 1.0059486627578735, 0.9934855103492737, 0.9839226603507996, 0.9780563712120056, 0.9721188545227051, 0.9686713218688965, 0.9651330709457397, 0.964942991733551, 0.9650729298591614, 0.9635356664657593], \"mode\": \"lines+markers\"}, {\"name\": \"Paragraph 6760\", \"type\": \"scatter\", \"x\": [0, 1, 2, 3, 4, 5, 6, 7, 8, 9, 10], \"y\": [1.5, 1.004032850265503, 0.9995393753051758, 0.9960177540779114, 1.5, 1.5, 1.5, 1.5, 1.5, 1.5, 1.5], \"mode\": \"lines+markers\"}, {\"name\": \"Paragraph 13703\", \"type\": \"scatter\", \"x\": [0, 1, 2, 3, 4, 5, 6, 7, 8, 9, 10], \"y\": [1.5, 1.5, 1.5, 1.5, 1.5, 0.9877750873565674, 0.9828996658325195, 1.5, 1.5, 1.5, 1.5], \"mode\": \"lines+markers\"}, {\"name\": \"Paragraph 12042\", \"type\": \"scatter\", \"x\": [0, 1, 2, 3, 4, 5, 6, 7, 8, 9, 10], \"y\": [1.5, 0.9969427585601807, 0.9885504841804504, 0.9820734262466431, 0.9784745573997498, 0.9741817712783813, 0.9721788763999939, 0.9703739881515503, 0.9712259769439697, 1.5, 1.5], \"mode\": \"lines+markers\"}, {\"name\": \"Paragraph 8711\", \"type\": \"scatter\", \"x\": [0, 1, 2, 3, 4, 5, 6, 7, 8, 9, 10], \"y\": [1.5, 1.5, 1.5, 1.5, 1.5, 1.5, 1.5, 1.5, 1.5, 0.9710556864738464, 0.9655498266220093], \"mode\": \"lines+markers\"}, {\"name\": \"Paragraph 11404\", \"type\": \"scatter\", \"x\": [0, 1, 2, 3, 4, 5, 6, 7, 8, 9, 10], \"y\": [1.5, 1.0025601387023926, 0.9981313347816467, 0.9966365098953247, 1.5, 1.5, 1.5, 1.5, 1.5, 1.5, 1.5], \"mode\": \"lines+markers\"}, {\"name\": \"Paragraph 4205\", \"type\": \"scatter\", \"x\": [0, 1, 2, 3, 4, 5, 6, 7, 8, 9, 10], \"y\": [1.5, 1.0136728286743164, 1.0030651092529297, 0.996483564376831, 0.9917260408401489, 1.5, 1.5, 1.5, 1.5, 1.5, 1.5], \"mode\": \"lines+markers\"}, {\"name\": \"Paragraph 7757\", \"type\": \"scatter\", \"x\": [0, 1, 2, 3, 4, 5, 6, 7, 8, 9, 10], \"y\": [1.5, 1.5, 1.5, 0.9984307885169983, 0.9904932975769043, 0.9850561618804932, 0.9806145429611206, 1.5, 1.5, 1.5, 1.5], \"mode\": \"lines+markers\"}, {\"name\": \"Paragraph 6193\", \"type\": \"scatter\", \"x\": [0, 1, 2, 3, 4, 5, 6, 7, 8, 9, 10], \"y\": [1.5, 1.5, 1.5, 1.5, 1.5, 1.5, 1.5, 0.9765353798866272, 0.968879759311676, 0.9640317559242249, 0.960334300994873], \"mode\": \"lines+markers\"}, {\"name\": \"Paragraph 15347\", \"type\": \"scatter\", \"x\": [0, 1, 2, 3, 4, 5, 6, 7, 8, 9, 10], \"y\": [1.5, 1.5, 1.5, 1.5, 0.9890386462211609, 0.9774381518363953, 0.968083918094635, 0.959618330001831, 0.9528124332427979, 0.9473538994789124, 0.9436327219009399], \"mode\": \"lines+markers\"}, {\"name\": \"Paragraph 11189\", \"type\": \"scatter\", \"x\": [0, 1, 2, 3, 4, 5, 6, 7, 8, 9, 10], \"y\": [1.5, 1.0117008686065674, 1.0067628622055054, 1.5, 1.5, 1.5, 1.5, 1.5, 1.5, 1.5, 1.5], \"mode\": \"lines+markers\"}, {\"name\": \"Paragraph 6327\", \"type\": \"scatter\", \"x\": [0, 1, 2, 3, 4, 5, 6, 7, 8, 9, 10], \"y\": [1.5, 1.016433596611023, 1.0017316341400146, 0.9917078614234924, 0.9844623804092407, 0.9785549640655518, 0.972849428653717, 0.9668852090835571, 0.9625588059425354, 0.9605368971824646, 0.9585615396499634], \"mode\": \"lines+markers\"}, {\"name\": \"Paragraph 10392\", \"type\": \"scatter\", \"x\": [0, 1, 2, 3, 4, 5, 6, 7, 8, 9, 10], \"y\": [1.5, 1.0193661451339722, 1.5, 1.5, 1.5, 1.5, 1.5, 1.5, 1.5, 1.5, 1.5], \"mode\": \"lines+markers\"}, {\"name\": \"Paragraph 5563\", \"type\": \"scatter\", \"x\": [0, 1, 2, 3, 4, 5, 6, 7, 8, 9, 10], \"y\": [1.5, 1.5, 1.5, 1.5, 1.5, 1.5, 0.9822877645492554, 0.9760197997093201, 0.9713106751441956, 0.9678264260292053, 0.9644624590873718], \"mode\": \"lines+markers\"}], {\"yaxis\": {\"title\": \"Distance\"}, \"xaxis\": {\"title\": \"Epochs\"}, \"title\": \"Distances of the paragraphs to that question 4652 are getting progressed in each epoch\"}, {\"linkText\": \"Export to plot.ly\", \"showLink\": true})});</script>"
      ],
      "text/vnd.plotly.v1+html": [
       "<div id=\"b04c6c3e-6635-4a6f-a58b-ae3ba009e328\" style=\"height: 525px; width: 100%;\" class=\"plotly-graph-div\"></div><script type=\"text/javascript\">require([\"plotly\"], function(Plotly) { window.PLOTLYENV=window.PLOTLYENV || {};window.PLOTLYENV.BASE_URL=\"https://plot.ly\";Plotly.newPlot(\"b04c6c3e-6635-4a6f-a58b-ae3ba009e328\", [{\"name\": \"Paragraph 1216\", \"type\": \"scatter\", \"x\": [0, 1, 2, 3, 4, 5, 6, 7, 8, 9, 10], \"y\": [1.5, 1.5, 1.5, 1.5, 1.5, 1.5, 1.5, 0.9759275913238525, 0.9707794785499573, 0.9663478136062622, 0.9621224999427795], \"mode\": \"lines+markers\"}, {\"name\": \"Paragraph 5559\", \"type\": \"scatter\", \"x\": [0, 1, 2, 3, 4, 5, 6, 7, 8, 9, 10], \"y\": [1.5, 1.5, 1.0096851587295532, 0.9999263286590576, 0.9936715960502625, 0.9879595637321472, 1.5, 1.5, 1.5, 1.5, 1.5], \"mode\": \"lines+markers\"}, {\"name\": \"Paragraph 5186\", \"type\": \"scatter\", \"x\": [0, 1, 2, 3, 4, 5, 6, 7, 8, 9, 10], \"y\": [1.5, 0.9837494492530823, 0.9660309553146362, 0.9534920454025269, 0.9434328079223633, 0.9359737038612366, 0.9288421273231506, 0.9225522875785828, 0.9155294895172119, 0.9117991328239441, 0.9095252752304077], \"mode\": \"lines+markers\"}, {\"name\": \"Paragraph 12354\", \"type\": \"scatter\", \"x\": [0, 1, 2, 3, 4, 5, 6, 7, 8, 9, 10], \"y\": [1.5, 1.5, 1.5, 1.5, 0.9902192950248718, 0.9795171618461609, 0.970675528049469, 0.9624682068824768, 0.9572483897209167, 0.952285885810852, 0.9489789605140686], \"mode\": \"lines+markers\"}, {\"name\": \"Ground Truth 3397\", \"type\": \"scatter\", \"x\": [0, 1, 2, 3, 4, 5, 6, 7, 8, 9, 10], \"y\": [0.9429203867912292, 0.9214602112770081, 0.9243158102035522, 0.9283720850944519, 0.9316568374633789, 0.9353728890419006, 0.9379993677139282, 0.9419323801994324, 0.9452988505363464, 0.9470322132110596, 0.9494035840034485], \"mode\": \"lines+markers\"}, {\"name\": \"Paragraph 5767\", \"type\": \"scatter\", \"x\": [0, 1, 2, 3, 4, 5, 6, 7, 8, 9, 10], \"y\": [1.5, 1.0059486627578735, 0.9934855103492737, 0.9839226603507996, 0.9780563712120056, 0.9721188545227051, 0.9686713218688965, 0.9651330709457397, 0.964942991733551, 0.9650729298591614, 0.9635356664657593], \"mode\": \"lines+markers\"}, {\"name\": \"Paragraph 6760\", \"type\": \"scatter\", \"x\": [0, 1, 2, 3, 4, 5, 6, 7, 8, 9, 10], \"y\": [1.5, 1.004032850265503, 0.9995393753051758, 0.9960177540779114, 1.5, 1.5, 1.5, 1.5, 1.5, 1.5, 1.5], \"mode\": \"lines+markers\"}, {\"name\": \"Paragraph 13703\", \"type\": \"scatter\", \"x\": [0, 1, 2, 3, 4, 5, 6, 7, 8, 9, 10], \"y\": [1.5, 1.5, 1.5, 1.5, 1.5, 0.9877750873565674, 0.9828996658325195, 1.5, 1.5, 1.5, 1.5], \"mode\": \"lines+markers\"}, {\"name\": \"Paragraph 12042\", \"type\": \"scatter\", \"x\": [0, 1, 2, 3, 4, 5, 6, 7, 8, 9, 10], \"y\": [1.5, 0.9969427585601807, 0.9885504841804504, 0.9820734262466431, 0.9784745573997498, 0.9741817712783813, 0.9721788763999939, 0.9703739881515503, 0.9712259769439697, 1.5, 1.5], \"mode\": \"lines+markers\"}, {\"name\": \"Paragraph 8711\", \"type\": \"scatter\", \"x\": [0, 1, 2, 3, 4, 5, 6, 7, 8, 9, 10], \"y\": [1.5, 1.5, 1.5, 1.5, 1.5, 1.5, 1.5, 1.5, 1.5, 0.9710556864738464, 0.9655498266220093], \"mode\": \"lines+markers\"}, {\"name\": \"Paragraph 11404\", \"type\": \"scatter\", \"x\": [0, 1, 2, 3, 4, 5, 6, 7, 8, 9, 10], \"y\": [1.5, 1.0025601387023926, 0.9981313347816467, 0.9966365098953247, 1.5, 1.5, 1.5, 1.5, 1.5, 1.5, 1.5], \"mode\": \"lines+markers\"}, {\"name\": \"Paragraph 4205\", \"type\": \"scatter\", \"x\": [0, 1, 2, 3, 4, 5, 6, 7, 8, 9, 10], \"y\": [1.5, 1.0136728286743164, 1.0030651092529297, 0.996483564376831, 0.9917260408401489, 1.5, 1.5, 1.5, 1.5, 1.5, 1.5], \"mode\": \"lines+markers\"}, {\"name\": \"Paragraph 7757\", \"type\": \"scatter\", \"x\": [0, 1, 2, 3, 4, 5, 6, 7, 8, 9, 10], \"y\": [1.5, 1.5, 1.5, 0.9984307885169983, 0.9904932975769043, 0.9850561618804932, 0.9806145429611206, 1.5, 1.5, 1.5, 1.5], \"mode\": \"lines+markers\"}, {\"name\": \"Paragraph 6193\", \"type\": \"scatter\", \"x\": [0, 1, 2, 3, 4, 5, 6, 7, 8, 9, 10], \"y\": [1.5, 1.5, 1.5, 1.5, 1.5, 1.5, 1.5, 0.9765353798866272, 0.968879759311676, 0.9640317559242249, 0.960334300994873], \"mode\": \"lines+markers\"}, {\"name\": \"Paragraph 15347\", \"type\": \"scatter\", \"x\": [0, 1, 2, 3, 4, 5, 6, 7, 8, 9, 10], \"y\": [1.5, 1.5, 1.5, 1.5, 0.9890386462211609, 0.9774381518363953, 0.968083918094635, 0.959618330001831, 0.9528124332427979, 0.9473538994789124, 0.9436327219009399], \"mode\": \"lines+markers\"}, {\"name\": \"Paragraph 11189\", \"type\": \"scatter\", \"x\": [0, 1, 2, 3, 4, 5, 6, 7, 8, 9, 10], \"y\": [1.5, 1.0117008686065674, 1.0067628622055054, 1.5, 1.5, 1.5, 1.5, 1.5, 1.5, 1.5, 1.5], \"mode\": \"lines+markers\"}, {\"name\": \"Paragraph 6327\", \"type\": \"scatter\", \"x\": [0, 1, 2, 3, 4, 5, 6, 7, 8, 9, 10], \"y\": [1.5, 1.016433596611023, 1.0017316341400146, 0.9917078614234924, 0.9844623804092407, 0.9785549640655518, 0.972849428653717, 0.9668852090835571, 0.9625588059425354, 0.9605368971824646, 0.9585615396499634], \"mode\": \"lines+markers\"}, {\"name\": \"Paragraph 10392\", \"type\": \"scatter\", \"x\": [0, 1, 2, 3, 4, 5, 6, 7, 8, 9, 10], \"y\": [1.5, 1.0193661451339722, 1.5, 1.5, 1.5, 1.5, 1.5, 1.5, 1.5, 1.5, 1.5], \"mode\": \"lines+markers\"}, {\"name\": \"Paragraph 5563\", \"type\": \"scatter\", \"x\": [0, 1, 2, 3, 4, 5, 6, 7, 8, 9, 10], \"y\": [1.5, 1.5, 1.5, 1.5, 1.5, 1.5, 0.9822877645492554, 0.9760197997093201, 0.9713106751441956, 0.9678264260292053, 0.9644624590873718], \"mode\": \"lines+markers\"}], {\"yaxis\": {\"title\": \"Distance\"}, \"xaxis\": {\"title\": \"Epochs\"}, \"title\": \"Distances of the paragraphs to that question 4652 are getting progressed in each epoch\"}, {\"linkText\": \"Export to plot.ly\", \"showLink\": true})});</script>"
      ]
     },
     "metadata": {},
     "output_type": "display_data"
    }
   ],
   "source": [
    "print('Question {} is plotted'.format(question_id_to_examine))\n",
    "paragraphs_to_plot = set(question_to_display_progress['paragraph_id'])\n",
    "data = []\n",
    "for p in paragraphs_to_plot:\n",
    "    df = question_to_display_progress[question_to_display_progress['paragraph_id'] == p].sort_values(by=['epoch', 'k'], ascending=[True, True])\n",
    "    if df.shape[0] > num_of_epochs:\n",
    "        name = 'Ground Truth {}'.format(p)\n",
    "    else:\n",
    "        name = 'Paragraph {}'.format(p)\n",
    "    df = df.drop_duplicates(subset=['question_id', 'epoch'])\n",
    "    plot_data = []\n",
    "    for _epoch in range(num_of_epochs + 1):\n",
    "        try:\n",
    "            distance = df[df['epoch'] == _epoch]['distance_to_paragraph'].values[0]\n",
    "        except:\n",
    "            distance = 1.5\n",
    "        plot_data.append((_epoch, distance))\n",
    "    plot_df = pd.DataFrame(plot_data, columns=['epoch', 'distance'])  \n",
    "    trace = go.Scatter(\n",
    "    x = plot_df.index,\n",
    "    y = plot_df['distance'],\n",
    "    mode = 'lines+markers',\n",
    "    name = name)\n",
    "    data.append(trace)\n",
    "\n",
    "layout = go.Layout(\n",
    "    title='Distances of the paragraphs to that question {} are getting progressed in each epoch'.format(question_id_to_examine),\n",
    "    xaxis=dict(\n",
    "        title='Epochs'\n",
    "    ),\n",
    "    yaxis=dict(\n",
    "        title='Distance'\n",
    "    )\n",
    ")\n",
    "fig =  go.Figure(data=data, layout=layout)\n",
    "py.offline.iplot(fig)"
   ]
  },
  {
   "cell_type": "code",
   "execution_count": 258,
   "metadata": {},
   "outputs": [
    {
     "name": "stdout",
     "output_type": "stream",
     "text": [
      "**********\n",
      "Parahraph 5186\n",
      "There is no such a question that belongs to paragraph 5186 in that 5000 subset at epoch:0, k:1\n",
      "There is no such a question that belongs to paragraph 5186 in that 5000 subset at epoch:0, k:2\n",
      "There is no such a question that belongs to paragraph 5186 in that 5000 subset at epoch:0, k:3\n",
      "There is no such a question that belongs to paragraph 5186 in that 5000 subset at epoch:0, k:4\n",
      "There is no such a question that belongs to paragraph 5186 in that 5000 subset at epoch:0, k:5\n",
      "There is no such a question that belongs to paragraph 5186 in that 5000 subset at epoch:0, k:6\n",
      "There is no such a question that belongs to paragraph 5186 in that 5000 subset at epoch:0, k:7\n",
      "There is no such a question that belongs to paragraph 5186 in that 5000 subset at epoch:0, k:8\n",
      "There is no such a question that belongs to paragraph 5186 in that 5000 subset at epoch:0, k:9\n",
      "There is no such a question that belongs to paragraph 5186 in that 5000 subset at epoch:0, k:10\n"
     ]
    }
   ],
   "source": [
    "\"\"\"\n",
    "What is the progress of the paragraphs in which they became a ground-truth of another questions?\n",
    "# First we need to find which questions were assigned to that paragraph\n",
    "\"\"\"\n",
    "\n",
    "paragraph_ids_to_examine = [5186]\n",
    "questions = []\n",
    "for p in paragraph_ids_to_examine:\n",
    "    try:\n",
    "        print('*' * 10)\n",
    "        print('Parahraph {}'.format(p)) \n",
    "         # FOR EPOCH 0 : BEFORE APPENDIX\n",
    "        _epoch = 0\n",
    "        for _k in range(total_ks):\n",
    "            try:\n",
    "                question = np.where(data_dict['top_k'][str(_k+1)]['closest_labels_before'] \n",
    "                                                    == p)[0][_k]\n",
    "                paragraph_at_k = my_dict['top_k'][str(total_ks)]['closest_labels_before'][question][_k]\n",
    "                q_to_p_distance_at_k = my_dict['top_k'][str(total_ks)]['distances_before'][question][_k]\n",
    "                is_ground_truth_in_k_range = my_dict['top_k'][str(_k+1)]['are_founds_before'][question][0]\n",
    "                questions.append((question,\n",
    "                                 _epoch,\n",
    "                                 _k+1,\n",
    "                                 paragraph_at_k, \n",
    "                                 q_to_p_distance_at_k,\n",
    "                                 is_ground_truth_in_k_range\n",
    "                ))\n",
    "            except:\n",
    "                print('There is no such a question that belongs to paragraph {} in that 5000 subset at epoch:{}, k:{}'.format(p, _epoch, _k+1))\n",
    "\n",
    "        # FOR EPOCH > 0 : AFTER APPENDIX\n",
    "        for _epoch in range(1,num_of_epochs+1):\n",
    "            for _k in range(total_ks):\n",
    "                try:\n",
    "                    paragraph_at_k = my_dict[str(_epoch)]['top_k'][str(total_ks)]['closest_labels_after'][question][_k]\n",
    "                    q_to_p_distance_at_k = my_dict[str(_epoch)]['top_k'][str(total_ks)]['distances_after'][question][_k]\n",
    "                    is_ground_truth_in_k_range = my_dict[str(_epoch)]['top_k'][str(_k+1)]['are_founds_after'][question][0]\n",
    "                    questions.append((question,\n",
    "                                     _epoch,\n",
    "                                     _k+1,\n",
    "                                     paragraph_at_k, \n",
    "                                     q_to_p_distance_at_k,\n",
    "                                     is_ground_truth_in_k_range\n",
    "                    ))\n",
    "                except:\n",
    "                    print('There is no such a question that belongs to paragraph {} in that 5000 subset at epoch:{}, k:{}'.format(p, _epoch, _k+1))\n",
    "                \n",
    "    except:\n",
    "        print('There is no such a question that belongs to paragraph {} in that 5000 subset at epoch:{}, k:{}'.format(p, _epoch, _k+1))\n",
    "\n",
    "df_traced_questions = pd.DataFrame(questions, columns=['question_id','epoch', 'k', 'paragraph_id', 'distance_to_paragraph', 'is_ground_truth_in_k_range'])   "
   ]
  },
  {
   "cell_type": "code",
   "execution_count": 167,
   "metadata": {},
   "outputs": [
    {
     "data": {
      "application/vnd.plotly.v1+json": {
       "data": [
        {
         "mode": "lines+markers",
         "name": "Question 810",
         "type": "scatter",
         "x": [
          1,
          2,
          3,
          4,
          5,
          6,
          7,
          8,
          9,
          10
         ],
         "y": [
          0.023989081382751465,
          0.02917546033859253,
          0.03250598907470703,
          0.035557448863983154,
          0.03861957788467407,
          0.041623592376708984,
          0.044522881507873535,
          0.047160327434539795,
          0.049686312675476074,
          0.052275121212005615
         ]
        },
        {
         "mode": "lines+markers",
         "name": "Question 1534",
         "type": "scatter",
         "x": [
          1,
          2,
          3,
          4,
          5,
          6,
          7,
          8,
          9,
          10
         ],
         "y": [
          0.02072155475616455,
          0.027564287185668945,
          0.03213167190551758,
          0.036505699157714844,
          0.04076802730560303,
          0.04477059841156006,
          0.048480987548828125,
          0.0520625114440918,
          0.05556374788284302,
          0.058999478816986084
         ]
        },
        {
         "mode": "lines+markers",
         "name": "Question 1864",
         "type": "scatter",
         "x": [
          1,
          2,
          3,
          4,
          5,
          6,
          7,
          8,
          9,
          10
         ],
         "y": [
          0.02367222309112549,
          0.02812778949737549,
          0.0307847261428833,
          0.03326117992401123,
          0.035759568214416504,
          0.03819847106933594,
          0.040608882904052734,
          0.04290032386779785,
          0.04514360427856445,
          0.04742705821990967
         ]
        },
        {
         "mode": "lines+markers",
         "name": "Question 1649",
         "type": "scatter",
         "x": [
          1,
          2,
          3,
          4,
          5,
          6,
          7,
          8,
          9,
          10
         ],
         "y": [
          0.027207612991333008,
          0.033336639404296875,
          0.03751415014266968,
          0.041401565074920654,
          0.04504579305648804,
          0.04862946271896362,
          0.05213040113449097,
          0.05550128221511841,
          0.05878090858459473,
          0.06190890073776245
         ]
        },
        {
         "mode": "lines+markers",
         "name": "Question 1001",
         "type": "scatter",
         "x": [
          1,
          2,
          3,
          4,
          5,
          6,
          7,
          8,
          9,
          10
         ],
         "y": [
          0.0409318208694458,
          0.05098319053649902,
          0.05772024393081665,
          0.06403094530105591,
          0.07021665573120117,
          0.07620733976364136,
          0.08190596103668213,
          0.0873677134513855,
          0.09268426895141602,
          0.09784173965454102
         ]
        },
        {
         "mode": "lines+markers",
         "name": "Question 4638",
         "type": "scatter",
         "x": [
          1,
          2,
          3,
          4,
          5,
          6,
          7,
          8,
          9,
          10
         ],
         "y": [
          0.018683910369873047,
          0.02339833974838257,
          0.026232361793518066,
          0.028917968273162842,
          0.03138989210128784,
          0.03375709056854248,
          0.035996437072753906,
          0.03801685571670532,
          0.03996175527572632,
          0.04185795783996582
         ]
        },
        {
         "mode": "lines+markers",
         "name": "Question 3752",
         "type": "scatter",
         "x": [
          1,
          2,
          3,
          4,
          5,
          6,
          7,
          8,
          9,
          10
         ],
         "y": [
          0.014843165874481201,
          0.016849398612976074,
          0.01837778091430664,
          0.01979529857635498,
          0.02114248275756836,
          0.022301971912384033,
          0.02349221706390381,
          0.024593591690063477,
          0.02565401792526245,
          0.026709556579589844
         ]
        },
        {
         "mode": "lines+markers",
         "name": "Question 3979",
         "type": "scatter",
         "x": [
          1,
          2,
          3,
          4,
          5,
          6,
          7,
          8,
          9,
          10
         ],
         "y": [
          0.0200921893119812,
          0.02303212881088257,
          0.02499103546142578,
          0.026835739612579346,
          0.02862083911895752,
          0.03037172555923462,
          0.03191190958023071,
          0.03346610069274902,
          0.034976065158843994,
          0.036396682262420654
         ]
        },
        {
         "mode": "lines+markers",
         "name": "Question 4783",
         "type": "scatter",
         "x": [
          1,
          2,
          3,
          4,
          5,
          6,
          7,
          8,
          9,
          10
         ],
         "y": [
          0.02604621648788452,
          0.033604323863983154,
          0.039013683795928955,
          0.044145822525024414,
          0.049098849296569824,
          0.05385398864746094,
          0.05835855007171631,
          0.06257772445678711,
          0.06656098365783691,
          0.07049864530563354
         ]
        },
        {
         "mode": "lines+markers",
         "name": "Question 166",
         "type": "scatter",
         "x": [
          1,
          2,
          3,
          4,
          5,
          6,
          7,
          8,
          9,
          10
         ],
         "y": [
          0.026346266269683838,
          0.03417092561721802,
          0.039599478244781494,
          0.04473656415939331,
          0.049661099910736084,
          0.05448448657989502,
          0.059041619300842285,
          0.06342083215713501,
          0.06762152910232544,
          0.07169926166534424
         ]
        },
        {
         "mode": "lines+markers",
         "name": "Question 421",
         "type": "scatter",
         "x": [
          1,
          2,
          3,
          4,
          5,
          6,
          7,
          8,
          9,
          10
         ],
         "y": [
          0.03083711862564087,
          0.03752797842025757,
          0.041714370250701904,
          0.045595765113830566,
          0.04944753646850586,
          0.05322551727294922,
          0.056840598583221436,
          0.06018185615539551,
          0.06350332498550415,
          0.06687712669372559
         ]
        },
        {
         "mode": "lines+markers",
         "name": "Question 1053",
         "type": "scatter",
         "x": [
          1,
          2,
          3,
          4,
          5,
          6,
          7,
          8,
          9,
          10
         ],
         "y": [
          0.008653223514556885,
          0.013134777545928955,
          0.017202317714691162,
          0.020843923091888428,
          0.024131417274475098,
          0.02708137035369873,
          0.0297432541847229,
          0.0320395827293396,
          0.03406137228012085,
          0.03582119941711426
         ]
        },
        {
         "mode": "lines+markers",
         "name": "Question 738",
         "type": "scatter",
         "x": [
          1,
          2,
          3,
          4,
          5,
          6,
          7,
          8,
          9,
          10
         ],
         "y": [
          0.012126624584197998,
          0.016644418239593506,
          0.019551873207092285,
          0.022308647632598877,
          0.024891257286071777,
          0.027406036853790283,
          0.02970641851425171,
          0.03195875883102417,
          0.03409898281097412,
          0.03613591194152832
         ]
        },
        {
         "mode": "lines+markers",
         "name": "Question 3604",
         "type": "scatter",
         "x": [
          1,
          2,
          3,
          4,
          5,
          6,
          7,
          8,
          9,
          10
         ],
         "y": [
          0.018518686294555664,
          0.022324323654174805,
          0.025202512741088867,
          0.027875185012817383,
          0.030402719974517822,
          0.03285139799118042,
          0.03515613079071045,
          0.03726071119308472,
          0.039218127727508545,
          0.041156768798828125
         ]
        },
        {
         "mode": "lines+markers",
         "name": "Question 1805",
         "type": "scatter",
         "x": [
          1,
          2,
          3,
          4,
          5,
          6,
          7,
          8,
          9,
          10
         ],
         "y": [
          0.030331969261169434,
          0.03551363945007324,
          0.038349270820617676,
          0.04103994369506836,
          0.043451130390167236,
          0.0457952618598938,
          0.04788470268249512,
          0.04991018772125244,
          0.051890790462493896,
          0.05378490686416626
         ]
        }
       ],
       "layout": {
        "title": "Delta Before Trained Q. Embeds. to Ground Truth vs After Trained Q. Embeds. to Ground Truth",
        "xaxis": {
         "title": "Epochs"
        },
        "yaxis": {
         "title": "Delta Distance"
        }
       }
      },
      "text/html": [
       "<div id=\"8c9b84da-b693-4aa0-80bf-d3ec013ecb20\" style=\"height: 525px; width: 100%;\" class=\"plotly-graph-div\"></div><script type=\"text/javascript\">require([\"plotly\"], function(Plotly) { window.PLOTLYENV=window.PLOTLYENV || {};window.PLOTLYENV.BASE_URL=\"https://plot.ly\";Plotly.newPlot(\"8c9b84da-b693-4aa0-80bf-d3ec013ecb20\", [{\"name\": \"Question 810\", \"type\": \"scatter\", \"x\": [1, 2, 3, 4, 5, 6, 7, 8, 9, 10], \"y\": [0.023989081382751465, 0.02917546033859253, 0.03250598907470703, 0.035557448863983154, 0.03861957788467407, 0.041623592376708984, 0.044522881507873535, 0.047160327434539795, 0.049686312675476074, 0.052275121212005615], \"mode\": \"lines+markers\"}, {\"name\": \"Question 1534\", \"type\": \"scatter\", \"x\": [1, 2, 3, 4, 5, 6, 7, 8, 9, 10], \"y\": [0.02072155475616455, 0.027564287185668945, 0.03213167190551758, 0.036505699157714844, 0.04076802730560303, 0.04477059841156006, 0.048480987548828125, 0.0520625114440918, 0.05556374788284302, 0.058999478816986084], \"mode\": \"lines+markers\"}, {\"name\": \"Question 1864\", \"type\": \"scatter\", \"x\": [1, 2, 3, 4, 5, 6, 7, 8, 9, 10], \"y\": [0.02367222309112549, 0.02812778949737549, 0.0307847261428833, 0.03326117992401123, 0.035759568214416504, 0.03819847106933594, 0.040608882904052734, 0.04290032386779785, 0.04514360427856445, 0.04742705821990967], \"mode\": \"lines+markers\"}, {\"name\": \"Question 1649\", \"type\": \"scatter\", \"x\": [1, 2, 3, 4, 5, 6, 7, 8, 9, 10], \"y\": [0.027207612991333008, 0.033336639404296875, 0.03751415014266968, 0.041401565074920654, 0.04504579305648804, 0.04862946271896362, 0.05213040113449097, 0.05550128221511841, 0.05878090858459473, 0.06190890073776245], \"mode\": \"lines+markers\"}, {\"name\": \"Question 1001\", \"type\": \"scatter\", \"x\": [1, 2, 3, 4, 5, 6, 7, 8, 9, 10], \"y\": [0.0409318208694458, 0.05098319053649902, 0.05772024393081665, 0.06403094530105591, 0.07021665573120117, 0.07620733976364136, 0.08190596103668213, 0.0873677134513855, 0.09268426895141602, 0.09784173965454102], \"mode\": \"lines+markers\"}, {\"name\": \"Question 4638\", \"type\": \"scatter\", \"x\": [1, 2, 3, 4, 5, 6, 7, 8, 9, 10], \"y\": [0.018683910369873047, 0.02339833974838257, 0.026232361793518066, 0.028917968273162842, 0.03138989210128784, 0.03375709056854248, 0.035996437072753906, 0.03801685571670532, 0.03996175527572632, 0.04185795783996582], \"mode\": \"lines+markers\"}, {\"name\": \"Question 3752\", \"type\": \"scatter\", \"x\": [1, 2, 3, 4, 5, 6, 7, 8, 9, 10], \"y\": [0.014843165874481201, 0.016849398612976074, 0.01837778091430664, 0.01979529857635498, 0.02114248275756836, 0.022301971912384033, 0.02349221706390381, 0.024593591690063477, 0.02565401792526245, 0.026709556579589844], \"mode\": \"lines+markers\"}, {\"name\": \"Question 3979\", \"type\": \"scatter\", \"x\": [1, 2, 3, 4, 5, 6, 7, 8, 9, 10], \"y\": [0.0200921893119812, 0.02303212881088257, 0.02499103546142578, 0.026835739612579346, 0.02862083911895752, 0.03037172555923462, 0.03191190958023071, 0.03346610069274902, 0.034976065158843994, 0.036396682262420654], \"mode\": \"lines+markers\"}, {\"name\": \"Question 4783\", \"type\": \"scatter\", \"x\": [1, 2, 3, 4, 5, 6, 7, 8, 9, 10], \"y\": [0.02604621648788452, 0.033604323863983154, 0.039013683795928955, 0.044145822525024414, 0.049098849296569824, 0.05385398864746094, 0.05835855007171631, 0.06257772445678711, 0.06656098365783691, 0.07049864530563354], \"mode\": \"lines+markers\"}, {\"name\": \"Question 166\", \"type\": \"scatter\", \"x\": [1, 2, 3, 4, 5, 6, 7, 8, 9, 10], \"y\": [0.026346266269683838, 0.03417092561721802, 0.039599478244781494, 0.04473656415939331, 0.049661099910736084, 0.05448448657989502, 0.059041619300842285, 0.06342083215713501, 0.06762152910232544, 0.07169926166534424], \"mode\": \"lines+markers\"}, {\"name\": \"Question 421\", \"type\": \"scatter\", \"x\": [1, 2, 3, 4, 5, 6, 7, 8, 9, 10], \"y\": [0.03083711862564087, 0.03752797842025757, 0.041714370250701904, 0.045595765113830566, 0.04944753646850586, 0.05322551727294922, 0.056840598583221436, 0.06018185615539551, 0.06350332498550415, 0.06687712669372559], \"mode\": \"lines+markers\"}, {\"name\": \"Question 1053\", \"type\": \"scatter\", \"x\": [1, 2, 3, 4, 5, 6, 7, 8, 9, 10], \"y\": [0.008653223514556885, 0.013134777545928955, 0.017202317714691162, 0.020843923091888428, 0.024131417274475098, 0.02708137035369873, 0.0297432541847229, 0.0320395827293396, 0.03406137228012085, 0.03582119941711426], \"mode\": \"lines+markers\"}, {\"name\": \"Question 738\", \"type\": \"scatter\", \"x\": [1, 2, 3, 4, 5, 6, 7, 8, 9, 10], \"y\": [0.012126624584197998, 0.016644418239593506, 0.019551873207092285, 0.022308647632598877, 0.024891257286071777, 0.027406036853790283, 0.02970641851425171, 0.03195875883102417, 0.03409898281097412, 0.03613591194152832], \"mode\": \"lines+markers\"}, {\"name\": \"Question 3604\", \"type\": \"scatter\", \"x\": [1, 2, 3, 4, 5, 6, 7, 8, 9, 10], \"y\": [0.018518686294555664, 0.022324323654174805, 0.025202512741088867, 0.027875185012817383, 0.030402719974517822, 0.03285139799118042, 0.03515613079071045, 0.03726071119308472, 0.039218127727508545, 0.041156768798828125], \"mode\": \"lines+markers\"}, {\"name\": \"Question 1805\", \"type\": \"scatter\", \"x\": [1, 2, 3, 4, 5, 6, 7, 8, 9, 10], \"y\": [0.030331969261169434, 0.03551363945007324, 0.038349270820617676, 0.04103994369506836, 0.043451130390167236, 0.0457952618598938, 0.04788470268249512, 0.04991018772125244, 0.051890790462493896, 0.05378490686416626], \"mode\": \"lines+markers\"}], {\"yaxis\": {\"title\": \"Delta Distance\"}, \"xaxis\": {\"title\": \"Epochs\"}, \"title\": \"Delta Before Trained Q. Embeds. to Ground Truth vs After Trained Q. Embeds. to Ground Truth\"}, {\"linkText\": \"Export to plot.ly\", \"showLink\": true})});</script>"
      ],
      "text/vnd.plotly.v1+html": [
       "<div id=\"8c9b84da-b693-4aa0-80bf-d3ec013ecb20\" style=\"height: 525px; width: 100%;\" class=\"plotly-graph-div\"></div><script type=\"text/javascript\">require([\"plotly\"], function(Plotly) { window.PLOTLYENV=window.PLOTLYENV || {};window.PLOTLYENV.BASE_URL=\"https://plot.ly\";Plotly.newPlot(\"8c9b84da-b693-4aa0-80bf-d3ec013ecb20\", [{\"name\": \"Question 810\", \"type\": \"scatter\", \"x\": [1, 2, 3, 4, 5, 6, 7, 8, 9, 10], \"y\": [0.023989081382751465, 0.02917546033859253, 0.03250598907470703, 0.035557448863983154, 0.03861957788467407, 0.041623592376708984, 0.044522881507873535, 0.047160327434539795, 0.049686312675476074, 0.052275121212005615], \"mode\": \"lines+markers\"}, {\"name\": \"Question 1534\", \"type\": \"scatter\", \"x\": [1, 2, 3, 4, 5, 6, 7, 8, 9, 10], \"y\": [0.02072155475616455, 0.027564287185668945, 0.03213167190551758, 0.036505699157714844, 0.04076802730560303, 0.04477059841156006, 0.048480987548828125, 0.0520625114440918, 0.05556374788284302, 0.058999478816986084], \"mode\": \"lines+markers\"}, {\"name\": \"Question 1864\", \"type\": \"scatter\", \"x\": [1, 2, 3, 4, 5, 6, 7, 8, 9, 10], \"y\": [0.02367222309112549, 0.02812778949737549, 0.0307847261428833, 0.03326117992401123, 0.035759568214416504, 0.03819847106933594, 0.040608882904052734, 0.04290032386779785, 0.04514360427856445, 0.04742705821990967], \"mode\": \"lines+markers\"}, {\"name\": \"Question 1649\", \"type\": \"scatter\", \"x\": [1, 2, 3, 4, 5, 6, 7, 8, 9, 10], \"y\": [0.027207612991333008, 0.033336639404296875, 0.03751415014266968, 0.041401565074920654, 0.04504579305648804, 0.04862946271896362, 0.05213040113449097, 0.05550128221511841, 0.05878090858459473, 0.06190890073776245], \"mode\": \"lines+markers\"}, {\"name\": \"Question 1001\", \"type\": \"scatter\", \"x\": [1, 2, 3, 4, 5, 6, 7, 8, 9, 10], \"y\": [0.0409318208694458, 0.05098319053649902, 0.05772024393081665, 0.06403094530105591, 0.07021665573120117, 0.07620733976364136, 0.08190596103668213, 0.0873677134513855, 0.09268426895141602, 0.09784173965454102], \"mode\": \"lines+markers\"}, {\"name\": \"Question 4638\", \"type\": \"scatter\", \"x\": [1, 2, 3, 4, 5, 6, 7, 8, 9, 10], \"y\": [0.018683910369873047, 0.02339833974838257, 0.026232361793518066, 0.028917968273162842, 0.03138989210128784, 0.03375709056854248, 0.035996437072753906, 0.03801685571670532, 0.03996175527572632, 0.04185795783996582], \"mode\": \"lines+markers\"}, {\"name\": \"Question 3752\", \"type\": \"scatter\", \"x\": [1, 2, 3, 4, 5, 6, 7, 8, 9, 10], \"y\": [0.014843165874481201, 0.016849398612976074, 0.01837778091430664, 0.01979529857635498, 0.02114248275756836, 0.022301971912384033, 0.02349221706390381, 0.024593591690063477, 0.02565401792526245, 0.026709556579589844], \"mode\": \"lines+markers\"}, {\"name\": \"Question 3979\", \"type\": \"scatter\", \"x\": [1, 2, 3, 4, 5, 6, 7, 8, 9, 10], \"y\": [0.0200921893119812, 0.02303212881088257, 0.02499103546142578, 0.026835739612579346, 0.02862083911895752, 0.03037172555923462, 0.03191190958023071, 0.03346610069274902, 0.034976065158843994, 0.036396682262420654], \"mode\": \"lines+markers\"}, {\"name\": \"Question 4783\", \"type\": \"scatter\", \"x\": [1, 2, 3, 4, 5, 6, 7, 8, 9, 10], \"y\": [0.02604621648788452, 0.033604323863983154, 0.039013683795928955, 0.044145822525024414, 0.049098849296569824, 0.05385398864746094, 0.05835855007171631, 0.06257772445678711, 0.06656098365783691, 0.07049864530563354], \"mode\": \"lines+markers\"}, {\"name\": \"Question 166\", \"type\": \"scatter\", \"x\": [1, 2, 3, 4, 5, 6, 7, 8, 9, 10], \"y\": [0.026346266269683838, 0.03417092561721802, 0.039599478244781494, 0.04473656415939331, 0.049661099910736084, 0.05448448657989502, 0.059041619300842285, 0.06342083215713501, 0.06762152910232544, 0.07169926166534424], \"mode\": \"lines+markers\"}, {\"name\": \"Question 421\", \"type\": \"scatter\", \"x\": [1, 2, 3, 4, 5, 6, 7, 8, 9, 10], \"y\": [0.03083711862564087, 0.03752797842025757, 0.041714370250701904, 0.045595765113830566, 0.04944753646850586, 0.05322551727294922, 0.056840598583221436, 0.06018185615539551, 0.06350332498550415, 0.06687712669372559], \"mode\": \"lines+markers\"}, {\"name\": \"Question 1053\", \"type\": \"scatter\", \"x\": [1, 2, 3, 4, 5, 6, 7, 8, 9, 10], \"y\": [0.008653223514556885, 0.013134777545928955, 0.017202317714691162, 0.020843923091888428, 0.024131417274475098, 0.02708137035369873, 0.0297432541847229, 0.0320395827293396, 0.03406137228012085, 0.03582119941711426], \"mode\": \"lines+markers\"}, {\"name\": \"Question 738\", \"type\": \"scatter\", \"x\": [1, 2, 3, 4, 5, 6, 7, 8, 9, 10], \"y\": [0.012126624584197998, 0.016644418239593506, 0.019551873207092285, 0.022308647632598877, 0.024891257286071777, 0.027406036853790283, 0.02970641851425171, 0.03195875883102417, 0.03409898281097412, 0.03613591194152832], \"mode\": \"lines+markers\"}, {\"name\": \"Question 3604\", \"type\": \"scatter\", \"x\": [1, 2, 3, 4, 5, 6, 7, 8, 9, 10], \"y\": [0.018518686294555664, 0.022324323654174805, 0.025202512741088867, 0.027875185012817383, 0.030402719974517822, 0.03285139799118042, 0.03515613079071045, 0.03726071119308472, 0.039218127727508545, 0.041156768798828125], \"mode\": \"lines+markers\"}, {\"name\": \"Question 1805\", \"type\": \"scatter\", \"x\": [1, 2, 3, 4, 5, 6, 7, 8, 9, 10], \"y\": [0.030331969261169434, 0.03551363945007324, 0.038349270820617676, 0.04103994369506836, 0.043451130390167236, 0.0457952618598938, 0.04788470268249512, 0.04991018772125244, 0.051890790462493896, 0.05378490686416626], \"mode\": \"lines+markers\"}], {\"yaxis\": {\"title\": \"Delta Distance\"}, \"xaxis\": {\"title\": \"Epochs\"}, \"title\": \"Delta Before Trained Q. Embeds. to Ground Truth vs After Trained Q. Embeds. to Ground Truth\"}, {\"linkText\": \"Export to plot.ly\", \"showLink\": true})});</script>"
      ]
     },
     "metadata": {},
     "output_type": "display_data"
    }
   ],
   "source": [
    "\"\"\"\n",
    "In each training iteration, Are questions moving closer to ground_truth or not\n",
    "if a delta value is moving to smaller value, it means question is moving to farther from its ground-truth, \n",
    "else is moving to closer to its ground-truth. The bigger, the better.\n",
    "\"\"\"\n",
    "\n",
    "data_delta = pd.DataFrame()\n",
    "for i in range(1,num_of_epochs+1):\n",
    "    data_delta[i] = my_dict[str(i)]['delta_before_after_model'][question_ids]\n",
    "data_delta = data_delta.T\n",
    "data_delta.columns = [question_ids[col_name] for col_name in data_delta.columns]\n",
    "data = []\n",
    "for q in question_ids:\n",
    "    trace = go.Scatter(\n",
    "    x = data_delta.index,\n",
    "    y = data_delta[q],\n",
    "    mode = 'lines+markers',\n",
    "    name = 'Question {}'.format(q))\n",
    "    data.append(trace)\n",
    "\n",
    "layout = go.Layout(\n",
    "    title='Delta Before Trained Q. Embeds. to Ground Truth vs After Trained Q. Embeds. to Ground Truth',\n",
    "    xaxis=dict(\n",
    "        title='Epochs'\n",
    "    ),\n",
    "    yaxis=dict(\n",
    "        title='Delta Distance'\n",
    "    )\n",
    ")\n",
    "fig =  go.Figure(data=data, layout=layout)\n",
    "py.offline.iplot(fig)"
   ]
  },
  {
   "cell_type": "code",
   "execution_count": 144,
   "metadata": {},
   "outputs": [
    {
     "data": {
      "application/vnd.plotly.v1+json": {
       "data": [
        {
         "mode": "lines+markers",
         "name": "Top top_1",
         "type": "scatter",
         "x": [
          0,
          1,
          2,
          3,
          4,
          5,
          6,
          7,
          8,
          9,
          10
         ],
         "y": [
          0.3372,
          0.3442,
          0.3438,
          0.3444,
          0.3456,
          0.345,
          0.3452,
          0.3462,
          0.3464,
          0.346,
          0.3466
         ]
        },
        {
         "mode": "lines+markers",
         "name": "Top top_2",
         "type": "scatter",
         "x": [
          0,
          1,
          2,
          3,
          4,
          5,
          6,
          7,
          8,
          9,
          10
         ],
         "y": [
          0.4204,
          0.4272,
          0.4276,
          0.4284,
          0.4296,
          0.4296,
          0.4286,
          0.4282,
          0.4284,
          0.4294,
          0.429
         ]
        },
        {
         "mode": "lines+markers",
         "name": "Top top_5",
         "type": "scatter",
         "x": [
          0,
          1,
          2,
          3,
          4,
          5,
          6,
          7,
          8,
          9,
          10
         ],
         "y": [
          0.5266,
          0.5348,
          0.5352,
          0.5364,
          0.5364,
          0.5356,
          0.5356,
          0.5352,
          0.5366,
          0.5354,
          0.5346
         ]
        },
        {
         "mode": "lines+markers",
         "name": "Top top_10",
         "type": "scatter",
         "x": [
          0,
          1,
          2,
          3,
          4,
          5,
          6,
          7,
          8,
          9,
          10
         ],
         "y": [
          0.597,
          0.6048,
          0.6052,
          0.6056,
          0.6068,
          0.6072,
          0.6072,
          0.6066,
          0.6064,
          0.605,
          0.6052
         ]
        },
        {
         "mode": "lines+markers",
         "name": "Top top_20",
         "type": "scatter",
         "x": [
          0,
          1,
          2,
          3,
          4,
          5,
          6,
          7,
          8,
          9,
          10
         ],
         "y": [
          0.6724,
          0.6768,
          0.6774,
          0.6768,
          0.6772,
          0.677,
          0.6776,
          0.678,
          0.6766,
          0.6766,
          0.676
         ]
        },
        {
         "mode": "lines+markers",
         "name": "Top top_50",
         "type": "scatter",
         "x": [
          0,
          1,
          2,
          3,
          4,
          5,
          6,
          7,
          8,
          9,
          10
         ],
         "y": [
          0.759,
          0.7612,
          0.762,
          0.7626,
          0.7642,
          0.7636,
          0.7646,
          0.7634,
          0.7628,
          0.7636,
          0.7618
         ]
        }
       ],
       "layout": {
        "title": "How the recalls at top n are changing for each epoch",
        "xaxis": {
         "title": "Epochs"
        },
        "yaxis": {
         "title": "Recall Values"
        }
       }
      },
      "text/html": [
       "<div id=\"81e9644f-dd72-4fd1-906e-35f29282d9e4\" style=\"height: 525px; width: 100%;\" class=\"plotly-graph-div\"></div><script type=\"text/javascript\">require([\"plotly\"], function(Plotly) { window.PLOTLYENV=window.PLOTLYENV || {};window.PLOTLYENV.BASE_URL=\"https://plot.ly\";Plotly.newPlot(\"81e9644f-dd72-4fd1-906e-35f29282d9e4\", [{\"name\": \"Top top_1\", \"type\": \"scatter\", \"x\": [0, 1, 2, 3, 4, 5, 6, 7, 8, 9, 10], \"y\": [0.3372, 0.3442, 0.3438, 0.3444, 0.3456, 0.345, 0.3452, 0.3462, 0.3464, 0.346, 0.3466], \"mode\": \"lines+markers\"}, {\"name\": \"Top top_2\", \"type\": \"scatter\", \"x\": [0, 1, 2, 3, 4, 5, 6, 7, 8, 9, 10], \"y\": [0.4204, 0.4272, 0.4276, 0.4284, 0.4296, 0.4296, 0.4286, 0.4282, 0.4284, 0.4294, 0.429], \"mode\": \"lines+markers\"}, {\"name\": \"Top top_5\", \"type\": \"scatter\", \"x\": [0, 1, 2, 3, 4, 5, 6, 7, 8, 9, 10], \"y\": [0.5266, 0.5348, 0.5352, 0.5364, 0.5364, 0.5356, 0.5356, 0.5352, 0.5366, 0.5354, 0.5346], \"mode\": \"lines+markers\"}, {\"name\": \"Top top_10\", \"type\": \"scatter\", \"x\": [0, 1, 2, 3, 4, 5, 6, 7, 8, 9, 10], \"y\": [0.597, 0.6048, 0.6052, 0.6056, 0.6068, 0.6072, 0.6072, 0.6066, 0.6064, 0.605, 0.6052], \"mode\": \"lines+markers\"}, {\"name\": \"Top top_20\", \"type\": \"scatter\", \"x\": [0, 1, 2, 3, 4, 5, 6, 7, 8, 9, 10], \"y\": [0.6724, 0.6768, 0.6774, 0.6768, 0.6772, 0.677, 0.6776, 0.678, 0.6766, 0.6766, 0.676], \"mode\": \"lines+markers\"}, {\"name\": \"Top top_50\", \"type\": \"scatter\", \"x\": [0, 1, 2, 3, 4, 5, 6, 7, 8, 9, 10], \"y\": [0.759, 0.7612, 0.762, 0.7626, 0.7642, 0.7636, 0.7646, 0.7634, 0.7628, 0.7636, 0.7618], \"mode\": \"lines+markers\"}], {\"yaxis\": {\"title\": \"Recall Values\"}, \"xaxis\": {\"title\": \"Epochs\"}, \"title\": \"How the recalls at top n are changing for each epoch\"}, {\"linkText\": \"Export to plot.ly\", \"showLink\": true})});</script>"
      ],
      "text/vnd.plotly.v1+html": [
       "<div id=\"81e9644f-dd72-4fd1-906e-35f29282d9e4\" style=\"height: 525px; width: 100%;\" class=\"plotly-graph-div\"></div><script type=\"text/javascript\">require([\"plotly\"], function(Plotly) { window.PLOTLYENV=window.PLOTLYENV || {};window.PLOTLYENV.BASE_URL=\"https://plot.ly\";Plotly.newPlot(\"81e9644f-dd72-4fd1-906e-35f29282d9e4\", [{\"name\": \"Top top_1\", \"type\": \"scatter\", \"x\": [0, 1, 2, 3, 4, 5, 6, 7, 8, 9, 10], \"y\": [0.3372, 0.3442, 0.3438, 0.3444, 0.3456, 0.345, 0.3452, 0.3462, 0.3464, 0.346, 0.3466], \"mode\": \"lines+markers\"}, {\"name\": \"Top top_2\", \"type\": \"scatter\", \"x\": [0, 1, 2, 3, 4, 5, 6, 7, 8, 9, 10], \"y\": [0.4204, 0.4272, 0.4276, 0.4284, 0.4296, 0.4296, 0.4286, 0.4282, 0.4284, 0.4294, 0.429], \"mode\": \"lines+markers\"}, {\"name\": \"Top top_5\", \"type\": \"scatter\", \"x\": [0, 1, 2, 3, 4, 5, 6, 7, 8, 9, 10], \"y\": [0.5266, 0.5348, 0.5352, 0.5364, 0.5364, 0.5356, 0.5356, 0.5352, 0.5366, 0.5354, 0.5346], \"mode\": \"lines+markers\"}, {\"name\": \"Top top_10\", \"type\": \"scatter\", \"x\": [0, 1, 2, 3, 4, 5, 6, 7, 8, 9, 10], \"y\": [0.597, 0.6048, 0.6052, 0.6056, 0.6068, 0.6072, 0.6072, 0.6066, 0.6064, 0.605, 0.6052], \"mode\": \"lines+markers\"}, {\"name\": \"Top top_20\", \"type\": \"scatter\", \"x\": [0, 1, 2, 3, 4, 5, 6, 7, 8, 9, 10], \"y\": [0.6724, 0.6768, 0.6774, 0.6768, 0.6772, 0.677, 0.6776, 0.678, 0.6766, 0.6766, 0.676], \"mode\": \"lines+markers\"}, {\"name\": \"Top top_50\", \"type\": \"scatter\", \"x\": [0, 1, 2, 3, 4, 5, 6, 7, 8, 9, 10], \"y\": [0.759, 0.7612, 0.762, 0.7626, 0.7642, 0.7636, 0.7646, 0.7634, 0.7628, 0.7636, 0.7618], \"mode\": \"lines+markers\"}], {\"yaxis\": {\"title\": \"Recall Values\"}, \"xaxis\": {\"title\": \"Epochs\"}, \"title\": \"How the recalls at top n are changing for each epoch\"}, {\"linkText\": \"Export to plot.ly\", \"showLink\": true})});</script>"
      ]
     },
     "metadata": {},
     "output_type": "display_data"
    }
   ],
   "source": []
  },
  {
   "cell_type": "code",
   "execution_count": 145,
   "metadata": {},
   "outputs": [
    {
     "data": {
      "application/vnd.plotly.v1+json": {
       "data": [
        {
         "mode": "lines+markers",
         "type": "scatter",
         "x": [
          0,
          1,
          2,
          3,
          4,
          5,
          6,
          7,
          8,
          9,
          10
         ],
         "y": [
          0.11979279667139053,
          0.11896759271621704,
          0.11880692094564438,
          0.11868074536323547,
          0.11854063719511032,
          0.11838176101446152,
          0.11821123212575912,
          0.11802074313163757,
          0.11782656610012054,
          0.11761912703514099,
          0.11739318072795868
         ]
        }
       ],
       "layout": {
        "title": "Standart Deviation of the distances q to ground truths for each epoch",
        "xaxis": {
         "title": "Epochs"
        },
        "yaxis": {
         "title": "Standart Deviation of the distances"
        }
       }
      },
      "text/html": [
       "<div id=\"6ea16493-f4fe-4085-b964-38965481989d\" style=\"height: 525px; width: 100%;\" class=\"plotly-graph-div\"></div><script type=\"text/javascript\">require([\"plotly\"], function(Plotly) { window.PLOTLYENV=window.PLOTLYENV || {};window.PLOTLYENV.BASE_URL=\"https://plot.ly\";Plotly.newPlot(\"6ea16493-f4fe-4085-b964-38965481989d\", [{\"x\": [0, 1, 2, 3, 4, 5, 6, 7, 8, 9, 10], \"type\": \"scatter\", \"mode\": \"lines+markers\", \"y\": [0.11979279667139053, 0.11896759271621704, 0.11880692094564438, 0.11868074536323547, 0.11854063719511032, 0.11838176101446152, 0.11821123212575912, 0.11802074313163757, 0.11782656610012054, 0.11761912703514099, 0.11739318072795868]}], {\"yaxis\": {\"title\": \"Standart Deviation of the distances\"}, \"xaxis\": {\"title\": \"Epochs\"}, \"title\": \"Standart Deviation of the distances q to ground truths for each epoch\"}, {\"linkText\": \"Export to plot.ly\", \"showLink\": true})});</script>"
      ],
      "text/vnd.plotly.v1+html": [
       "<div id=\"6ea16493-f4fe-4085-b964-38965481989d\" style=\"height: 525px; width: 100%;\" class=\"plotly-graph-div\"></div><script type=\"text/javascript\">require([\"plotly\"], function(Plotly) { window.PLOTLYENV=window.PLOTLYENV || {};window.PLOTLYENV.BASE_URL=\"https://plot.ly\";Plotly.newPlot(\"6ea16493-f4fe-4085-b964-38965481989d\", [{\"x\": [0, 1, 2, 3, 4, 5, 6, 7, 8, 9, 10], \"type\": \"scatter\", \"mode\": \"lines+markers\", \"y\": [0.11979279667139053, 0.11896759271621704, 0.11880692094564438, 0.11868074536323547, 0.11854063719511032, 0.11838176101446152, 0.11821123212575912, 0.11802074313163757, 0.11782656610012054, 0.11761912703514099, 0.11739318072795868]}], {\"yaxis\": {\"title\": \"Standart Deviation of the distances\"}, \"xaxis\": {\"title\": \"Epochs\"}, \"title\": \"Standart Deviation of the distances q to ground truths for each epoch\"}, {\"linkText\": \"Export to plot.ly\", \"showLink\": true})});</script>"
      ]
     },
     "metadata": {},
     "output_type": "display_data"
    }
   ],
   "source": [
    "\"\"\"\n",
    "Standart Deviation of the distances q to ground truths for each epoch. If it is getting smaller, which means that \n",
    "embeddings are getting look like each other\n",
    "\"\"\"\n",
    "\n",
    "data_dev = []\n",
    "data_dev.append(np.std(my_dict['distance_from_before_model_q_to_p']))\n",
    "for i in range(1,num_of_epochs+1):\n",
    "    data_dev.append(np.std(my_dict[str(i)]['distance_from_after_model_q_to_p']))\n",
    "df_dev = pd.DataFrame(data=data_dev, columns=['std_dev'])\n",
    "trace = go.Scatter(\n",
    "x = df_dev.index,\n",
    "y = df_dev['std_dev'],\n",
    "mode = 'lines+markers')\n",
    "\n",
    "layout = go.Layout(\n",
    "    title='Standart Deviation of the distances q to ground truths for each epoch',\n",
    "    xaxis=dict(\n",
    "        title='Epochs'\n",
    "    ),\n",
    "    yaxis=dict(\n",
    "        title='Standart Deviation of the distances'\n",
    "    )\n",
    ")\n",
    "fig =  go.Figure(data=[trace], layout=layout)\n",
    "py.offline.iplot(fig)"
   ]
  },
  {
   "cell_type": "code",
   "execution_count": 146,
   "metadata": {},
   "outputs": [
    {
     "data": {
      "application/vnd.plotly.v1+json": {
       "data": [
        {
         "mode": "lines+markers",
         "type": "scatter",
         "x": [
          0,
          1,
          2,
          3,
          4,
          5,
          6,
          7,
          8,
          9
         ],
         "y": [
          0,
          0,
          0,
          0,
          0,
          0,
          0,
          0,
          0,
          0
         ]
        }
       ],
       "layout": {
        "title": "How many questions are getting farther from its pair paragraph",
        "xaxis": {
         "title": "Epochs"
        },
        "yaxis": {
         "title": "Number of bad questions"
        }
       }
      },
      "text/html": [
       "<div id=\"b959ff89-a973-4bc7-aef9-e000403b8c9b\" style=\"height: 525px; width: 100%;\" class=\"plotly-graph-div\"></div><script type=\"text/javascript\">require([\"plotly\"], function(Plotly) { window.PLOTLYENV=window.PLOTLYENV || {};window.PLOTLYENV.BASE_URL=\"https://plot.ly\";Plotly.newPlot(\"b959ff89-a973-4bc7-aef9-e000403b8c9b\", [{\"x\": [0, 1, 2, 3, 4, 5, 6, 7, 8, 9], \"type\": \"scatter\", \"mode\": \"lines+markers\", \"y\": [0, 0, 0, 0, 0, 0, 0, 0, 0, 0]}], {\"yaxis\": {\"title\": \"Number of bad questions\"}, \"xaxis\": {\"title\": \"Epochs\"}, \"title\": \"How many questions are getting farther from its pair paragraph\"}, {\"linkText\": \"Export to plot.ly\", \"showLink\": true})});</script>"
      ],
      "text/vnd.plotly.v1+html": [
       "<div id=\"b959ff89-a973-4bc7-aef9-e000403b8c9b\" style=\"height: 525px; width: 100%;\" class=\"plotly-graph-div\"></div><script type=\"text/javascript\">require([\"plotly\"], function(Plotly) { window.PLOTLYENV=window.PLOTLYENV || {};window.PLOTLYENV.BASE_URL=\"https://plot.ly\";Plotly.newPlot(\"b959ff89-a973-4bc7-aef9-e000403b8c9b\", [{\"x\": [0, 1, 2, 3, 4, 5, 6, 7, 8, 9], \"type\": \"scatter\", \"mode\": \"lines+markers\", \"y\": [0, 0, 0, 0, 0, 0, 0, 0, 0, 0]}], {\"yaxis\": {\"title\": \"Number of bad questions\"}, \"xaxis\": {\"title\": \"Epochs\"}, \"title\": \"How many questions are getting farther from its pair paragraph\"}, {\"linkText\": \"Export to plot.ly\", \"showLink\": true})});</script>"
      ]
     },
     "metadata": {},
     "output_type": "display_data"
    }
   ],
   "source": [
    "\"\"\"\n",
    "The idea here is that how many pairs we have that their distance are getting worse means that\n",
    "they are getting farther. \n",
    "\"\"\"\n",
    "number_of_bad_questions = []\n",
    "set_bad_questions = set()\n",
    "for i in range(1,num_of_epochs+1):\n",
    "    bad_questions = np.where(my_dict[str(i)]['distance_from_after_model_q_to_p'] < 0)\n",
    "    bad_questions = my_dict[str(i)]['distance_from_after_model_q_to_p'][bad_questions]\n",
    "    number_of_bad_questions.append(bad_questions.shape[0])\n",
    "    set_bad_questions.update(bad_questions)\n",
    "    \n",
    "df_farther = pd.DataFrame(data=number_of_bad_questions, columns=['number_of_bad_questions'])\n",
    "trace = go.Scatter(\n",
    "x = df_farther.index,\n",
    "y = df_farther['number_of_bad_questions'],\n",
    "mode = 'lines+markers')\n",
    "\n",
    "layout = go.Layout(\n",
    "    title='How many questions are getting farther from its pair paragraph',\n",
    "    xaxis=dict(\n",
    "        title='Epochs'\n",
    "    ),\n",
    "    yaxis=dict(\n",
    "        title='Number of bad questions'\n",
    "    )\n",
    ")\n",
    "fig =  go.Figure(data=[trace], layout=layout)\n",
    "py.offline.iplot(fig)"
   ]
  }
 ],
 "metadata": {
  "kernelspec": {
   "display_name": "Python 3",
   "language": "python",
   "name": "python3"
  },
  "language_info": {
   "codemirror_mode": {
    "name": "ipython",
    "version": 3
   },
   "file_extension": ".py",
   "mimetype": "text/x-python",
   "name": "python",
   "nbconvert_exporter": "python",
   "pygments_lexer": "ipython3",
   "version": "3.5.2"
  }
 },
 "nbformat": 4,
 "nbformat_minor": 1
}
