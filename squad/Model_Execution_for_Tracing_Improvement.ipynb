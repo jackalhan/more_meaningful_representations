{
 "cells": [
  {
   "cell_type": "code",
   "execution_count": 48,
   "metadata": {},
   "outputs": [
    {
     "data": {
      "text/html": [
       "<script type=\"text/javascript\">window.PlotlyConfig = {MathJaxConfig: 'local'};</script><script type=\"text/javascript\">if (window.MathJax) {MathJax.Hub.Config({SVG: {font: \"STIX-Web\"}});}</script><script>requirejs.config({paths: { 'plotly': ['https://cdn.plot.ly/plotly-latest.min']},});if(!window._Plotly) {require(['plotly'],function(plotly) {window._Plotly=plotly;});}</script>"
      ],
      "text/vnd.plotly.v1+html": [
       "<script type=\"text/javascript\">window.PlotlyConfig = {MathJaxConfig: 'local'};</script><script type=\"text/javascript\">if (window.MathJax) {MathJax.Hub.Config({SVG: {font: \"STIX-Web\"}});}</script><script>requirejs.config({paths: { 'plotly': ['https://cdn.plot.ly/plotly-latest.min']},});if(!window._Plotly) {require(['plotly'],function(plotly) {window._Plotly=plotly;});}</script>"
      ]
     },
     "metadata": {},
     "output_type": "display_data"
    }
   ],
   "source": [
    "import os\n",
    "import sys\n",
    "path = !echo ${VIRTUAL_ENV}\n",
    "path = os.path.join(path[0], '..')\n",
    "sys.path.append(path)\n",
    "from helper.utils import load_from_pickle, load_from_shelve\n",
    "import numpy as np\n",
    "import pandas as pd\n",
    "import collections\n",
    "from plotly import tools\n",
    "import plotly as py\n",
    "import plotly.graph_objs as go\n",
    "#import impywidgets as widget\n",
    "py.offline.init_notebook_mode(connected=True)"
   ]
  },
  {
   "cell_type": "code",
   "execution_count": 87,
   "metadata": {},
   "outputs": [],
   "source": [
    "base_data_path = \"/home/jackalhan/Development/github/more_meaningful_representations/squad/train/improvement/model_performances/subset_5000/\""
   ]
  },
  {
   "cell_type": "code",
   "execution_count": 88,
   "metadata": {},
   "outputs": [
    {
     "data": {
      "text/plain": [
       "['1 --> /home/jackalhan/Development/github/more_meaningful_representations/squad/train/improvement/model_performances/subset_5000/model_2_layers_2_epoch_1_mar_1.0_sf_1_1_wd_0.001_0.001_lr_0.001_dim_2048_2048_keep_1_1_seed_66_66_loss_v3/debug_dict.pkl']"
      ]
     },
     "execution_count": 88,
     "metadata": {},
     "output_type": "execute_result"
    }
   ],
   "source": [
    "debug_files = {}\n",
    "for i, structure in enumerate(os.walk(base_data_path)):\n",
    "    root, dirs, files = structure\n",
    "    for file in files:\n",
    "        if file.endswith(\".pkl\"):            \n",
    "            debug_files[i] = os.path.join(root, file)\n",
    "[\"{} --> {}\".format(key, value) for key, value in debug_files.items()]"
   ]
  },
  {
   "cell_type": "code",
   "execution_count": 89,
   "metadata": {},
   "outputs": [],
   "source": [
    "model_indx =1\n",
    "my_dict = load_from_pickle(os.path.join(base_data_path, \n",
    "                                        debug_files[model_indx]))\n",
    "num_of_epochs = my_dict['epochs']"
   ]
  },
  {
   "cell_type": "code",
   "execution_count": 90,
   "metadata": {},
   "outputs": [
    {
     "data": {
      "text/html": [
       "<div>\n",
       "<style scoped>\n",
       "    .dataframe tbody tr th:only-of-type {\n",
       "        vertical-align: middle;\n",
       "    }\n",
       "\n",
       "    .dataframe tbody tr th {\n",
       "        vertical-align: top;\n",
       "    }\n",
       "\n",
       "    .dataframe thead th {\n",
       "        text-align: right;\n",
       "    }\n",
       "</style>\n",
       "<table border=\"1\" class=\"dataframe\">\n",
       "  <thead>\n",
       "    <tr style=\"text-align: right;\">\n",
       "      <th></th>\n",
       "      <th>eval_metric_name</th>\n",
       "      <th>1</th>\n",
       "      <th>2</th>\n",
       "      <th>5</th>\n",
       "      <th>10</th>\n",
       "      <th>20</th>\n",
       "      <th>50</th>\n",
       "      <th>all</th>\n",
       "    </tr>\n",
       "  </thead>\n",
       "  <tbody>\n",
       "    <tr>\n",
       "      <th>0</th>\n",
       "      <td>recall</td>\n",
       "      <td>0.37</td>\n",
       "      <td>0.515</td>\n",
       "      <td>0.66</td>\n",
       "      <td>0.8</td>\n",
       "      <td>0.895</td>\n",
       "      <td>0.955</td>\n",
       "      <td>-</td>\n",
       "    </tr>\n",
       "    <tr>\n",
       "      <th>1</th>\n",
       "      <td>mrp</td>\n",
       "      <td>-</td>\n",
       "      <td>-</td>\n",
       "      <td>-</td>\n",
       "      <td>-</td>\n",
       "      <td>-</td>\n",
       "      <td>-</td>\n",
       "      <td>0.507712</td>\n",
       "    </tr>\n",
       "    <tr>\n",
       "      <th>2</th>\n",
       "      <td>precision</td>\n",
       "      <td>0.37</td>\n",
       "      <td>0.2575</td>\n",
       "      <td>0.132</td>\n",
       "      <td>0.08</td>\n",
       "      <td>0.04475</td>\n",
       "      <td>0.0191</td>\n",
       "      <td>-</td>\n",
       "    </tr>\n",
       "  </tbody>\n",
       "</table>\n",
       "</div>"
      ],
      "text/plain": [
       "  eval_metric_name     1       2      5    10       20      50       all\n",
       "0           recall  0.37   0.515   0.66   0.8    0.895   0.955         -\n",
       "1              mrp     -       -      -     -        -       -  0.507712\n",
       "2        precision  0.37  0.2575  0.132  0.08  0.04475  0.0191         -"
      ]
     },
     "execution_count": 90,
     "metadata": {},
     "output_type": "execute_result"
    }
   ],
   "source": [
    "eval_metrics = ['recall', 'precision', 'map', 'dcg', 'ndcg', 'arp', 'mrp']\n",
    "top_k = ['eval_metric_name', '1', '2', '3', '5', '10', '20', '50', 'all']\n",
    "\n",
    "#extract feature names and k into the hiarchical format\n",
    "eval_metrics = {}\n",
    "for key, value in my_dict['1'].items():\n",
    "    _ = key.split('_')\n",
    "    fn_name = _[0]\n",
    "    k = _[1]\n",
    "    if fn_name not in eval_metrics:\n",
    "        eval_metrics[fn_name]={}\n",
    "    if k == 'all':\n",
    "        eval_metrics[fn_name][1000] = value\n",
    "    else:\n",
    "        eval_metrics[fn_name][int(k)] = value\n",
    "\n",
    "# now place them to the dataframes\n",
    "dataset = []\n",
    "for fn_name, ks in eval_metrics.items():\n",
    "    ks_ = collections.OrderedDict(sorted(ks.items()))\n",
    "    row = []\n",
    "    for k in top_k:\n",
    "        if k == 'eval_metric_name':\n",
    "            row.append(fn_name)\n",
    "            continue\n",
    "        if k == 'all':\n",
    "            _k = 1000\n",
    "        else:\n",
    "            _k = int(k)\n",
    "        if _k in ks_:\n",
    "            row.append(ks[int(_k)])\n",
    "        else:\n",
    "            row.append('-')\n",
    "    dataset.append(row)\n",
    "    #print(fn_name)\n",
    "df_dataset = pd.DataFrame(data=dataset, columns=top_k)\n",
    "df_dataset"
   ]
  }
 ],
 "metadata": {
  "kernelspec": {
   "display_name": "Python 3",
   "language": "python",
   "name": "python3"
  },
  "language_info": {
   "codemirror_mode": {
    "name": "ipython",
    "version": 3
   },
   "file_extension": ".py",
   "mimetype": "text/x-python",
   "name": "python",
   "nbconvert_exporter": "python",
   "pygments_lexer": "ipython3",
   "version": "3.5.2"
  }
 },
 "nbformat": 4,
 "nbformat_minor": 1
}
