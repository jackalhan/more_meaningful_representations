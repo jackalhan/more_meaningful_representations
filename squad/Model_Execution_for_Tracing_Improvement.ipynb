{
 "cells": [
  {
   "cell_type": "code",
   "execution_count": 1,
   "metadata": {},
   "outputs": [
    {
     "name": "stderr",
     "output_type": "stream",
     "text": [
      "/home/jackalhan/Development/github/more_meaningful_representations/venv/lib/python3.5/site-packages/h5py/__init__.py:36: FutureWarning: Conversion of the second argument of issubdtype from `float` to `np.floating` is deprecated. In future, it will be treated as `np.float64 == np.dtype(float).type`.\n",
      "  from ._conv import register_converters as _register_converters\n"
     ]
    },
    {
     "data": {
      "text/html": [
       "<script>requirejs.config({paths: { 'plotly': ['https://cdn.plot.ly/plotly-latest.min']},});if(!window.Plotly) {{require(['plotly'],function(plotly) {window.Plotly=plotly;});}}</script>"
      ],
      "text/vnd.plotly.v1+html": [
       "<script>requirejs.config({paths: { 'plotly': ['https://cdn.plot.ly/plotly-latest.min']},});if(!window.Plotly) {{require(['plotly'],function(plotly) {window.Plotly=plotly;});}}</script>"
      ]
     },
     "metadata": {},
     "output_type": "display_data"
    }
   ],
   "source": [
    "import os\n",
    "import sys\n",
    "path = !echo ${VIRTUAL_ENV}\n",
    "path = os.path.join(path[0], '..')\n",
    "sys.path.append(path)\n",
    "from helper.utils import load_from_pickle, load_from_shelve\n",
    "import numpy as np\n",
    "import pandas as pd\n",
    "from plotly import tools\n",
    "import plotly as py\n",
    "import plotly.graph_objs as go\n",
    "#import impywidgets as widget\n",
    "py.offline.init_notebook_mode(connected=True)"
   ]
  },
  {
   "cell_type": "code",
   "execution_count": 18,
   "metadata": {},
   "outputs": [],
   "source": [
    "base_data_path = \"/home/jackalhan/Development/github/more_meaningful_representations/squad/train/improvement/model_performances/subset_5000/\""
   ]
  },
  {
   "cell_type": "code",
   "execution_count": 23,
   "metadata": {},
   "outputs": [
    {
     "data": {
      "text/plain": [
       "['1 --> /home/jackalhan/Development/github/more_meaningful_representations/squad/train/improvement/model_performances/subset_5000/model_2_layers_1_epoch_10_mar_0.6_sf_0.1_wd_0.001_lr_0.001_dim_2048_keep_1_seed_66_loss_v3/debug_dict.pkl']"
      ]
     },
     "execution_count": 23,
     "metadata": {},
     "output_type": "execute_result"
    }
   ],
   "source": [
    "debug_files = {}\n",
    "for i, structure in enumerate(os.walk(base_data_path)):\n",
    "    root, dirs, files = structure\n",
    "    for file in files:\n",
    "        if file.endswith(\".pkl\"):            \n",
    "            debug_files[i] = os.path.join(root, file)\n",
    "[\"{} --> {}\".format(key, value) for key, value in debug_files.items()]"
   ]
  },
  {
   "cell_type": "code",
   "execution_count": 24,
   "metadata": {},
   "outputs": [
    {
     "data": {
      "text/plain": [
       "'/home/jackalhan/Development/github/more_meaningful_representations/squad/train/improvement/model_performances/subset_5000/model_2_layers_1_epoch_10_mar_0.6_sf_0.1_wd_0.001_lr_0.001_dim_2048_keep_1_seed_66_loss_v3/debug_dict.pkl'"
      ]
     },
     "execution_count": 24,
     "metadata": {},
     "output_type": "execute_result"
    }
   ],
   "source": [
    "model_indx =1\n",
    "my_dict = load_from_pickle(os.path.join(base_data_path, \n",
    "                                        debug_files[model_indx]))\n",
    "num_of_epochs = my_dict['epochs']\n",
    "number_of_sample_question_size = 15\n",
    "# temp_ids = np.arange(my_dict['actual_labels'].shape[0])\n",
    "# np.random.shuffle(temp_ids)\n",
    "# question_ids = temp_ids[:number_of_sample_question_size]\n",
    "debug_files[model_indx]"
   ]
  },
  {
   "cell_type": "code",
   "execution_count": 25,
   "metadata": {},
   "outputs": [
    {
     "data": {
      "application/vnd.plotly.v1+json": {
       "data": [
        {
         "mode": "lines+markers",
         "name": "Top top_1",
         "type": "scatter",
         "uid": "6af47fb0-b959-11e8-a9b3-989096cb06e5",
         "x": [
          0,
          1,
          2,
          3,
          4,
          5,
          6,
          7,
          8,
          9,
          10
         ],
         "y": [
          0.447594278283485,
          0.44187256176853057,
          0.45123537061118335,
          0.4577373211963589,
          0.45929778933680104,
          0.4611183355006502,
          0.45851755526658,
          0.45955786736020804,
          0.45799739921976595,
          0.4564369310793238,
          0.4546163849154746
         ]
        },
        {
         "mode": "lines+markers",
         "name": "Top top_2",
         "type": "scatter",
         "uid": "6af47fb1-b959-11e8-a9b3-989096cb06e5",
         "x": [
          0,
          1,
          2,
          3,
          4,
          5,
          6,
          7,
          8,
          9,
          10
         ],
         "y": [
          0.5622886866059817,
          0.5563068920676203,
          0.5609882964889467,
          0.5685305591677503,
          0.5703511053315995,
          0.5721716514954487,
          0.5711313394018206,
          0.5708712613784135,
          0.5693107932379714,
          0.5690507152145644,
          0.5685305591677503
         ]
        },
        {
         "mode": "lines+markers",
         "name": "Top top_5",
         "type": "scatter",
         "uid": "6af47fb2-b959-11e8-a9b3-989096cb06e5",
         "x": [
          0,
          1,
          2,
          3,
          4,
          5,
          6,
          7,
          8,
          9,
          10
         ],
         "y": [
          0.6829648894668401,
          0.6842652795838752,
          0.6894668400520156,
          0.6923276983094928,
          0.6928478543563069,
          0.693628088426528,
          0.693628088426528,
          0.6928478543563069,
          0.6912873862158647,
          0.6905071521456437,
          0.6902470741222366
         ]
        },
        {
         "mode": "lines+markers",
         "name": "Top top_10",
         "type": "scatter",
         "uid": "6af47fb3-b959-11e8-a9b3-989096cb06e5",
         "x": [
          0,
          1,
          2,
          3,
          4,
          5,
          6,
          7,
          8,
          9,
          10
         ],
         "y": [
          0.765149544863459,
          0.7594278283485045,
          0.7693107932379714,
          0.7739921976592978,
          0.7752925877763329,
          0.7747724317295188,
          0.7726918075422626,
          0.7737321196358907,
          0.7729518855656697,
          0.7711313394018205,
          0.7713914174252275
         ]
        },
        {
         "mode": "lines+markers",
         "name": "Top top_20",
         "type": "scatter",
         "uid": "6af47fb4-b959-11e8-a9b3-989096cb06e5",
         "x": [
          0,
          1,
          2,
          3,
          4,
          5,
          6,
          7,
          8,
          9,
          10
         ],
         "y": [
          0.8319895968790637,
          0.8306892067620286,
          0.8384915474642393,
          0.8418725617685305,
          0.8421326397919375,
          0.8418725617685305,
          0.8418725617685305,
          0.8418725617685305,
          0.8408322496749024,
          0.8403120936280885,
          0.8392717815344604
         ]
        },
        {
         "mode": "lines+markers",
         "name": "Top top_50",
         "type": "scatter",
         "uid": "6af47fb5-b959-11e8-a9b3-989096cb06e5",
         "x": [
          0,
          1,
          2,
          3,
          4,
          5,
          6,
          7,
          8,
          9,
          10
         ],
         "y": [
          0.8925877763328999,
          0.8925877763328999,
          0.8964889466840053,
          0.8993498049414824,
          0.9001300390117035,
          0.9011703511053316,
          0.9006501950585175,
          0.8993498049414824,
          0.8985695708712613,
          0.8980494148244473,
          0.8972691807542262
         ]
        }
       ],
       "layout": {
        "title": "How the recalls at top n are changing for each epoch",
        "xaxis": {
         "title": "Epochs"
        },
        "yaxis": {
         "title": "Recall Values"
        }
       }
      },
      "text/html": [
       "<div id=\"e1dd1774-96a5-41ca-9ea0-8b37ce5c664d\" style=\"height: 525px; width: 100%;\" class=\"plotly-graph-div\"></div><script type=\"text/javascript\">require([\"plotly\"], function(Plotly) { window.PLOTLYENV=window.PLOTLYENV || {};window.PLOTLYENV.BASE_URL=\"https://plot.ly\";\n",
       "        Plotly.plot(\n",
       "            'e1dd1774-96a5-41ca-9ea0-8b37ce5c664d',\n",
       "            [{\"x\": [0.0, 1.0, 2.0, 3.0, 4.0, 5.0, 6.0, 7.0, 8.0, 9.0, 10.0], \"uid\": \"6af47fb0-b959-11e8-a9b3-989096cb06e5\", \"y\": [0.447594278283485, 0.44187256176853057, 0.45123537061118335, 0.4577373211963589, 0.45929778933680104, 0.4611183355006502, 0.45851755526658, 0.45955786736020804, 0.45799739921976595, 0.4564369310793238, 0.4546163849154746], \"mode\": \"lines+markers\", \"type\": \"scatter\", \"name\": \"Top top_1\"}, {\"x\": [0.0, 1.0, 2.0, 3.0, 4.0, 5.0, 6.0, 7.0, 8.0, 9.0, 10.0], \"uid\": \"6af47fb1-b959-11e8-a9b3-989096cb06e5\", \"y\": [0.5622886866059817, 0.5563068920676203, 0.5609882964889467, 0.5685305591677503, 0.5703511053315995, 0.5721716514954487, 0.5711313394018206, 0.5708712613784135, 0.5693107932379714, 0.5690507152145644, 0.5685305591677503], \"mode\": \"lines+markers\", \"type\": \"scatter\", \"name\": \"Top top_2\"}, {\"x\": [0.0, 1.0, 2.0, 3.0, 4.0, 5.0, 6.0, 7.0, 8.0, 9.0, 10.0], \"uid\": \"6af47fb2-b959-11e8-a9b3-989096cb06e5\", \"y\": [0.6829648894668401, 0.6842652795838752, 0.6894668400520156, 0.6923276983094928, 0.6928478543563069, 0.693628088426528, 0.693628088426528, 0.6928478543563069, 0.6912873862158647, 0.6905071521456437, 0.6902470741222366], \"mode\": \"lines+markers\", \"type\": \"scatter\", \"name\": \"Top top_5\"}, {\"x\": [0.0, 1.0, 2.0, 3.0, 4.0, 5.0, 6.0, 7.0, 8.0, 9.0, 10.0], \"uid\": \"6af47fb3-b959-11e8-a9b3-989096cb06e5\", \"y\": [0.765149544863459, 0.7594278283485045, 0.7693107932379714, 0.7739921976592978, 0.7752925877763329, 0.7747724317295188, 0.7726918075422626, 0.7737321196358907, 0.7729518855656697, 0.7711313394018205, 0.7713914174252275], \"mode\": \"lines+markers\", \"type\": \"scatter\", \"name\": \"Top top_10\"}, {\"x\": [0.0, 1.0, 2.0, 3.0, 4.0, 5.0, 6.0, 7.0, 8.0, 9.0, 10.0], \"uid\": \"6af47fb4-b959-11e8-a9b3-989096cb06e5\", \"y\": [0.8319895968790637, 0.8306892067620286, 0.8384915474642393, 0.8418725617685305, 0.8421326397919375, 0.8418725617685305, 0.8418725617685305, 0.8418725617685305, 0.8408322496749024, 0.8403120936280885, 0.8392717815344604], \"mode\": \"lines+markers\", \"type\": \"scatter\", \"name\": \"Top top_20\"}, {\"x\": [0.0, 1.0, 2.0, 3.0, 4.0, 5.0, 6.0, 7.0, 8.0, 9.0, 10.0], \"uid\": \"6af47fb5-b959-11e8-a9b3-989096cb06e5\", \"y\": [0.8925877763328999, 0.8925877763328999, 0.8964889466840053, 0.8993498049414824, 0.9001300390117035, 0.9011703511053316, 0.9006501950585175, 0.8993498049414824, 0.8985695708712613, 0.8980494148244473, 0.8972691807542262], \"mode\": \"lines+markers\", \"type\": \"scatter\", \"name\": \"Top top_50\"}],\n",
       "            {\"yaxis\": {\"title\": \"Recall Values\"}, \"xaxis\": {\"title\": \"Epochs\"}, \"title\": \"How the recalls at top n are changing for each epoch\"},\n",
       "            {\"showLink\": true, \"linkText\": \"Export to plot.ly\"}\n",
       "        ).then(function () {return Plotly.addFrames('e1dd1774-96a5-41ca-9ea0-8b37ce5c664d',{});}).then(function(){Plotly.animate('e1dd1774-96a5-41ca-9ea0-8b37ce5c664d');})\n",
       "        });</script>"
      ],
      "text/vnd.plotly.v1+html": [
       "<div id=\"e1dd1774-96a5-41ca-9ea0-8b37ce5c664d\" style=\"height: 525px; width: 100%;\" class=\"plotly-graph-div\"></div><script type=\"text/javascript\">require([\"plotly\"], function(Plotly) { window.PLOTLYENV=window.PLOTLYENV || {};window.PLOTLYENV.BASE_URL=\"https://plot.ly\";\n",
       "        Plotly.plot(\n",
       "            'e1dd1774-96a5-41ca-9ea0-8b37ce5c664d',\n",
       "            [{\"x\": [0.0, 1.0, 2.0, 3.0, 4.0, 5.0, 6.0, 7.0, 8.0, 9.0, 10.0], \"uid\": \"6af47fb0-b959-11e8-a9b3-989096cb06e5\", \"y\": [0.447594278283485, 0.44187256176853057, 0.45123537061118335, 0.4577373211963589, 0.45929778933680104, 0.4611183355006502, 0.45851755526658, 0.45955786736020804, 0.45799739921976595, 0.4564369310793238, 0.4546163849154746], \"mode\": \"lines+markers\", \"type\": \"scatter\", \"name\": \"Top top_1\"}, {\"x\": [0.0, 1.0, 2.0, 3.0, 4.0, 5.0, 6.0, 7.0, 8.0, 9.0, 10.0], \"uid\": \"6af47fb1-b959-11e8-a9b3-989096cb06e5\", \"y\": [0.5622886866059817, 0.5563068920676203, 0.5609882964889467, 0.5685305591677503, 0.5703511053315995, 0.5721716514954487, 0.5711313394018206, 0.5708712613784135, 0.5693107932379714, 0.5690507152145644, 0.5685305591677503], \"mode\": \"lines+markers\", \"type\": \"scatter\", \"name\": \"Top top_2\"}, {\"x\": [0.0, 1.0, 2.0, 3.0, 4.0, 5.0, 6.0, 7.0, 8.0, 9.0, 10.0], \"uid\": \"6af47fb2-b959-11e8-a9b3-989096cb06e5\", \"y\": [0.6829648894668401, 0.6842652795838752, 0.6894668400520156, 0.6923276983094928, 0.6928478543563069, 0.693628088426528, 0.693628088426528, 0.6928478543563069, 0.6912873862158647, 0.6905071521456437, 0.6902470741222366], \"mode\": \"lines+markers\", \"type\": \"scatter\", \"name\": \"Top top_5\"}, {\"x\": [0.0, 1.0, 2.0, 3.0, 4.0, 5.0, 6.0, 7.0, 8.0, 9.0, 10.0], \"uid\": \"6af47fb3-b959-11e8-a9b3-989096cb06e5\", \"y\": [0.765149544863459, 0.7594278283485045, 0.7693107932379714, 0.7739921976592978, 0.7752925877763329, 0.7747724317295188, 0.7726918075422626, 0.7737321196358907, 0.7729518855656697, 0.7711313394018205, 0.7713914174252275], \"mode\": \"lines+markers\", \"type\": \"scatter\", \"name\": \"Top top_10\"}, {\"x\": [0.0, 1.0, 2.0, 3.0, 4.0, 5.0, 6.0, 7.0, 8.0, 9.0, 10.0], \"uid\": \"6af47fb4-b959-11e8-a9b3-989096cb06e5\", \"y\": [0.8319895968790637, 0.8306892067620286, 0.8384915474642393, 0.8418725617685305, 0.8421326397919375, 0.8418725617685305, 0.8418725617685305, 0.8418725617685305, 0.8408322496749024, 0.8403120936280885, 0.8392717815344604], \"mode\": \"lines+markers\", \"type\": \"scatter\", \"name\": \"Top top_20\"}, {\"x\": [0.0, 1.0, 2.0, 3.0, 4.0, 5.0, 6.0, 7.0, 8.0, 9.0, 10.0], \"uid\": \"6af47fb5-b959-11e8-a9b3-989096cb06e5\", \"y\": [0.8925877763328999, 0.8925877763328999, 0.8964889466840053, 0.8993498049414824, 0.9001300390117035, 0.9011703511053316, 0.9006501950585175, 0.8993498049414824, 0.8985695708712613, 0.8980494148244473, 0.8972691807542262], \"mode\": \"lines+markers\", \"type\": \"scatter\", \"name\": \"Top top_50\"}],\n",
       "            {\"yaxis\": {\"title\": \"Recall Values\"}, \"xaxis\": {\"title\": \"Epochs\"}, \"title\": \"How the recalls at top n are changing for each epoch\"},\n",
       "            {\"showLink\": true, \"linkText\": \"Export to plot.ly\"}\n",
       "        ).then(function () {return Plotly.addFrames('e1dd1774-96a5-41ca-9ea0-8b37ce5c664d',{});}).then(function(){Plotly.animate('e1dd1774-96a5-41ca-9ea0-8b37ce5c664d');})\n",
       "        });</script>"
      ]
     },
     "metadata": {},
     "output_type": "display_data"
    }
   ],
   "source": [
    "\"\"\"\n",
    "How the recalls at top n are changing for each epoch \n",
    "\"\"\"\n",
    "\n",
    "data_recalls = []\n",
    "sub_list = []\n",
    "sub_list.append(0)\n",
    "sub_list.extend([x for x in my_dict['normalized_recalls_before_model']])\n",
    "data_recalls.append(sub_list)\n",
    "for i in range(1,num_of_epochs+1):\n",
    "    sub_list = []\n",
    "    sub_list.append(i)\n",
    "    sub_list.extend([x for x in my_dict[str(i)]['normalized_recalls_after_model']])\n",
    "    data_recalls.append(sub_list)\n",
    "df_data_recalls = pd.DataFrame(data_recalls, columns=['epoch', 'top_1', 'top_2', 'top_5'\n",
    "                                                   ,'top_10', 'top_20', 'top_50'])\n",
    "traces = []\n",
    "for c in df_data_recalls.columns[1:]:\n",
    "    trace = go.Scatter(\n",
    "    x = df_data_recalls.index,\n",
    "    y = df_data_recalls[c],\n",
    "    mode = 'lines+markers',\n",
    "    name = 'Top {}'.format(c))\n",
    "    traces.append(trace)\n",
    "\n",
    "layout = go.Layout(\n",
    "    title='How the recalls at top n are changing for each epoch',\n",
    "    xaxis=dict(\n",
    "        title='Epochs'\n",
    "    ),\n",
    "    yaxis=dict(\n",
    "        title='Recall Values'\n",
    "    )\n",
    ")\n",
    "fig =  go.Figure(data=traces, layout=layout)\n",
    "py.offline.iplot(fig)"
   ]
  },
  {
   "cell_type": "code",
   "execution_count": 42,
   "metadata": {},
   "outputs": [
    {
     "data": {
      "text/plain": [
       "10    0.663502\n",
       "9     0.654226\n",
       "8     0.584482\n",
       "7     0.561075\n",
       "0     0.546077\n",
       "6     0.514738\n",
       "5     0.334070\n",
       "4     0.234850\n",
       "3     0.137798\n",
       "2     0.070828\n",
       "1     0.037928\n",
       "dtype: float64"
      ]
     },
     "execution_count": 42,
     "metadata": {},
     "output_type": "execute_result"
    }
   ],
   "source": [
    "df_data_recalls[['top_1', 'top_2', 'top_5','top_10', 'top_20', 'top_50']].mean(axis=1).sort_values(ascending =[False])"
   ]
  },
  {
   "cell_type": "code",
   "execution_count": 26,
   "metadata": {},
   "outputs": [
    {
     "data": {
      "text/html": [
       "<div>\n",
       "<style scoped>\n",
       "    .dataframe tbody tr th:only-of-type {\n",
       "        vertical-align: middle;\n",
       "    }\n",
       "\n",
       "    .dataframe tbody tr th {\n",
       "        vertical-align: top;\n",
       "    }\n",
       "\n",
       "    .dataframe thead th {\n",
       "        text-align: right;\n",
       "    }\n",
       "</style>\n",
       "<table border=\"1\" class=\"dataframe\">\n",
       "  <thead>\n",
       "    <tr style=\"text-align: right;\">\n",
       "      <th></th>\n",
       "      <th>epoch</th>\n",
       "      <th>top_1</th>\n",
       "      <th>top_2</th>\n",
       "      <th>top_5</th>\n",
       "      <th>top_10</th>\n",
       "      <th>top_20</th>\n",
       "      <th>top_50</th>\n",
       "    </tr>\n",
       "  </thead>\n",
       "  <tbody>\n",
       "    <tr>\n",
       "      <th>5</th>\n",
       "      <td>5</td>\n",
       "      <td>0.461118</td>\n",
       "      <td>0.572172</td>\n",
       "      <td>0.693628</td>\n",
       "      <td>0.774772</td>\n",
       "      <td>0.841873</td>\n",
       "      <td>0.901170</td>\n",
       "    </tr>\n",
       "    <tr>\n",
       "      <th>7</th>\n",
       "      <td>7</td>\n",
       "      <td>0.459558</td>\n",
       "      <td>0.570871</td>\n",
       "      <td>0.692848</td>\n",
       "      <td>0.773732</td>\n",
       "      <td>0.841873</td>\n",
       "      <td>0.899350</td>\n",
       "    </tr>\n",
       "    <tr>\n",
       "      <th>4</th>\n",
       "      <td>4</td>\n",
       "      <td>0.459298</td>\n",
       "      <td>0.570351</td>\n",
       "      <td>0.692848</td>\n",
       "      <td>0.775293</td>\n",
       "      <td>0.842133</td>\n",
       "      <td>0.900130</td>\n",
       "    </tr>\n",
       "    <tr>\n",
       "      <th>6</th>\n",
       "      <td>6</td>\n",
       "      <td>0.458518</td>\n",
       "      <td>0.571131</td>\n",
       "      <td>0.693628</td>\n",
       "      <td>0.772692</td>\n",
       "      <td>0.841873</td>\n",
       "      <td>0.900650</td>\n",
       "    </tr>\n",
       "    <tr>\n",
       "      <th>8</th>\n",
       "      <td>8</td>\n",
       "      <td>0.457997</td>\n",
       "      <td>0.569311</td>\n",
       "      <td>0.691287</td>\n",
       "      <td>0.772952</td>\n",
       "      <td>0.840832</td>\n",
       "      <td>0.898570</td>\n",
       "    </tr>\n",
       "    <tr>\n",
       "      <th>3</th>\n",
       "      <td>3</td>\n",
       "      <td>0.457737</td>\n",
       "      <td>0.568531</td>\n",
       "      <td>0.692328</td>\n",
       "      <td>0.773992</td>\n",
       "      <td>0.841873</td>\n",
       "      <td>0.899350</td>\n",
       "    </tr>\n",
       "    <tr>\n",
       "      <th>9</th>\n",
       "      <td>9</td>\n",
       "      <td>0.456437</td>\n",
       "      <td>0.569051</td>\n",
       "      <td>0.690507</td>\n",
       "      <td>0.771131</td>\n",
       "      <td>0.840312</td>\n",
       "      <td>0.898049</td>\n",
       "    </tr>\n",
       "    <tr>\n",
       "      <th>10</th>\n",
       "      <td>10</td>\n",
       "      <td>0.454616</td>\n",
       "      <td>0.568531</td>\n",
       "      <td>0.690247</td>\n",
       "      <td>0.771391</td>\n",
       "      <td>0.839272</td>\n",
       "      <td>0.897269</td>\n",
       "    </tr>\n",
       "    <tr>\n",
       "      <th>2</th>\n",
       "      <td>2</td>\n",
       "      <td>0.451235</td>\n",
       "      <td>0.560988</td>\n",
       "      <td>0.689467</td>\n",
       "      <td>0.769311</td>\n",
       "      <td>0.838492</td>\n",
       "      <td>0.896489</td>\n",
       "    </tr>\n",
       "    <tr>\n",
       "      <th>0</th>\n",
       "      <td>0</td>\n",
       "      <td>0.447594</td>\n",
       "      <td>0.562289</td>\n",
       "      <td>0.682965</td>\n",
       "      <td>0.765150</td>\n",
       "      <td>0.831990</td>\n",
       "      <td>0.892588</td>\n",
       "    </tr>\n",
       "    <tr>\n",
       "      <th>1</th>\n",
       "      <td>1</td>\n",
       "      <td>0.441873</td>\n",
       "      <td>0.556307</td>\n",
       "      <td>0.684265</td>\n",
       "      <td>0.759428</td>\n",
       "      <td>0.830689</td>\n",
       "      <td>0.892588</td>\n",
       "    </tr>\n",
       "  </tbody>\n",
       "</table>\n",
       "</div>"
      ],
      "text/plain": [
       "    epoch     top_1     top_2     top_5    top_10    top_20    top_50\n",
       "5       5  0.461118  0.572172  0.693628  0.774772  0.841873  0.901170\n",
       "7       7  0.459558  0.570871  0.692848  0.773732  0.841873  0.899350\n",
       "4       4  0.459298  0.570351  0.692848  0.775293  0.842133  0.900130\n",
       "6       6  0.458518  0.571131  0.693628  0.772692  0.841873  0.900650\n",
       "8       8  0.457997  0.569311  0.691287  0.772952  0.840832  0.898570\n",
       "3       3  0.457737  0.568531  0.692328  0.773992  0.841873  0.899350\n",
       "9       9  0.456437  0.569051  0.690507  0.771131  0.840312  0.898049\n",
       "10     10  0.454616  0.568531  0.690247  0.771391  0.839272  0.897269\n",
       "2       2  0.451235  0.560988  0.689467  0.769311  0.838492  0.896489\n",
       "0       0  0.447594  0.562289  0.682965  0.765150  0.831990  0.892588\n",
       "1       1  0.441873  0.556307  0.684265  0.759428  0.830689  0.892588"
      ]
     },
     "execution_count": 26,
     "metadata": {},
     "output_type": "execute_result"
    }
   ],
   "source": [
    "df_data_recalls.sort_values(by=['top_1', 'top_2', 'top_5', 'top_10', 'top_20', 'top_50'], ascending =[False, False, False, False, False, False])"
   ]
  },
  {
   "cell_type": "code",
   "execution_count": 8,
   "metadata": {},
   "outputs": [
    {
     "ename": "IndexError",
     "evalue": "index 4257 is out of bounds for axis 0 with size 3845",
     "output_type": "error",
     "traceback": [
      "\u001b[0;31m---------------------------------------------------------------------------\u001b[0m",
      "\u001b[0;31mIndexError\u001b[0m                                Traceback (most recent call last)",
      "\u001b[0;32m<ipython-input-8-10c45bd14aab>\u001b[0m in \u001b[0;36m<module>\u001b[0;34m()\u001b[0m\n\u001b[1;32m     12\u001b[0m \u001b[0mquestion_ids\u001b[0m \u001b[0;34m=\u001b[0m \u001b[0;34m[\u001b[0m\u001b[0;36m1550\u001b[0m\u001b[0;34m,\u001b[0m \u001b[0;36m4257\u001b[0m\u001b[0;34m,\u001b[0m \u001b[0;36m459\u001b[0m\u001b[0;34m]\u001b[0m\u001b[0;34m\u001b[0m\u001b[0m\n\u001b[1;32m     13\u001b[0m \u001b[0;34m\u001b[0m\u001b[0m\n\u001b[0;32m---> 14\u001b[0;31m \u001b[0mgood_questions_at_top_1_are_founds\u001b[0m \u001b[0;34m=\u001b[0m \u001b[0mmy_dict\u001b[0m\u001b[0;34m[\u001b[0m\u001b[0;34m'top_k'\u001b[0m\u001b[0;34m]\u001b[0m\u001b[0;34m[\u001b[0m\u001b[0mstr\u001b[0m\u001b[0;34m(\u001b[0m\u001b[0mk\u001b[0m\u001b[0;34m)\u001b[0m\u001b[0;34m]\u001b[0m\u001b[0;34m[\u001b[0m\u001b[0;34m'are_founds_before'\u001b[0m\u001b[0;34m]\u001b[0m\u001b[0;34m[\u001b[0m\u001b[0mquestion_ids\u001b[0m\u001b[0;34m]\u001b[0m\u001b[0;34m\u001b[0m\u001b[0m\n\u001b[0m\u001b[1;32m     15\u001b[0m \u001b[0mgood_questions_at_top_1_labels\u001b[0m \u001b[0;34m=\u001b[0m \u001b[0mmy_dict\u001b[0m\u001b[0;34m[\u001b[0m\u001b[0;34m'top_k'\u001b[0m\u001b[0;34m]\u001b[0m\u001b[0;34m[\u001b[0m\u001b[0mstr\u001b[0m\u001b[0;34m(\u001b[0m\u001b[0mk\u001b[0m\u001b[0;34m)\u001b[0m\u001b[0;34m]\u001b[0m\u001b[0;34m[\u001b[0m\u001b[0;34m'closest_labels_before'\u001b[0m\u001b[0;34m]\u001b[0m\u001b[0;34m[\u001b[0m\u001b[0mquestion_ids\u001b[0m\u001b[0;34m]\u001b[0m\u001b[0;34m\u001b[0m\u001b[0m\n\u001b[1;32m     16\u001b[0m \u001b[0mgood_questions_at_top_1_distances\u001b[0m \u001b[0;34m=\u001b[0m \u001b[0mmy_dict\u001b[0m\u001b[0;34m[\u001b[0m\u001b[0;34m'top_k'\u001b[0m\u001b[0;34m]\u001b[0m\u001b[0;34m[\u001b[0m\u001b[0mstr\u001b[0m\u001b[0;34m(\u001b[0m\u001b[0mk\u001b[0m\u001b[0;34m)\u001b[0m\u001b[0;34m]\u001b[0m\u001b[0;34m[\u001b[0m\u001b[0;34m'distances_before'\u001b[0m\u001b[0;34m]\u001b[0m\u001b[0;34m[\u001b[0m\u001b[0mquestion_ids\u001b[0m\u001b[0;34m]\u001b[0m\u001b[0;34m\u001b[0m\u001b[0m\n",
      "\u001b[0;31mIndexError\u001b[0m: index 4257 is out of bounds for axis 0 with size 3845"
     ]
    }
   ],
   "source": [
    "\"\"\"\n",
    "which of questions are getting worse (moving farther from its ground-truth) through subsequent epochs.\n",
    "\"\"\"\n",
    "\n",
    "k = 1\n",
    "good_questions_at_top_1_idx = np.where(my_dict['top_k'][str(k)]['are_founds_before'] == 1)\n",
    "np.random.shuffle(good_questions_at_top_1_idx[0])\n",
    "# IN ORDER TO SELECT RANDOM QUESTIONS\n",
    "#question_ids = good_questions_at_top_1_idx[0][:number_of_sample_question_size]\n",
    "\n",
    "# IN ORDER TO ENTER QUESTIONS\n",
    "question_ids = [1550, 4257, 459]\n",
    "\n",
    "good_questions_at_top_1_are_founds = my_dict['top_k'][str(k)]['are_founds_before'][question_ids]\n",
    "good_questions_at_top_1_labels = my_dict['top_k'][str(k)]['closest_labels_before'][question_ids]\n",
    "good_questions_at_top_1_distances = my_dict['top_k'][str(k)]['distances_before'][question_ids]\n",
    "\n",
    "still_good_question = pd.DataFrame()\n",
    "still_good_question[0]= np.reshape(good_questions_at_top_1_are_founds, [-1,])\n",
    "for i in range(1,num_of_epochs+1):\n",
    "    still_good_question[i] = np.reshape(my_dict[str(i)]['top_k'][str(k)]['are_founds_after'][question_ids], [-1,])\n",
    "still_good_question = still_good_question.T\n",
    "still_good_question.columns = [question_ids[col_name] for col_name in still_good_question.columns]\n",
    "data = []\n",
    "problematic_questions = []\n",
    "for q in question_ids:\n",
    "    _problematic_question = np.where(still_good_question[q] == 0)[0]\n",
    "    _problematic_question = still_good_question[q][_problematic_question]\n",
    "    if _problematic_question.shape[0] != 0:\n",
    "        problematic_questions.append(_problematic_question.name)\n",
    "    trace = go.Scatter(\n",
    "    x = still_good_question.index,\n",
    "    y = still_good_question[q],\n",
    "    mode = 'lines+markers',\n",
    "    name = 'Question {}'.format(q))\n",
    "    data.append(trace)\n",
    "\n",
    "layout = go.Layout(\n",
    "    title='Questions\" Paragraphs are still in their top {} closest neighbours'.format(k),\n",
    "    xaxis=dict(\n",
    "        title='Epochs'\n",
    "    ),\n",
    "    yaxis=dict(\n",
    "        title='Yes or No'\n",
    "    )\n",
    ")\n",
    "fig =  go.Figure(data=data, layout=layout)\n",
    "py.offline.iplot(fig)\n",
    "print('Problematic Questions')\n",
    "[_p for _p in problematic_questions]"
   ]
  },
  {
   "cell_type": "code",
   "execution_count": 9,
   "metadata": {},
   "outputs": [
    {
     "ename": "NameError",
     "evalue": "name 'problematic_questions' is not defined",
     "output_type": "error",
     "traceback": [
      "\u001b[0;31m---------------------------------------------------------------------------\u001b[0m",
      "\u001b[0;31mNameError\u001b[0m                                 Traceback (most recent call last)",
      "\u001b[0;32m<ipython-input-9-399b6783d7f4>\u001b[0m in \u001b[0;36m<module>\u001b[0;34m()\u001b[0m\n\u001b[1;32m      1\u001b[0m \u001b[0;34m\"What happened to the following question?\"\u001b[0m\u001b[0;34m\u001b[0m\u001b[0m\n\u001b[0;32m----> 2\u001b[0;31m \u001b[0msample_question_that_are_getting_worse_idx\u001b[0m \u001b[0;34m=\u001b[0m \u001b[0mproblematic_questions\u001b[0m\u001b[0;34m\u001b[0m\u001b[0m\n\u001b[0m\u001b[1;32m      3\u001b[0m \u001b[0msample_question_that_are_getting_worse_sub_idx\u001b[0m \u001b[0;34m=\u001b[0m \u001b[0;34m[\u001b[0m\u001b[0mnp\u001b[0m\u001b[0;34m.\u001b[0m\u001b[0mwhere\u001b[0m\u001b[0;34m(\u001b[0m\u001b[0mquestion_ids\u001b[0m\u001b[0;34m==\u001b[0m\u001b[0mq\u001b[0m\u001b[0;34m)\u001b[0m\u001b[0;34m[\u001b[0m\u001b[0;36m0\u001b[0m\u001b[0;34m]\u001b[0m\u001b[0;34m[\u001b[0m\u001b[0;36m0\u001b[0m\u001b[0;34m]\u001b[0m \u001b[0;32mfor\u001b[0m \u001b[0mq\u001b[0m \u001b[0;32min\u001b[0m \u001b[0msample_question_that_are_getting_worse_idx\u001b[0m\u001b[0;34m]\u001b[0m\u001b[0;34m\u001b[0m\u001b[0m\n\u001b[1;32m      4\u001b[0m \u001b[0;31m#label_of_sample_question = good_questions_at_top_1_labels[sample_question_that_are_getting_worse_sub_idx]\u001b[0m\u001b[0;34m\u001b[0m\u001b[0;34m\u001b[0m\u001b[0m\n\u001b[1;32m      5\u001b[0m \u001b[0;34m\"Is that question getting farther from its ground-truth paragraph?\"\u001b[0m\u001b[0;34m\u001b[0m\u001b[0m\n",
      "\u001b[0;31mNameError\u001b[0m: name 'problematic_questions' is not defined"
     ]
    }
   ],
   "source": [
    "\"What happened to the following question?\"\n",
    "sample_question_that_are_getting_worse_idx = problematic_questions\n",
    "sample_question_that_are_getting_worse_sub_idx = [np.where(question_ids==q)[0][0] for q in sample_question_that_are_getting_worse_idx]\n",
    "#label_of_sample_question = good_questions_at_top_1_labels[sample_question_that_are_getting_worse_sub_idx]\n",
    "\"Is that question getting farther from its ground-truth paragraph?\"\n",
    "getting_worse_distances = pd.DataFrame()\n",
    "getting_worse_labels = pd.DataFrame()\n",
    "getting_worse_distances[0] = np.reshape(good_questions_at_top_1_distances[sample_question_that_are_getting_worse_sub_idx], [-1,])\n",
    "getting_worse_labels[0] = np.reshape(good_questions_at_top_1_labels[sample_question_that_are_getting_worse_sub_idx], [-1,])\n",
    "for i in range(1,num_of_epochs+1):\n",
    "    getting_worse_distances[i] = np.reshape(my_dict[str(i)]['top_k'][str(1)]['distances_after'][sample_question_that_are_getting_worse_idx], [-1,])\n",
    "    getting_worse_labels[i] = np.reshape(my_dict[str(i)]['top_k'][str(1)]['closest_labels_after'][sample_question_that_are_getting_worse_idx], [-1,])\n",
    "\n",
    "getting_worse_distances = getting_worse_distances.T\n",
    "getting_worse_labels = getting_worse_labels.T\n",
    "getting_worse_distances.columns = [sample_question_that_are_getting_worse_idx[i] for i, col_name in enumerate(getting_worse_distances.columns)]\n",
    "getting_worse_labels.columns = [sample_question_that_are_getting_worse_idx[i] for i, col_name in enumerate(getting_worse_labels.columns)]\n",
    "\n",
    "data = []\n",
    "for q in sample_question_that_are_getting_worse_idx:\n",
    "    trace = go.Scatter(\n",
    "    x = getting_worse_distances.index,\n",
    "    y = getting_worse_distances[q],\n",
    "    text = getting_worse_labels[q],\n",
    "    hoverinfo = 'y' 'text',\n",
    "    mode = 'lines+markers',\n",
    "    name = 'Question {}'.format(q))\n",
    "    data.append(trace)\n",
    "\n",
    "layout = go.Layout(\n",
    "    title='Are questions getting farther from their ground-truth paragraph in each epoch iteration? <br> ' +\n",
    "    'to grab the closest paragraph, please hover the question',\n",
    "    xaxis=dict(\n",
    "        title='Epochs'\n",
    "    ),\n",
    "    yaxis=dict(\n",
    "        title='Distance to Closest Paragraph'\n",
    "    )\n",
    ")\n",
    "fig =  go.Figure(data=data, layout=layout)\n",
    "py.offline.iplot(fig)\n",
    "closest_paragraphs_of_problematic_questions = dict()\n",
    "print('Closest Paragraphs of these Problematic Questions')\n",
    "for _q in problematic_questions:\n",
    "    closest_paragraphs_of_problematic_questions[_q] = set(getting_worse_labels[_q]) \n",
    "closest_paragraphs_of_problematic_questions"
   ]
  },
  {
   "cell_type": "code",
   "execution_count": 10,
   "metadata": {},
   "outputs": [
    {
     "name": "stdout",
     "output_type": "stream",
     "text": [
      "Question 4257 is displayed with itsprogress within all epoch and k values\n"
     ]
    },
    {
     "ename": "NameError",
     "evalue": "name 'df_traced_questions' is not defined",
     "output_type": "error",
     "traceback": [
      "\u001b[0;31m---------------------------------------------------------------------------\u001b[0m",
      "\u001b[0;31mNameError\u001b[0m                                 Traceback (most recent call last)",
      "\u001b[0;32m<ipython-input-10-d7cdc322e20e>\u001b[0m in \u001b[0;36m<module>\u001b[0;34m()\u001b[0m\n\u001b[1;32m      2\u001b[0m \u001b[0;34m\u001b[0m\u001b[0m\n\u001b[1;32m      3\u001b[0m \u001b[0mprint\u001b[0m\u001b[0;34m(\u001b[0m\u001b[0;34m'Question {} is displayed with itsprogress within all epoch and k values'\u001b[0m\u001b[0;34m.\u001b[0m\u001b[0mformat\u001b[0m\u001b[0;34m(\u001b[0m\u001b[0mquestion_id_to_examine\u001b[0m\u001b[0;34m)\u001b[0m\u001b[0;34m)\u001b[0m\u001b[0;34m\u001b[0m\u001b[0m\n\u001b[0;32m----> 4\u001b[0;31m \u001b[0mquestion_to_display_progress\u001b[0m \u001b[0;34m=\u001b[0m \u001b[0mdf_traced_questions\u001b[0m\u001b[0;34m[\u001b[0m\u001b[0mdf_traced_questions\u001b[0m\u001b[0;34m[\u001b[0m\u001b[0;34m'question_id'\u001b[0m\u001b[0;34m]\u001b[0m \u001b[0;34m==\u001b[0m \u001b[0mquestion_id_to_examine\u001b[0m\u001b[0;34m]\u001b[0m\u001b[0;34m\u001b[0m\u001b[0m\n\u001b[0m\u001b[1;32m      5\u001b[0m \u001b[0;31m# question_to_display_progress\u001b[0m\u001b[0;34m\u001b[0m\u001b[0;34m\u001b[0m\u001b[0m\n",
      "\u001b[0;31mNameError\u001b[0m: name 'df_traced_questions' is not defined"
     ]
    }
   ],
   "source": [
    "question_id_to_examine = 4257\n",
    "\n",
    "print('Question {} is displayed with itsprogress within all epoch and k values'.format(question_id_to_examine))\n",
    "question_to_display_progress = df_traced_questions[df_traced_questions['question_id'] == question_id_to_examine]\n",
    "# question_to_display_progress"
   ]
  },
  {
   "cell_type": "code",
   "execution_count": 11,
   "metadata": {},
   "outputs": [
    {
     "name": "stdout",
     "output_type": "stream",
     "text": [
      "Question 4257 is plotted\n"
     ]
    },
    {
     "ename": "NameError",
     "evalue": "name 'question_to_display_progress' is not defined",
     "output_type": "error",
     "traceback": [
      "\u001b[0;31m---------------------------------------------------------------------------\u001b[0m",
      "\u001b[0;31mNameError\u001b[0m                                 Traceback (most recent call last)",
      "\u001b[0;32m<ipython-input-11-7c711fc94df1>\u001b[0m in \u001b[0;36m<module>\u001b[0;34m()\u001b[0m\n\u001b[1;32m      1\u001b[0m \u001b[0mprint\u001b[0m\u001b[0;34m(\u001b[0m\u001b[0;34m'Question {} is plotted'\u001b[0m\u001b[0;34m.\u001b[0m\u001b[0mformat\u001b[0m\u001b[0;34m(\u001b[0m\u001b[0mquestion_id_to_examine\u001b[0m\u001b[0;34m)\u001b[0m\u001b[0;34m)\u001b[0m\u001b[0;34m\u001b[0m\u001b[0m\n\u001b[0;32m----> 2\u001b[0;31m \u001b[0mparagraphs_to_plot\u001b[0m \u001b[0;34m=\u001b[0m \u001b[0mset\u001b[0m\u001b[0;34m(\u001b[0m\u001b[0mquestion_to_display_progress\u001b[0m\u001b[0;34m[\u001b[0m\u001b[0;34m'paragraph_id'\u001b[0m\u001b[0;34m]\u001b[0m\u001b[0;34m)\u001b[0m\u001b[0;34m\u001b[0m\u001b[0m\n\u001b[0m\u001b[1;32m      3\u001b[0m \u001b[0mdata\u001b[0m \u001b[0;34m=\u001b[0m \u001b[0;34m[\u001b[0m\u001b[0;34m]\u001b[0m\u001b[0;34m\u001b[0m\u001b[0m\n\u001b[1;32m      4\u001b[0m \u001b[0;32mfor\u001b[0m \u001b[0mp\u001b[0m \u001b[0;32min\u001b[0m \u001b[0mparagraphs_to_plot\u001b[0m\u001b[0;34m:\u001b[0m\u001b[0;34m\u001b[0m\u001b[0m\n\u001b[1;32m      5\u001b[0m     \u001b[0mdf\u001b[0m \u001b[0;34m=\u001b[0m \u001b[0mquestion_to_display_progress\u001b[0m\u001b[0;34m[\u001b[0m\u001b[0mquestion_to_display_progress\u001b[0m\u001b[0;34m[\u001b[0m\u001b[0;34m'paragraph_id'\u001b[0m\u001b[0;34m]\u001b[0m \u001b[0;34m==\u001b[0m \u001b[0mp\u001b[0m\u001b[0;34m]\u001b[0m\u001b[0;34m.\u001b[0m\u001b[0msort_values\u001b[0m\u001b[0;34m(\u001b[0m\u001b[0mby\u001b[0m\u001b[0;34m=\u001b[0m\u001b[0;34m[\u001b[0m\u001b[0;34m'epoch'\u001b[0m\u001b[0;34m,\u001b[0m \u001b[0;34m'k'\u001b[0m\u001b[0;34m]\u001b[0m\u001b[0;34m,\u001b[0m \u001b[0mascending\u001b[0m\u001b[0;34m=\u001b[0m\u001b[0;34m[\u001b[0m\u001b[0;32mTrue\u001b[0m\u001b[0;34m,\u001b[0m \u001b[0;32mTrue\u001b[0m\u001b[0;34m]\u001b[0m\u001b[0;34m)\u001b[0m\u001b[0;34m\u001b[0m\u001b[0m\n",
      "\u001b[0;31mNameError\u001b[0m: name 'question_to_display_progress' is not defined"
     ]
    }
   ],
   "source": [
    "print('Question {} is plotted'.format(question_id_to_examine))\n",
    "paragraphs_to_plot = set(question_to_display_progress['paragraph_id'])\n",
    "data = []\n",
    "for p in paragraphs_to_plot:\n",
    "    df = question_to_display_progress[question_to_display_progress['paragraph_id'] == p].sort_values(by=['epoch', 'k'], ascending=[True, True])\n",
    "    if df.shape[0] > num_of_epochs:\n",
    "        name = 'Ground Truth {}'.format(p)\n",
    "    else:\n",
    "        name = 'Paragraph {}'.format(p)\n",
    "    df = df.drop_duplicates(subset=['question_id', 'epoch'])\n",
    "    plot_data = []\n",
    "    for _epoch in range(num_of_epochs + 1):\n",
    "        try:\n",
    "            distance = df[df['epoch'] == _epoch]['distance_to_paragraph'].values[0]\n",
    "        except:\n",
    "            distance = 1.5\n",
    "        plot_data.append((_epoch, distance))\n",
    "    plot_df = pd.DataFrame(plot_data, columns=['epoch', 'distance'])  \n",
    "    trace = go.Scatter(\n",
    "    x = plot_df.index,\n",
    "    y = plot_df['distance'],\n",
    "    mode = 'lines+markers',\n",
    "    name = name)\n",
    "    data.append(trace)\n",
    "\n",
    "layout = go.Layout(\n",
    "    title='Distances of the paragraphs to that question {} are getting progressed in each epoch'.format(question_id_to_examine),\n",
    "    xaxis=dict(\n",
    "        title='Epochs'\n",
    "    ),\n",
    "    yaxis=dict(\n",
    "        title='Distance'\n",
    "    )\n",
    ")\n",
    "fig =  go.Figure(data=data, layout=layout)\n",
    "py.offline.iplot(fig)"
   ]
  },
  {
   "cell_type": "code",
   "execution_count": 12,
   "metadata": {},
   "outputs": [
    {
     "name": "stdout",
     "output_type": "stream",
     "text": [
      "**********\n",
      "Parahraph 15135\n"
     ]
    },
    {
     "ename": "NameError",
     "evalue": "name '_k' is not defined",
     "output_type": "error",
     "traceback": [
      "\u001b[0;31m---------------------------------------------------------------------------\u001b[0m",
      "\u001b[0;31mNameError\u001b[0m                                 Traceback (most recent call last)",
      "\u001b[0;32m<ipython-input-12-8cc8d199a23c>\u001b[0m in \u001b[0;36m<module>\u001b[0;34m()\u001b[0m\n\u001b[1;32m     13\u001b[0m         \u001b[0m_epoch\u001b[0m \u001b[0;34m=\u001b[0m \u001b[0;36m0\u001b[0m\u001b[0;34m\u001b[0m\u001b[0m\n\u001b[0;32m---> 14\u001b[0;31m         \u001b[0;32mfor\u001b[0m \u001b[0m_k\u001b[0m \u001b[0;32min\u001b[0m \u001b[0mrange\u001b[0m\u001b[0;34m(\u001b[0m\u001b[0mtotal_ks\u001b[0m\u001b[0;34m)\u001b[0m\u001b[0;34m:\u001b[0m\u001b[0;34m\u001b[0m\u001b[0m\n\u001b[0m\u001b[1;32m     15\u001b[0m             \u001b[0;32mtry\u001b[0m\u001b[0;34m:\u001b[0m\u001b[0;34m\u001b[0m\u001b[0m\n",
      "\u001b[0;31mNameError\u001b[0m: name 'total_ks' is not defined",
      "\nDuring handling of the above exception, another exception occurred:\n",
      "\u001b[0;31mNameError\u001b[0m                                 Traceback (most recent call last)",
      "\u001b[0;32m<ipython-input-12-8cc8d199a23c>\u001b[0m in \u001b[0;36m<module>\u001b[0;34m()\u001b[0m\n\u001b[1;32m     47\u001b[0m \u001b[0;34m\u001b[0m\u001b[0m\n\u001b[1;32m     48\u001b[0m     \u001b[0;32mexcept\u001b[0m\u001b[0;34m:\u001b[0m\u001b[0;34m\u001b[0m\u001b[0m\n\u001b[0;32m---> 49\u001b[0;31m         \u001b[0mprint\u001b[0m\u001b[0;34m(\u001b[0m\u001b[0;34m'There is no such a question that belongs to paragraph {} in that 5000 subset at epoch:{}, k:{}'\u001b[0m\u001b[0;34m.\u001b[0m\u001b[0mformat\u001b[0m\u001b[0;34m(\u001b[0m\u001b[0mp\u001b[0m\u001b[0;34m,\u001b[0m \u001b[0m_epoch\u001b[0m\u001b[0;34m,\u001b[0m \u001b[0m_k\u001b[0m\u001b[0;34m+\u001b[0m\u001b[0;36m1\u001b[0m\u001b[0;34m)\u001b[0m\u001b[0;34m)\u001b[0m\u001b[0;34m\u001b[0m\u001b[0m\n\u001b[0m\u001b[1;32m     50\u001b[0m \u001b[0;34m\u001b[0m\u001b[0m\n\u001b[1;32m     51\u001b[0m \u001b[0mdf_traced_questions\u001b[0m \u001b[0;34m=\u001b[0m \u001b[0mpd\u001b[0m\u001b[0;34m.\u001b[0m\u001b[0mDataFrame\u001b[0m\u001b[0;34m(\u001b[0m\u001b[0mquestions\u001b[0m\u001b[0;34m,\u001b[0m \u001b[0mcolumns\u001b[0m\u001b[0;34m=\u001b[0m\u001b[0;34m[\u001b[0m\u001b[0;34m'question_id'\u001b[0m\u001b[0;34m,\u001b[0m\u001b[0;34m'epoch'\u001b[0m\u001b[0;34m,\u001b[0m \u001b[0;34m'k'\u001b[0m\u001b[0;34m,\u001b[0m \u001b[0;34m'paragraph_id'\u001b[0m\u001b[0;34m,\u001b[0m \u001b[0;34m'distance_to_paragraph'\u001b[0m\u001b[0;34m,\u001b[0m \u001b[0;34m'is_ground_truth_in_k_range'\u001b[0m\u001b[0;34m]\u001b[0m\u001b[0;34m)\u001b[0m\u001b[0;34m\u001b[0m\u001b[0m\n",
      "\u001b[0;31mNameError\u001b[0m: name '_k' is not defined"
     ]
    }
   ],
   "source": [
    "\"\"\"\n",
    "What is the progress of the paragraphs in which they became a ground-truth of another questions?\n",
    "# First we need to find which questions were assigned to that paragraph\n",
    "\"\"\"\n",
    "\n",
    "paragraph_ids_to_examine = [15135]\n",
    "questions = []\n",
    "for p in paragraph_ids_to_examine:\n",
    "    try:\n",
    "        print('*' * 10)\n",
    "        print('Parahraph {}'.format(p)) \n",
    "         # FOR EPOCH 0 : BEFORE APPENDIX\n",
    "        _epoch = 0\n",
    "        for _k in range(total_ks):\n",
    "            try:\n",
    "                question = np.where(data_dict['top_k'][str(_k+1)]['closest_labels_before'] \n",
    "                                                    == p)[0][_k]\n",
    "                paragraph_at_k = my_dict['top_k'][str(total_ks)]['closest_labels_before'][question][_k]\n",
    "                q_to_p_distance_at_k = my_dict['top_k'][str(total_ks)]['distances_before'][question][_k]\n",
    "                is_ground_truth_in_k_range = my_dict['top_k'][str(_k+1)]['are_founds_before'][question][0]\n",
    "                questions.append((question,\n",
    "                                 _epoch,\n",
    "                                 _k+1,\n",
    "                                 paragraph_at_k, \n",
    "                                 q_to_p_distance_at_k,\n",
    "                                 is_ground_truth_in_k_range\n",
    "                ))\n",
    "            except:\n",
    "                print('There is no such a question that belongs to paragraph {} in that 5000 subset at epoch:{}, k:{}'.format(p, _epoch, _k+1))\n",
    "\n",
    "        # FOR EPOCH > 0 : AFTER APPENDIX\n",
    "        for _epoch in range(1,num_of_epochs+1):\n",
    "            for _k in range(total_ks):\n",
    "                try:\n",
    "                    paragraph_at_k = my_dict[str(_epoch)]['top_k'][str(total_ks)]['closest_labels_after'][question][_k]\n",
    "                    q_to_p_distance_at_k = my_dict[str(_epoch)]['top_k'][str(total_ks)]['distances_after'][question][_k]\n",
    "                    is_ground_truth_in_k_range = my_dict[str(_epoch)]['top_k'][str(_k+1)]['are_founds_after'][question][0]\n",
    "                    questions.append((question,\n",
    "                                     _epoch,\n",
    "                                     _k+1,\n",
    "                                     paragraph_at_k, \n",
    "                                     q_to_p_distance_at_k,\n",
    "                                     is_ground_truth_in_k_range\n",
    "                    ))\n",
    "                except:\n",
    "                    print('There is no such a question that belongs to paragraph {} in that 5000 subset at epoch:{}, k:{}'.format(p, _epoch, _k+1))\n",
    "                \n",
    "    except:\n",
    "        print('There is no such a question that belongs to paragraph {} in that 5000 subset at epoch:{}, k:{}'.format(p, _epoch, _k+1))\n",
    "\n",
    "df_traced_questions = pd.DataFrame(questions, columns=['question_id','epoch', 'k', 'paragraph_id', 'distance_to_paragraph', 'is_ground_truth_in_k_range'])   "
   ]
  },
  {
   "cell_type": "code",
   "execution_count": 13,
   "metadata": {},
   "outputs": [
    {
     "ename": "IndexError",
     "evalue": "index 4257 is out of bounds for axis 1 with size 3845",
     "output_type": "error",
     "traceback": [
      "\u001b[0;31m---------------------------------------------------------------------------\u001b[0m",
      "\u001b[0;31mIndexError\u001b[0m                                Traceback (most recent call last)",
      "\u001b[0;32m<ipython-input-13-db0ec9ee6a1a>\u001b[0m in \u001b[0;36m<module>\u001b[0;34m()\u001b[0m\n\u001b[1;32m      7\u001b[0m \u001b[0mdata_delta\u001b[0m \u001b[0;34m=\u001b[0m \u001b[0mpd\u001b[0m\u001b[0;34m.\u001b[0m\u001b[0mDataFrame\u001b[0m\u001b[0;34m(\u001b[0m\u001b[0;34m)\u001b[0m\u001b[0;34m\u001b[0m\u001b[0m\n\u001b[1;32m      8\u001b[0m \u001b[0;32mfor\u001b[0m \u001b[0mi\u001b[0m \u001b[0;32min\u001b[0m \u001b[0mrange\u001b[0m\u001b[0;34m(\u001b[0m\u001b[0;36m1\u001b[0m\u001b[0;34m,\u001b[0m\u001b[0mnum_of_epochs\u001b[0m\u001b[0;34m+\u001b[0m\u001b[0;36m1\u001b[0m\u001b[0;34m)\u001b[0m\u001b[0;34m:\u001b[0m\u001b[0;34m\u001b[0m\u001b[0m\n\u001b[0;32m----> 9\u001b[0;31m     \u001b[0mdata_delta\u001b[0m\u001b[0;34m[\u001b[0m\u001b[0mi\u001b[0m\u001b[0;34m]\u001b[0m \u001b[0;34m=\u001b[0m \u001b[0mmy_dict\u001b[0m\u001b[0;34m[\u001b[0m\u001b[0mstr\u001b[0m\u001b[0;34m(\u001b[0m\u001b[0mi\u001b[0m\u001b[0;34m)\u001b[0m\u001b[0;34m]\u001b[0m\u001b[0;34m[\u001b[0m\u001b[0;34m'delta_before_after_model'\u001b[0m\u001b[0;34m]\u001b[0m\u001b[0;34m[\u001b[0m\u001b[0mquestion_ids\u001b[0m\u001b[0;34m]\u001b[0m\u001b[0;34m\u001b[0m\u001b[0m\n\u001b[0m\u001b[1;32m     10\u001b[0m \u001b[0mdata_delta\u001b[0m \u001b[0;34m=\u001b[0m \u001b[0mdata_delta\u001b[0m\u001b[0;34m.\u001b[0m\u001b[0mT\u001b[0m\u001b[0;34m\u001b[0m\u001b[0m\n\u001b[1;32m     11\u001b[0m \u001b[0mdata_delta\u001b[0m\u001b[0;34m.\u001b[0m\u001b[0mcolumns\u001b[0m \u001b[0;34m=\u001b[0m \u001b[0;34m[\u001b[0m\u001b[0mquestion_ids\u001b[0m\u001b[0;34m[\u001b[0m\u001b[0mcol_name\u001b[0m\u001b[0;34m]\u001b[0m \u001b[0;32mfor\u001b[0m \u001b[0mcol_name\u001b[0m \u001b[0;32min\u001b[0m \u001b[0mdata_delta\u001b[0m\u001b[0;34m.\u001b[0m\u001b[0mcolumns\u001b[0m\u001b[0;34m]\u001b[0m\u001b[0;34m\u001b[0m\u001b[0m\n",
      "\u001b[0;31mIndexError\u001b[0m: index 4257 is out of bounds for axis 1 with size 3845"
     ]
    }
   ],
   "source": [
    "\"\"\"\n",
    "In each training iteration, Are questions moving closer to ground_truth or not\n",
    "if a delta value is moving to smaller value, it means question is moving to farther from its ground-truth, \n",
    "else is moving to closer to its ground-truth. The bigger, the better.\n",
    "\"\"\"\n",
    "\n",
    "data_delta = pd.DataFrame()\n",
    "for i in range(1,num_of_epochs+1):\n",
    "    data_delta[i] = my_dict[str(i)]['delta_before_after_model'][question_ids]\n",
    "data_delta = data_delta.T\n",
    "data_delta.columns = [question_ids[col_name] for col_name in data_delta.columns]\n",
    "data = []\n",
    "for q in question_ids:\n",
    "    trace = go.Scatter(\n",
    "    x = data_delta.index,\n",
    "    y = data_delta[q],\n",
    "    mode = 'lines+markers',\n",
    "    name = 'Question {}'.format(q))\n",
    "    data.append(trace)\n",
    "\n",
    "layout = go.Layout(\n",
    "    title='Delta Before Trained Q. Embeds. to Ground Truth vs After Trained Q. Embeds. to Ground Truth',\n",
    "    xaxis=dict(\n",
    "        title='Epochs'\n",
    "    ),\n",
    "    yaxis=dict(\n",
    "        title='Delta Distance'\n",
    "    )\n",
    ")\n",
    "fig =  go.Figure(data=data, layout=layout)\n",
    "py.offline.iplot(fig)"
   ]
  },
  {
   "cell_type": "code",
   "execution_count": 14,
   "metadata": {},
   "outputs": [
    {
     "data": {
      "application/vnd.plotly.v1+json": {
       "data": [
        {
         "mode": "lines+markers",
         "type": "scatter",
         "x": [
          0,
          1
         ],
         "y": [
          0.1239284873008728,
          0.1206965446472168
         ]
        }
       ],
       "layout": {
        "title": "Standart Deviation of the distances q to ground truths for each epoch",
        "xaxis": {
         "title": "Epochs"
        },
        "yaxis": {
         "title": "Standart Deviation of the distances"
        }
       }
      },
      "text/html": [
       "<div id=\"a42a198e-73b0-4a7a-85b3-0f183f54adab\" style=\"height: 525px; width: 100%;\" class=\"plotly-graph-div\"></div><script type=\"text/javascript\">require([\"plotly\"], function(Plotly) { window.PLOTLYENV=window.PLOTLYENV || {};window.PLOTLYENV.BASE_URL=\"https://plot.ly\";Plotly.newPlot(\"a42a198e-73b0-4a7a-85b3-0f183f54adab\", [{\"mode\": \"lines+markers\", \"type\": \"scatter\", \"x\": [0, 1], \"y\": [0.1239284873008728, 0.1206965446472168]}], {\"xaxis\": {\"title\": \"Epochs\"}, \"title\": \"Standart Deviation of the distances q to ground truths for each epoch\", \"yaxis\": {\"title\": \"Standart Deviation of the distances\"}}, {\"linkText\": \"Export to plot.ly\", \"showLink\": true})});</script>"
      ],
      "text/vnd.plotly.v1+html": [
       "<div id=\"a42a198e-73b0-4a7a-85b3-0f183f54adab\" style=\"height: 525px; width: 100%;\" class=\"plotly-graph-div\"></div><script type=\"text/javascript\">require([\"plotly\"], function(Plotly) { window.PLOTLYENV=window.PLOTLYENV || {};window.PLOTLYENV.BASE_URL=\"https://plot.ly\";Plotly.newPlot(\"a42a198e-73b0-4a7a-85b3-0f183f54adab\", [{\"mode\": \"lines+markers\", \"type\": \"scatter\", \"x\": [0, 1], \"y\": [0.1239284873008728, 0.1206965446472168]}], {\"xaxis\": {\"title\": \"Epochs\"}, \"title\": \"Standart Deviation of the distances q to ground truths for each epoch\", \"yaxis\": {\"title\": \"Standart Deviation of the distances\"}}, {\"linkText\": \"Export to plot.ly\", \"showLink\": true})});</script>"
      ]
     },
     "metadata": {},
     "output_type": "display_data"
    }
   ],
   "source": [
    "\"\"\"\n",
    "Standart Deviation of the distances q to ground truths for each epoch. If it is getting smaller, which means that \n",
    "embeddings are getting look like each other\n",
    "\"\"\"\n",
    "\n",
    "data_dev = []\n",
    "data_dev.append(np.std(my_dict['distance_from_before_model_q_to_p']))\n",
    "for i in range(1,num_of_epochs+1):\n",
    "    data_dev.append(np.std(my_dict[str(i)]['distance_from_after_model_q_to_p']))\n",
    "df_dev = pd.DataFrame(data=data_dev, columns=['std_dev'])\n",
    "trace = go.Scatter(\n",
    "x = df_dev.index,\n",
    "y = df_dev['std_dev'],\n",
    "mode = 'lines+markers')\n",
    "\n",
    "layout = go.Layout(\n",
    "    title='Standart Deviation of the distances q to ground truths for each epoch',\n",
    "    xaxis=dict(\n",
    "        title='Epochs'\n",
    "    ),\n",
    "    yaxis=dict(\n",
    "        title='Standart Deviation of the distances'\n",
    "    )\n",
    ")\n",
    "fig =  go.Figure(data=[trace], layout=layout)\n",
    "py.offline.iplot(fig)"
   ]
  },
  {
   "cell_type": "code",
   "execution_count": 15,
   "metadata": {},
   "outputs": [
    {
     "data": {
      "application/vnd.plotly.v1+json": {
       "data": [
        {
         "mode": "lines+markers",
         "type": "scatter",
         "x": [
          0
         ],
         "y": [
          0
         ]
        }
       ],
       "layout": {
        "title": "How many questions are getting farther from its pair paragraph",
        "xaxis": {
         "title": "Epochs"
        },
        "yaxis": {
         "title": "Number of bad questions"
        }
       }
      },
      "text/html": [
       "<div id=\"f0f7fdcb-2255-4a7c-836a-174ca414052e\" style=\"height: 525px; width: 100%;\" class=\"plotly-graph-div\"></div><script type=\"text/javascript\">require([\"plotly\"], function(Plotly) { window.PLOTLYENV=window.PLOTLYENV || {};window.PLOTLYENV.BASE_URL=\"https://plot.ly\";Plotly.newPlot(\"f0f7fdcb-2255-4a7c-836a-174ca414052e\", [{\"mode\": \"lines+markers\", \"type\": \"scatter\", \"x\": [0], \"y\": [0]}], {\"xaxis\": {\"title\": \"Epochs\"}, \"title\": \"How many questions are getting farther from its pair paragraph\", \"yaxis\": {\"title\": \"Number of bad questions\"}}, {\"linkText\": \"Export to plot.ly\", \"showLink\": true})});</script>"
      ],
      "text/vnd.plotly.v1+html": [
       "<div id=\"f0f7fdcb-2255-4a7c-836a-174ca414052e\" style=\"height: 525px; width: 100%;\" class=\"plotly-graph-div\"></div><script type=\"text/javascript\">require([\"plotly\"], function(Plotly) { window.PLOTLYENV=window.PLOTLYENV || {};window.PLOTLYENV.BASE_URL=\"https://plot.ly\";Plotly.newPlot(\"f0f7fdcb-2255-4a7c-836a-174ca414052e\", [{\"mode\": \"lines+markers\", \"type\": \"scatter\", \"x\": [0], \"y\": [0]}], {\"xaxis\": {\"title\": \"Epochs\"}, \"title\": \"How many questions are getting farther from its pair paragraph\", \"yaxis\": {\"title\": \"Number of bad questions\"}}, {\"linkText\": \"Export to plot.ly\", \"showLink\": true})});</script>"
      ]
     },
     "metadata": {},
     "output_type": "display_data"
    }
   ],
   "source": [
    "\"\"\"\n",
    "The idea here is that how many pairs we have that their distance are getting worse means that\n",
    "they are getting farther. \n",
    "\"\"\"\n",
    "number_of_bad_questions = []\n",
    "set_bad_questions = set()\n",
    "for i in range(1,num_of_epochs+1):\n",
    "    bad_questions = np.where(my_dict[str(i)]['distance_from_after_model_q_to_p'] < 0)\n",
    "    bad_questions = my_dict[str(i)]['distance_from_after_model_q_to_p'][bad_questions]\n",
    "    number_of_bad_questions.append(bad_questions.shape[0])\n",
    "    set_bad_questions.update(bad_questions)\n",
    "    \n",
    "df_farther = pd.DataFrame(data=number_of_bad_questions, columns=['number_of_bad_questions'])\n",
    "trace = go.Scatter(\n",
    "x = df_farther.index,\n",
    "y = df_farther['number_of_bad_questions'],\n",
    "mode = 'lines+markers')\n",
    "\n",
    "layout = go.Layout(\n",
    "    title='How many questions are getting farther from its pair paragraph',\n",
    "    xaxis=dict(\n",
    "        title='Epochs'\n",
    "    ),\n",
    "    yaxis=dict(\n",
    "        title='Number of bad questions'\n",
    "    )\n",
    ")\n",
    "fig =  go.Figure(data=[trace], layout=layout)\n",
    "py.offline.iplot(fig)"
   ]
  },
  {
   "cell_type": "code",
   "execution_count": null,
   "metadata": {},
   "outputs": [],
   "source": []
  }
 ],
 "metadata": {
  "kernelspec": {
   "display_name": "Python 3",
   "language": "python",
   "name": "python3"
  },
  "language_info": {
   "codemirror_mode": {
    "name": "ipython",
    "version": 3
   },
   "file_extension": ".py",
   "mimetype": "text/x-python",
   "name": "python",
   "nbconvert_exporter": "python",
   "pygments_lexer": "ipython3",
   "version": "3.5.2"
  }
 },
 "nbformat": 4,
 "nbformat_minor": 1
}
