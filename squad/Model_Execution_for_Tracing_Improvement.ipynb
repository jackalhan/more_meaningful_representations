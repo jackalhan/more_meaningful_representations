{
 "cells": [
  {
   "cell_type": "code",
   "execution_count": 1,
   "metadata": {},
   "outputs": [
    {
     "name": "stderr",
     "output_type": "stream",
     "text": [
      "/home/jackalhan/Development/github/more_meaningful_representations/venv/lib/python3.5/site-packages/h5py/__init__.py:36: FutureWarning: Conversion of the second argument of issubdtype from `float` to `np.floating` is deprecated. In future, it will be treated as `np.float64 == np.dtype(float).type`.\n",
      "  from ._conv import register_converters as _register_converters\n"
     ]
    },
    {
     "data": {
      "text/html": [
       "<script>requirejs.config({paths: { 'plotly': ['https://cdn.plot.ly/plotly-latest.min']},});if(!window.Plotly) {{require(['plotly'],function(plotly) {window.Plotly=plotly;});}}</script>"
      ],
      "text/vnd.plotly.v1+html": [
       "<script>requirejs.config({paths: { 'plotly': ['https://cdn.plot.ly/plotly-latest.min']},});if(!window.Plotly) {{require(['plotly'],function(plotly) {window.Plotly=plotly;});}}</script>"
      ]
     },
     "metadata": {},
     "output_type": "display_data"
    }
   ],
   "source": [
    "import os\n",
    "import sys\n",
    "path = !echo ${VIRTUAL_ENV}\n",
    "path = os.path.join(path[0], '..')\n",
    "sys.path.append(path)\n",
    "from helper.utils import load_from_pickle, load_from_shelve\n",
    "import numpy as np\n",
    "import pandas as pd\n",
    "from plotly import tools\n",
    "import plotly as py\n",
    "import plotly.graph_objs as go\n",
    "#import impywidgets as widget\n",
    "py.offline.init_notebook_mode(connected=True)"
   ]
  },
  {
   "cell_type": "code",
   "execution_count": 2,
   "metadata": {},
   "outputs": [],
   "source": [
    "base_data_path = \"/home/jackalhan/Development/github/more_meaningful_representations/squad/train/improvement/model_performances/subset_5000/\""
   ]
  },
  {
   "cell_type": "code",
   "execution_count": 19,
   "metadata": {},
   "outputs": [
    {
     "data": {
      "text/plain": [
       "[]"
      ]
     },
     "execution_count": 19,
     "metadata": {},
     "output_type": "execute_result"
    }
   ],
   "source": [
    "debug_files = {}\n",
    "for i, structure in enumerate(os.walk(base_data_path)):\n",
    "    root, dirs, files = structure\n",
    "    for file in files:\n",
    "        if file.endswith(\".pkl\"):            \n",
    "            debug_files[i] = os.path.join(root, file)\n",
    "[\"{} --> {}\".format(key, value) for key, value in debug_files.items()]"
   ]
  },
  {
   "cell_type": "code",
   "execution_count": 15,
   "metadata": {},
   "outputs": [
    {
     "data": {
      "text/plain": [
       "'/home/jackalhan/Development/github/more_meaningful_representations/squad/train/improvement/model_performances/subset_5000/model_2_layers_1_epoch_15_mar_0.6_sf_0.9_wd_0.001_lr_0.001_dim_2048_keep_1_seed_66_loss_v3/debug_dict.pkl'"
      ]
     },
     "execution_count": 15,
     "metadata": {},
     "output_type": "execute_result"
    }
   ],
   "source": [
    "model_indx =3\n",
    "my_dict = load_from_pickle(os.path.join(base_data_path, \n",
    "                                        debug_files[model_indx]))\n",
    "num_of_epochs = my_dict['epochs']\n",
    "number_of_sample_question_size = 15\n",
    "# temp_ids = np.arange(my_dict['actual_labels'].shape[0])\n",
    "# np.random.shuffle(temp_ids)\n",
    "# question_ids = temp_ids[:number_of_sample_question_size]\n",
    "debug_files[model_indx]"
   ]
  },
  {
   "cell_type": "code",
   "execution_count": 16,
   "metadata": {},
   "outputs": [
    {
     "data": {
      "application/vnd.plotly.v1+json": {
       "data": [
        {
         "mode": "lines+markers",
         "name": "Top top_1",
         "type": "scatter",
         "x": [
          0,
          1,
          2,
          3,
          4,
          5,
          6,
          7,
          8,
          9,
          10,
          11,
          12,
          13,
          14,
          15
         ],
         "y": [
          0.3264,
          0.341,
          0.3398,
          0.3408,
          0.3422,
          0.3438,
          0.3438,
          0.3438,
          0.345,
          0.3464,
          0.3458,
          0.3456,
          0.346,
          0.3458,
          0.3452,
          0.3448
         ]
        },
        {
         "mode": "lines+markers",
         "name": "Top top_2",
         "type": "scatter",
         "x": [
          0,
          1,
          2,
          3,
          4,
          5,
          6,
          7,
          8,
          9,
          10,
          11,
          12,
          13,
          14,
          15
         ],
         "y": [
          0.4144,
          0.4264,
          0.424,
          0.4276,
          0.4304,
          0.4316,
          0.4304,
          0.4322,
          0.4336,
          0.4336,
          0.4332,
          0.4338,
          0.4346,
          0.4346,
          0.4352,
          0.435
         ]
        },
        {
         "mode": "lines+markers",
         "name": "Top top_5",
         "type": "scatter",
         "x": [
          0,
          1,
          2,
          3,
          4,
          5,
          6,
          7,
          8,
          9,
          10,
          11,
          12,
          13,
          14,
          15
         ],
         "y": [
          0.5194,
          0.5374,
          0.5318,
          0.5354,
          0.5402,
          0.5414,
          0.5424,
          0.5434,
          0.5428,
          0.5438,
          0.5432,
          0.5428,
          0.543,
          0.5424,
          0.5432,
          0.5428
         ]
        },
        {
         "mode": "lines+markers",
         "name": "Top top_10",
         "type": "scatter",
         "x": [
          0,
          1,
          2,
          3,
          4,
          5,
          6,
          7,
          8,
          9,
          10,
          11,
          12,
          13,
          14,
          15
         ],
         "y": [
          0.591,
          0.6156,
          0.6076,
          0.6116,
          0.6146,
          0.6154,
          0.615,
          0.618,
          0.618,
          0.6184,
          0.618,
          0.6182,
          0.6184,
          0.6188,
          0.6202,
          0.6202
         ]
        },
        {
         "mode": "lines+markers",
         "name": "Top top_20",
         "type": "scatter",
         "x": [
          0,
          1,
          2,
          3,
          4,
          5,
          6,
          7,
          8,
          9,
          10,
          11,
          12,
          13,
          14,
          15
         ],
         "y": [
          0.6628,
          0.6852,
          0.6766,
          0.6804,
          0.6836,
          0.6848,
          0.6862,
          0.6864,
          0.6886,
          0.6878,
          0.6886,
          0.6882,
          0.6884,
          0.6878,
          0.6884,
          0.6884
         ]
        },
        {
         "mode": "lines+markers",
         "name": "Top top_50",
         "type": "scatter",
         "x": [
          0,
          1,
          2,
          3,
          4,
          5,
          6,
          7,
          8,
          9,
          10,
          11,
          12,
          13,
          14,
          15
         ],
         "y": [
          0.742,
          0.7666,
          0.7574,
          0.7606,
          0.7644,
          0.764,
          0.766,
          0.7674,
          0.7688,
          0.7692,
          0.7694,
          0.7692,
          0.7694,
          0.7696,
          0.7696,
          0.77
         ]
        }
       ],
       "layout": {
        "title": "How the recalls at top n are changing for each epoch",
        "xaxis": {
         "title": "Epochs"
        },
        "yaxis": {
         "title": "Recall Values"
        }
       }
      },
      "text/html": [
       "<div id=\"9908054a-7ed1-45c0-a656-f4d0ddb8d2f5\" style=\"height: 525px; width: 100%;\" class=\"plotly-graph-div\"></div><script type=\"text/javascript\">require([\"plotly\"], function(Plotly) { window.PLOTLYENV=window.PLOTLYENV || {};window.PLOTLYENV.BASE_URL=\"https://plot.ly\";Plotly.newPlot(\"9908054a-7ed1-45c0-a656-f4d0ddb8d2f5\", [{\"type\": \"scatter\", \"name\": \"Top top_1\", \"x\": [0, 1, 2, 3, 4, 5, 6, 7, 8, 9, 10, 11, 12, 13, 14, 15], \"y\": [0.3264, 0.341, 0.3398, 0.3408, 0.3422, 0.3438, 0.3438, 0.3438, 0.345, 0.3464, 0.3458, 0.3456, 0.346, 0.3458, 0.3452, 0.3448], \"mode\": \"lines+markers\"}, {\"type\": \"scatter\", \"name\": \"Top top_2\", \"x\": [0, 1, 2, 3, 4, 5, 6, 7, 8, 9, 10, 11, 12, 13, 14, 15], \"y\": [0.4144, 0.4264, 0.424, 0.4276, 0.4304, 0.4316, 0.4304, 0.4322, 0.4336, 0.4336, 0.4332, 0.4338, 0.4346, 0.4346, 0.4352, 0.435], \"mode\": \"lines+markers\"}, {\"type\": \"scatter\", \"name\": \"Top top_5\", \"x\": [0, 1, 2, 3, 4, 5, 6, 7, 8, 9, 10, 11, 12, 13, 14, 15], \"y\": [0.5194, 0.5374, 0.5318, 0.5354, 0.5402, 0.5414, 0.5424, 0.5434, 0.5428, 0.5438, 0.5432, 0.5428, 0.543, 0.5424, 0.5432, 0.5428], \"mode\": \"lines+markers\"}, {\"type\": \"scatter\", \"name\": \"Top top_10\", \"x\": [0, 1, 2, 3, 4, 5, 6, 7, 8, 9, 10, 11, 12, 13, 14, 15], \"y\": [0.591, 0.6156, 0.6076, 0.6116, 0.6146, 0.6154, 0.615, 0.618, 0.618, 0.6184, 0.618, 0.6182, 0.6184, 0.6188, 0.6202, 0.6202], \"mode\": \"lines+markers\"}, {\"type\": \"scatter\", \"name\": \"Top top_20\", \"x\": [0, 1, 2, 3, 4, 5, 6, 7, 8, 9, 10, 11, 12, 13, 14, 15], \"y\": [0.6628, 0.6852, 0.6766, 0.6804, 0.6836, 0.6848, 0.6862, 0.6864, 0.6886, 0.6878, 0.6886, 0.6882, 0.6884, 0.6878, 0.6884, 0.6884], \"mode\": \"lines+markers\"}, {\"type\": \"scatter\", \"name\": \"Top top_50\", \"x\": [0, 1, 2, 3, 4, 5, 6, 7, 8, 9, 10, 11, 12, 13, 14, 15], \"y\": [0.742, 0.7666, 0.7574, 0.7606, 0.7644, 0.764, 0.766, 0.7674, 0.7688, 0.7692, 0.7694, 0.7692, 0.7694, 0.7696, 0.7696, 0.77], \"mode\": \"lines+markers\"}], {\"yaxis\": {\"title\": \"Recall Values\"}, \"title\": \"How the recalls at top n are changing for each epoch\", \"xaxis\": {\"title\": \"Epochs\"}}, {\"linkText\": \"Export to plot.ly\", \"showLink\": true})});</script>"
      ],
      "text/vnd.plotly.v1+html": [
       "<div id=\"9908054a-7ed1-45c0-a656-f4d0ddb8d2f5\" style=\"height: 525px; width: 100%;\" class=\"plotly-graph-div\"></div><script type=\"text/javascript\">require([\"plotly\"], function(Plotly) { window.PLOTLYENV=window.PLOTLYENV || {};window.PLOTLYENV.BASE_URL=\"https://plot.ly\";Plotly.newPlot(\"9908054a-7ed1-45c0-a656-f4d0ddb8d2f5\", [{\"type\": \"scatter\", \"name\": \"Top top_1\", \"x\": [0, 1, 2, 3, 4, 5, 6, 7, 8, 9, 10, 11, 12, 13, 14, 15], \"y\": [0.3264, 0.341, 0.3398, 0.3408, 0.3422, 0.3438, 0.3438, 0.3438, 0.345, 0.3464, 0.3458, 0.3456, 0.346, 0.3458, 0.3452, 0.3448], \"mode\": \"lines+markers\"}, {\"type\": \"scatter\", \"name\": \"Top top_2\", \"x\": [0, 1, 2, 3, 4, 5, 6, 7, 8, 9, 10, 11, 12, 13, 14, 15], \"y\": [0.4144, 0.4264, 0.424, 0.4276, 0.4304, 0.4316, 0.4304, 0.4322, 0.4336, 0.4336, 0.4332, 0.4338, 0.4346, 0.4346, 0.4352, 0.435], \"mode\": \"lines+markers\"}, {\"type\": \"scatter\", \"name\": \"Top top_5\", \"x\": [0, 1, 2, 3, 4, 5, 6, 7, 8, 9, 10, 11, 12, 13, 14, 15], \"y\": [0.5194, 0.5374, 0.5318, 0.5354, 0.5402, 0.5414, 0.5424, 0.5434, 0.5428, 0.5438, 0.5432, 0.5428, 0.543, 0.5424, 0.5432, 0.5428], \"mode\": \"lines+markers\"}, {\"type\": \"scatter\", \"name\": \"Top top_10\", \"x\": [0, 1, 2, 3, 4, 5, 6, 7, 8, 9, 10, 11, 12, 13, 14, 15], \"y\": [0.591, 0.6156, 0.6076, 0.6116, 0.6146, 0.6154, 0.615, 0.618, 0.618, 0.6184, 0.618, 0.6182, 0.6184, 0.6188, 0.6202, 0.6202], \"mode\": \"lines+markers\"}, {\"type\": \"scatter\", \"name\": \"Top top_20\", \"x\": [0, 1, 2, 3, 4, 5, 6, 7, 8, 9, 10, 11, 12, 13, 14, 15], \"y\": [0.6628, 0.6852, 0.6766, 0.6804, 0.6836, 0.6848, 0.6862, 0.6864, 0.6886, 0.6878, 0.6886, 0.6882, 0.6884, 0.6878, 0.6884, 0.6884], \"mode\": \"lines+markers\"}, {\"type\": \"scatter\", \"name\": \"Top top_50\", \"x\": [0, 1, 2, 3, 4, 5, 6, 7, 8, 9, 10, 11, 12, 13, 14, 15], \"y\": [0.742, 0.7666, 0.7574, 0.7606, 0.7644, 0.764, 0.766, 0.7674, 0.7688, 0.7692, 0.7694, 0.7692, 0.7694, 0.7696, 0.7696, 0.77], \"mode\": \"lines+markers\"}], {\"yaxis\": {\"title\": \"Recall Values\"}, \"title\": \"How the recalls at top n are changing for each epoch\", \"xaxis\": {\"title\": \"Epochs\"}}, {\"linkText\": \"Export to plot.ly\", \"showLink\": true})});</script>"
      ]
     },
     "metadata": {},
     "output_type": "display_data"
    }
   ],
   "source": [
    "\"\"\"\n",
    "How the recalls at top n are changing for each epoch \n",
    "\"\"\"\n",
    "\n",
    "data_recalls = []\n",
    "sub_list = []\n",
    "sub_list.append(0)\n",
    "sub_list.extend([x for x in my_dict['normalized_recalls_before_model']])\n",
    "data_recalls.append(sub_list)\n",
    "for i in range(1,num_of_epochs+1):\n",
    "    sub_list = []\n",
    "    sub_list.append(i)\n",
    "    sub_list.extend([x for x in my_dict[str(i)]['normalized_recalls_after_model']])\n",
    "    data_recalls.append(sub_list)\n",
    "df_data_recalls = pd.DataFrame(data_recalls, columns=['epoch', 'top_1', 'top_2', 'top_5'\n",
    "                                                   ,'top_10', 'top_20', 'top_50'])\n",
    "traces = []\n",
    "for c in df_data_recalls.columns[1:]:\n",
    "    trace = go.Scatter(\n",
    "    x = df_data_recalls.index,\n",
    "    y = df_data_recalls[c],\n",
    "    mode = 'lines+markers',\n",
    "    name = 'Top {}'.format(c))\n",
    "    traces.append(trace)\n",
    "\n",
    "layout = go.Layout(\n",
    "    title='How the recalls at top n are changing for each epoch',\n",
    "    xaxis=dict(\n",
    "        title='Epochs'\n",
    "    ),\n",
    "    yaxis=dict(\n",
    "        title='Recall Values'\n",
    "    )\n",
    ")\n",
    "fig =  go.Figure(data=traces, layout=layout)\n",
    "py.offline.iplot(fig)"
   ]
  },
  {
   "cell_type": "code",
   "execution_count": 17,
   "metadata": {},
   "outputs": [
    {
     "data": {
      "text/plain": [
       "14    0.566967\n",
       "15    0.566867\n",
       "12    0.566633\n",
       "9     0.566533\n",
       "13    0.566500\n",
       "10    0.566367\n",
       "11    0.566300\n",
       "8     0.566133\n",
       "7     0.565200\n",
       "6     0.563967\n",
       "5     0.563500\n",
       "4     0.562567\n",
       "1     0.562033\n",
       "3     0.559400\n",
       "2     0.556200\n",
       "0     0.542667\n",
       "dtype: float64"
      ]
     },
     "execution_count": 17,
     "metadata": {},
     "output_type": "execute_result"
    }
   ],
   "source": [
    "df_data_recalls[['top_1', 'top_2', 'top_5','top_10', 'top_20', 'top_50']].mean(axis=1).sort_values(ascending =[False])"
   ]
  },
  {
   "cell_type": "code",
   "execution_count": 18,
   "metadata": {},
   "outputs": [
    {
     "data": {
      "text/html": [
       "<div>\n",
       "<style scoped>\n",
       "    .dataframe tbody tr th:only-of-type {\n",
       "        vertical-align: middle;\n",
       "    }\n",
       "\n",
       "    .dataframe tbody tr th {\n",
       "        vertical-align: top;\n",
       "    }\n",
       "\n",
       "    .dataframe thead th {\n",
       "        text-align: right;\n",
       "    }\n",
       "</style>\n",
       "<table border=\"1\" class=\"dataframe\">\n",
       "  <thead>\n",
       "    <tr style=\"text-align: right;\">\n",
       "      <th></th>\n",
       "      <th>epoch</th>\n",
       "      <th>top_1</th>\n",
       "      <th>top_2</th>\n",
       "      <th>top_5</th>\n",
       "      <th>top_10</th>\n",
       "      <th>top_20</th>\n",
       "      <th>top_50</th>\n",
       "    </tr>\n",
       "  </thead>\n",
       "  <tbody>\n",
       "    <tr>\n",
       "      <th>9</th>\n",
       "      <td>9</td>\n",
       "      <td>0.3464</td>\n",
       "      <td>0.4336</td>\n",
       "      <td>0.5438</td>\n",
       "      <td>0.6184</td>\n",
       "      <td>0.6878</td>\n",
       "      <td>0.7692</td>\n",
       "    </tr>\n",
       "    <tr>\n",
       "      <th>12</th>\n",
       "      <td>12</td>\n",
       "      <td>0.3460</td>\n",
       "      <td>0.4346</td>\n",
       "      <td>0.5430</td>\n",
       "      <td>0.6184</td>\n",
       "      <td>0.6884</td>\n",
       "      <td>0.7694</td>\n",
       "    </tr>\n",
       "    <tr>\n",
       "      <th>13</th>\n",
       "      <td>13</td>\n",
       "      <td>0.3458</td>\n",
       "      <td>0.4346</td>\n",
       "      <td>0.5424</td>\n",
       "      <td>0.6188</td>\n",
       "      <td>0.6878</td>\n",
       "      <td>0.7696</td>\n",
       "    </tr>\n",
       "    <tr>\n",
       "      <th>10</th>\n",
       "      <td>10</td>\n",
       "      <td>0.3458</td>\n",
       "      <td>0.4332</td>\n",
       "      <td>0.5432</td>\n",
       "      <td>0.6180</td>\n",
       "      <td>0.6886</td>\n",
       "      <td>0.7694</td>\n",
       "    </tr>\n",
       "    <tr>\n",
       "      <th>11</th>\n",
       "      <td>11</td>\n",
       "      <td>0.3456</td>\n",
       "      <td>0.4338</td>\n",
       "      <td>0.5428</td>\n",
       "      <td>0.6182</td>\n",
       "      <td>0.6882</td>\n",
       "      <td>0.7692</td>\n",
       "    </tr>\n",
       "    <tr>\n",
       "      <th>14</th>\n",
       "      <td>14</td>\n",
       "      <td>0.3452</td>\n",
       "      <td>0.4352</td>\n",
       "      <td>0.5432</td>\n",
       "      <td>0.6202</td>\n",
       "      <td>0.6884</td>\n",
       "      <td>0.7696</td>\n",
       "    </tr>\n",
       "    <tr>\n",
       "      <th>8</th>\n",
       "      <td>8</td>\n",
       "      <td>0.3450</td>\n",
       "      <td>0.4336</td>\n",
       "      <td>0.5428</td>\n",
       "      <td>0.6180</td>\n",
       "      <td>0.6886</td>\n",
       "      <td>0.7688</td>\n",
       "    </tr>\n",
       "    <tr>\n",
       "      <th>15</th>\n",
       "      <td>15</td>\n",
       "      <td>0.3448</td>\n",
       "      <td>0.4350</td>\n",
       "      <td>0.5428</td>\n",
       "      <td>0.6202</td>\n",
       "      <td>0.6884</td>\n",
       "      <td>0.7700</td>\n",
       "    </tr>\n",
       "    <tr>\n",
       "      <th>7</th>\n",
       "      <td>7</td>\n",
       "      <td>0.3438</td>\n",
       "      <td>0.4322</td>\n",
       "      <td>0.5434</td>\n",
       "      <td>0.6180</td>\n",
       "      <td>0.6864</td>\n",
       "      <td>0.7674</td>\n",
       "    </tr>\n",
       "    <tr>\n",
       "      <th>5</th>\n",
       "      <td>5</td>\n",
       "      <td>0.3438</td>\n",
       "      <td>0.4316</td>\n",
       "      <td>0.5414</td>\n",
       "      <td>0.6154</td>\n",
       "      <td>0.6848</td>\n",
       "      <td>0.7640</td>\n",
       "    </tr>\n",
       "    <tr>\n",
       "      <th>6</th>\n",
       "      <td>6</td>\n",
       "      <td>0.3438</td>\n",
       "      <td>0.4304</td>\n",
       "      <td>0.5424</td>\n",
       "      <td>0.6150</td>\n",
       "      <td>0.6862</td>\n",
       "      <td>0.7660</td>\n",
       "    </tr>\n",
       "    <tr>\n",
       "      <th>4</th>\n",
       "      <td>4</td>\n",
       "      <td>0.3422</td>\n",
       "      <td>0.4304</td>\n",
       "      <td>0.5402</td>\n",
       "      <td>0.6146</td>\n",
       "      <td>0.6836</td>\n",
       "      <td>0.7644</td>\n",
       "    </tr>\n",
       "    <tr>\n",
       "      <th>1</th>\n",
       "      <td>1</td>\n",
       "      <td>0.3410</td>\n",
       "      <td>0.4264</td>\n",
       "      <td>0.5374</td>\n",
       "      <td>0.6156</td>\n",
       "      <td>0.6852</td>\n",
       "      <td>0.7666</td>\n",
       "    </tr>\n",
       "    <tr>\n",
       "      <th>3</th>\n",
       "      <td>3</td>\n",
       "      <td>0.3408</td>\n",
       "      <td>0.4276</td>\n",
       "      <td>0.5354</td>\n",
       "      <td>0.6116</td>\n",
       "      <td>0.6804</td>\n",
       "      <td>0.7606</td>\n",
       "    </tr>\n",
       "    <tr>\n",
       "      <th>2</th>\n",
       "      <td>2</td>\n",
       "      <td>0.3398</td>\n",
       "      <td>0.4240</td>\n",
       "      <td>0.5318</td>\n",
       "      <td>0.6076</td>\n",
       "      <td>0.6766</td>\n",
       "      <td>0.7574</td>\n",
       "    </tr>\n",
       "    <tr>\n",
       "      <th>0</th>\n",
       "      <td>0</td>\n",
       "      <td>0.3264</td>\n",
       "      <td>0.4144</td>\n",
       "      <td>0.5194</td>\n",
       "      <td>0.5910</td>\n",
       "      <td>0.6628</td>\n",
       "      <td>0.7420</td>\n",
       "    </tr>\n",
       "  </tbody>\n",
       "</table>\n",
       "</div>"
      ],
      "text/plain": [
       "    epoch   top_1   top_2   top_5  top_10  top_20  top_50\n",
       "9       9  0.3464  0.4336  0.5438  0.6184  0.6878  0.7692\n",
       "12     12  0.3460  0.4346  0.5430  0.6184  0.6884  0.7694\n",
       "13     13  0.3458  0.4346  0.5424  0.6188  0.6878  0.7696\n",
       "10     10  0.3458  0.4332  0.5432  0.6180  0.6886  0.7694\n",
       "11     11  0.3456  0.4338  0.5428  0.6182  0.6882  0.7692\n",
       "14     14  0.3452  0.4352  0.5432  0.6202  0.6884  0.7696\n",
       "8       8  0.3450  0.4336  0.5428  0.6180  0.6886  0.7688\n",
       "15     15  0.3448  0.4350  0.5428  0.6202  0.6884  0.7700\n",
       "7       7  0.3438  0.4322  0.5434  0.6180  0.6864  0.7674\n",
       "5       5  0.3438  0.4316  0.5414  0.6154  0.6848  0.7640\n",
       "6       6  0.3438  0.4304  0.5424  0.6150  0.6862  0.7660\n",
       "4       4  0.3422  0.4304  0.5402  0.6146  0.6836  0.7644\n",
       "1       1  0.3410  0.4264  0.5374  0.6156  0.6852  0.7666\n",
       "3       3  0.3408  0.4276  0.5354  0.6116  0.6804  0.7606\n",
       "2       2  0.3398  0.4240  0.5318  0.6076  0.6766  0.7574\n",
       "0       0  0.3264  0.4144  0.5194  0.5910  0.6628  0.7420"
      ]
     },
     "execution_count": 18,
     "metadata": {},
     "output_type": "execute_result"
    }
   ],
   "source": [
    "df_data_recalls.sort_values(by=['top_1', 'top_2', 'top_5', 'top_10', 'top_20', 'top_50'], ascending =[False, False, False, False, False, False])"
   ]
  },
  {
   "cell_type": "code",
   "execution_count": 8,
   "metadata": {},
   "outputs": [
    {
     "ename": "IndexError",
     "evalue": "index 4257 is out of bounds for axis 0 with size 3845",
     "output_type": "error",
     "traceback": [
      "\u001b[0;31m---------------------------------------------------------------------------\u001b[0m",
      "\u001b[0;31mIndexError\u001b[0m                                Traceback (most recent call last)",
      "\u001b[0;32m<ipython-input-8-10c45bd14aab>\u001b[0m in \u001b[0;36m<module>\u001b[0;34m()\u001b[0m\n\u001b[1;32m     12\u001b[0m \u001b[0mquestion_ids\u001b[0m \u001b[0;34m=\u001b[0m \u001b[0;34m[\u001b[0m\u001b[0;36m1550\u001b[0m\u001b[0;34m,\u001b[0m \u001b[0;36m4257\u001b[0m\u001b[0;34m,\u001b[0m \u001b[0;36m459\u001b[0m\u001b[0;34m]\u001b[0m\u001b[0;34m\u001b[0m\u001b[0m\n\u001b[1;32m     13\u001b[0m \u001b[0;34m\u001b[0m\u001b[0m\n\u001b[0;32m---> 14\u001b[0;31m \u001b[0mgood_questions_at_top_1_are_founds\u001b[0m \u001b[0;34m=\u001b[0m \u001b[0mmy_dict\u001b[0m\u001b[0;34m[\u001b[0m\u001b[0;34m'top_k'\u001b[0m\u001b[0;34m]\u001b[0m\u001b[0;34m[\u001b[0m\u001b[0mstr\u001b[0m\u001b[0;34m(\u001b[0m\u001b[0mk\u001b[0m\u001b[0;34m)\u001b[0m\u001b[0;34m]\u001b[0m\u001b[0;34m[\u001b[0m\u001b[0;34m'are_founds_before'\u001b[0m\u001b[0;34m]\u001b[0m\u001b[0;34m[\u001b[0m\u001b[0mquestion_ids\u001b[0m\u001b[0;34m]\u001b[0m\u001b[0;34m\u001b[0m\u001b[0m\n\u001b[0m\u001b[1;32m     15\u001b[0m \u001b[0mgood_questions_at_top_1_labels\u001b[0m \u001b[0;34m=\u001b[0m \u001b[0mmy_dict\u001b[0m\u001b[0;34m[\u001b[0m\u001b[0;34m'top_k'\u001b[0m\u001b[0;34m]\u001b[0m\u001b[0;34m[\u001b[0m\u001b[0mstr\u001b[0m\u001b[0;34m(\u001b[0m\u001b[0mk\u001b[0m\u001b[0;34m)\u001b[0m\u001b[0;34m]\u001b[0m\u001b[0;34m[\u001b[0m\u001b[0;34m'closest_labels_before'\u001b[0m\u001b[0;34m]\u001b[0m\u001b[0;34m[\u001b[0m\u001b[0mquestion_ids\u001b[0m\u001b[0;34m]\u001b[0m\u001b[0;34m\u001b[0m\u001b[0m\n\u001b[1;32m     16\u001b[0m \u001b[0mgood_questions_at_top_1_distances\u001b[0m \u001b[0;34m=\u001b[0m \u001b[0mmy_dict\u001b[0m\u001b[0;34m[\u001b[0m\u001b[0;34m'top_k'\u001b[0m\u001b[0;34m]\u001b[0m\u001b[0;34m[\u001b[0m\u001b[0mstr\u001b[0m\u001b[0;34m(\u001b[0m\u001b[0mk\u001b[0m\u001b[0;34m)\u001b[0m\u001b[0;34m]\u001b[0m\u001b[0;34m[\u001b[0m\u001b[0;34m'distances_before'\u001b[0m\u001b[0;34m]\u001b[0m\u001b[0;34m[\u001b[0m\u001b[0mquestion_ids\u001b[0m\u001b[0;34m]\u001b[0m\u001b[0;34m\u001b[0m\u001b[0m\n",
      "\u001b[0;31mIndexError\u001b[0m: index 4257 is out of bounds for axis 0 with size 3845"
     ]
    }
   ],
   "source": [
    "\"\"\"\n",
    "which of questions are getting worse (moving farther from its ground-truth) through subsequent epochs.\n",
    "\"\"\"\n",
    "\n",
    "k = 1\n",
    "good_questions_at_top_1_idx = np.where(my_dict['top_k'][str(k)]['are_founds_before'] == 1)\n",
    "np.random.shuffle(good_questions_at_top_1_idx[0])\n",
    "# IN ORDER TO SELECT RANDOM QUESTIONS\n",
    "#question_ids = good_questions_at_top_1_idx[0][:number_of_sample_question_size]\n",
    "\n",
    "# IN ORDER TO ENTER QUESTIONS\n",
    "question_ids = [1550, 4257, 459]\n",
    "\n",
    "good_questions_at_top_1_are_founds = my_dict['top_k'][str(k)]['are_founds_before'][question_ids]\n",
    "good_questions_at_top_1_labels = my_dict['top_k'][str(k)]['closest_labels_before'][question_ids]\n",
    "good_questions_at_top_1_distances = my_dict['top_k'][str(k)]['distances_before'][question_ids]\n",
    "\n",
    "still_good_question = pd.DataFrame()\n",
    "still_good_question[0]= np.reshape(good_questions_at_top_1_are_founds, [-1,])\n",
    "for i in range(1,num_of_epochs+1):\n",
    "    still_good_question[i] = np.reshape(my_dict[str(i)]['top_k'][str(k)]['are_founds_after'][question_ids], [-1,])\n",
    "still_good_question = still_good_question.T\n",
    "still_good_question.columns = [question_ids[col_name] for col_name in still_good_question.columns]\n",
    "data = []\n",
    "problematic_questions = []\n",
    "for q in question_ids:\n",
    "    _problematic_question = np.where(still_good_question[q] == 0)[0]\n",
    "    _problematic_question = still_good_question[q][_problematic_question]\n",
    "    if _problematic_question.shape[0] != 0:\n",
    "        problematic_questions.append(_problematic_question.name)\n",
    "    trace = go.Scatter(\n",
    "    x = still_good_question.index,\n",
    "    y = still_good_question[q],\n",
    "    mode = 'lines+markers',\n",
    "    name = 'Question {}'.format(q))\n",
    "    data.append(trace)\n",
    "\n",
    "layout = go.Layout(\n",
    "    title='Questions\" Paragraphs are still in their top {} closest neighbours'.format(k),\n",
    "    xaxis=dict(\n",
    "        title='Epochs'\n",
    "    ),\n",
    "    yaxis=dict(\n",
    "        title='Yes or No'\n",
    "    )\n",
    ")\n",
    "fig =  go.Figure(data=data, layout=layout)\n",
    "py.offline.iplot(fig)\n",
    "print('Problematic Questions')\n",
    "[_p for _p in problematic_questions]"
   ]
  },
  {
   "cell_type": "code",
   "execution_count": 9,
   "metadata": {},
   "outputs": [
    {
     "ename": "NameError",
     "evalue": "name 'problematic_questions' is not defined",
     "output_type": "error",
     "traceback": [
      "\u001b[0;31m---------------------------------------------------------------------------\u001b[0m",
      "\u001b[0;31mNameError\u001b[0m                                 Traceback (most recent call last)",
      "\u001b[0;32m<ipython-input-9-399b6783d7f4>\u001b[0m in \u001b[0;36m<module>\u001b[0;34m()\u001b[0m\n\u001b[1;32m      1\u001b[0m \u001b[0;34m\"What happened to the following question?\"\u001b[0m\u001b[0;34m\u001b[0m\u001b[0m\n\u001b[0;32m----> 2\u001b[0;31m \u001b[0msample_question_that_are_getting_worse_idx\u001b[0m \u001b[0;34m=\u001b[0m \u001b[0mproblematic_questions\u001b[0m\u001b[0;34m\u001b[0m\u001b[0m\n\u001b[0m\u001b[1;32m      3\u001b[0m \u001b[0msample_question_that_are_getting_worse_sub_idx\u001b[0m \u001b[0;34m=\u001b[0m \u001b[0;34m[\u001b[0m\u001b[0mnp\u001b[0m\u001b[0;34m.\u001b[0m\u001b[0mwhere\u001b[0m\u001b[0;34m(\u001b[0m\u001b[0mquestion_ids\u001b[0m\u001b[0;34m==\u001b[0m\u001b[0mq\u001b[0m\u001b[0;34m)\u001b[0m\u001b[0;34m[\u001b[0m\u001b[0;36m0\u001b[0m\u001b[0;34m]\u001b[0m\u001b[0;34m[\u001b[0m\u001b[0;36m0\u001b[0m\u001b[0;34m]\u001b[0m \u001b[0;32mfor\u001b[0m \u001b[0mq\u001b[0m \u001b[0;32min\u001b[0m \u001b[0msample_question_that_are_getting_worse_idx\u001b[0m\u001b[0;34m]\u001b[0m\u001b[0;34m\u001b[0m\u001b[0m\n\u001b[1;32m      4\u001b[0m \u001b[0;31m#label_of_sample_question = good_questions_at_top_1_labels[sample_question_that_are_getting_worse_sub_idx]\u001b[0m\u001b[0;34m\u001b[0m\u001b[0;34m\u001b[0m\u001b[0m\n\u001b[1;32m      5\u001b[0m \u001b[0;34m\"Is that question getting farther from its ground-truth paragraph?\"\u001b[0m\u001b[0;34m\u001b[0m\u001b[0m\n",
      "\u001b[0;31mNameError\u001b[0m: name 'problematic_questions' is not defined"
     ]
    }
   ],
   "source": [
    "\"What happened to the following question?\"\n",
    "sample_question_that_are_getting_worse_idx = problematic_questions\n",
    "sample_question_that_are_getting_worse_sub_idx = [np.where(question_ids==q)[0][0] for q in sample_question_that_are_getting_worse_idx]\n",
    "#label_of_sample_question = good_questions_at_top_1_labels[sample_question_that_are_getting_worse_sub_idx]\n",
    "\"Is that question getting farther from its ground-truth paragraph?\"\n",
    "getting_worse_distances = pd.DataFrame()\n",
    "getting_worse_labels = pd.DataFrame()\n",
    "getting_worse_distances[0] = np.reshape(good_questions_at_top_1_distances[sample_question_that_are_getting_worse_sub_idx], [-1,])\n",
    "getting_worse_labels[0] = np.reshape(good_questions_at_top_1_labels[sample_question_that_are_getting_worse_sub_idx], [-1,])\n",
    "for i in range(1,num_of_epochs+1):\n",
    "    getting_worse_distances[i] = np.reshape(my_dict[str(i)]['top_k'][str(1)]['distances_after'][sample_question_that_are_getting_worse_idx], [-1,])\n",
    "    getting_worse_labels[i] = np.reshape(my_dict[str(i)]['top_k'][str(1)]['closest_labels_after'][sample_question_that_are_getting_worse_idx], [-1,])\n",
    "\n",
    "getting_worse_distances = getting_worse_distances.T\n",
    "getting_worse_labels = getting_worse_labels.T\n",
    "getting_worse_distances.columns = [sample_question_that_are_getting_worse_idx[i] for i, col_name in enumerate(getting_worse_distances.columns)]\n",
    "getting_worse_labels.columns = [sample_question_that_are_getting_worse_idx[i] for i, col_name in enumerate(getting_worse_labels.columns)]\n",
    "\n",
    "data = []\n",
    "for q in sample_question_that_are_getting_worse_idx:\n",
    "    trace = go.Scatter(\n",
    "    x = getting_worse_distances.index,\n",
    "    y = getting_worse_distances[q],\n",
    "    text = getting_worse_labels[q],\n",
    "    hoverinfo = 'y' 'text',\n",
    "    mode = 'lines+markers',\n",
    "    name = 'Question {}'.format(q))\n",
    "    data.append(trace)\n",
    "\n",
    "layout = go.Layout(\n",
    "    title='Are questions getting farther from their ground-truth paragraph in each epoch iteration? <br> ' +\n",
    "    'to grab the closest paragraph, please hover the question',\n",
    "    xaxis=dict(\n",
    "        title='Epochs'\n",
    "    ),\n",
    "    yaxis=dict(\n",
    "        title='Distance to Closest Paragraph'\n",
    "    )\n",
    ")\n",
    "fig =  go.Figure(data=data, layout=layout)\n",
    "py.offline.iplot(fig)\n",
    "closest_paragraphs_of_problematic_questions = dict()\n",
    "print('Closest Paragraphs of these Problematic Questions')\n",
    "for _q in problematic_questions:\n",
    "    closest_paragraphs_of_problematic_questions[_q] = set(getting_worse_labels[_q]) \n",
    "closest_paragraphs_of_problematic_questions"
   ]
  },
  {
   "cell_type": "code",
   "execution_count": 10,
   "metadata": {},
   "outputs": [
    {
     "name": "stdout",
     "output_type": "stream",
     "text": [
      "Question 4257 is displayed with itsprogress within all epoch and k values\n"
     ]
    },
    {
     "ename": "NameError",
     "evalue": "name 'df_traced_questions' is not defined",
     "output_type": "error",
     "traceback": [
      "\u001b[0;31m---------------------------------------------------------------------------\u001b[0m",
      "\u001b[0;31mNameError\u001b[0m                                 Traceback (most recent call last)",
      "\u001b[0;32m<ipython-input-10-d7cdc322e20e>\u001b[0m in \u001b[0;36m<module>\u001b[0;34m()\u001b[0m\n\u001b[1;32m      2\u001b[0m \u001b[0;34m\u001b[0m\u001b[0m\n\u001b[1;32m      3\u001b[0m \u001b[0mprint\u001b[0m\u001b[0;34m(\u001b[0m\u001b[0;34m'Question {} is displayed with itsprogress within all epoch and k values'\u001b[0m\u001b[0;34m.\u001b[0m\u001b[0mformat\u001b[0m\u001b[0;34m(\u001b[0m\u001b[0mquestion_id_to_examine\u001b[0m\u001b[0;34m)\u001b[0m\u001b[0;34m)\u001b[0m\u001b[0;34m\u001b[0m\u001b[0m\n\u001b[0;32m----> 4\u001b[0;31m \u001b[0mquestion_to_display_progress\u001b[0m \u001b[0;34m=\u001b[0m \u001b[0mdf_traced_questions\u001b[0m\u001b[0;34m[\u001b[0m\u001b[0mdf_traced_questions\u001b[0m\u001b[0;34m[\u001b[0m\u001b[0;34m'question_id'\u001b[0m\u001b[0;34m]\u001b[0m \u001b[0;34m==\u001b[0m \u001b[0mquestion_id_to_examine\u001b[0m\u001b[0;34m]\u001b[0m\u001b[0;34m\u001b[0m\u001b[0m\n\u001b[0m\u001b[1;32m      5\u001b[0m \u001b[0;31m# question_to_display_progress\u001b[0m\u001b[0;34m\u001b[0m\u001b[0;34m\u001b[0m\u001b[0m\n",
      "\u001b[0;31mNameError\u001b[0m: name 'df_traced_questions' is not defined"
     ]
    }
   ],
   "source": [
    "question_id_to_examine = 4257\n",
    "\n",
    "print('Question {} is displayed with itsprogress within all epoch and k values'.format(question_id_to_examine))\n",
    "question_to_display_progress = df_traced_questions[df_traced_questions['question_id'] == question_id_to_examine]\n",
    "# question_to_display_progress"
   ]
  },
  {
   "cell_type": "code",
   "execution_count": 11,
   "metadata": {},
   "outputs": [
    {
     "name": "stdout",
     "output_type": "stream",
     "text": [
      "Question 4257 is plotted\n"
     ]
    },
    {
     "ename": "NameError",
     "evalue": "name 'question_to_display_progress' is not defined",
     "output_type": "error",
     "traceback": [
      "\u001b[0;31m---------------------------------------------------------------------------\u001b[0m",
      "\u001b[0;31mNameError\u001b[0m                                 Traceback (most recent call last)",
      "\u001b[0;32m<ipython-input-11-7c711fc94df1>\u001b[0m in \u001b[0;36m<module>\u001b[0;34m()\u001b[0m\n\u001b[1;32m      1\u001b[0m \u001b[0mprint\u001b[0m\u001b[0;34m(\u001b[0m\u001b[0;34m'Question {} is plotted'\u001b[0m\u001b[0;34m.\u001b[0m\u001b[0mformat\u001b[0m\u001b[0;34m(\u001b[0m\u001b[0mquestion_id_to_examine\u001b[0m\u001b[0;34m)\u001b[0m\u001b[0;34m)\u001b[0m\u001b[0;34m\u001b[0m\u001b[0m\n\u001b[0;32m----> 2\u001b[0;31m \u001b[0mparagraphs_to_plot\u001b[0m \u001b[0;34m=\u001b[0m \u001b[0mset\u001b[0m\u001b[0;34m(\u001b[0m\u001b[0mquestion_to_display_progress\u001b[0m\u001b[0;34m[\u001b[0m\u001b[0;34m'paragraph_id'\u001b[0m\u001b[0;34m]\u001b[0m\u001b[0;34m)\u001b[0m\u001b[0;34m\u001b[0m\u001b[0m\n\u001b[0m\u001b[1;32m      3\u001b[0m \u001b[0mdata\u001b[0m \u001b[0;34m=\u001b[0m \u001b[0;34m[\u001b[0m\u001b[0;34m]\u001b[0m\u001b[0;34m\u001b[0m\u001b[0m\n\u001b[1;32m      4\u001b[0m \u001b[0;32mfor\u001b[0m \u001b[0mp\u001b[0m \u001b[0;32min\u001b[0m \u001b[0mparagraphs_to_plot\u001b[0m\u001b[0;34m:\u001b[0m\u001b[0;34m\u001b[0m\u001b[0m\n\u001b[1;32m      5\u001b[0m     \u001b[0mdf\u001b[0m \u001b[0;34m=\u001b[0m \u001b[0mquestion_to_display_progress\u001b[0m\u001b[0;34m[\u001b[0m\u001b[0mquestion_to_display_progress\u001b[0m\u001b[0;34m[\u001b[0m\u001b[0;34m'paragraph_id'\u001b[0m\u001b[0;34m]\u001b[0m \u001b[0;34m==\u001b[0m \u001b[0mp\u001b[0m\u001b[0;34m]\u001b[0m\u001b[0;34m.\u001b[0m\u001b[0msort_values\u001b[0m\u001b[0;34m(\u001b[0m\u001b[0mby\u001b[0m\u001b[0;34m=\u001b[0m\u001b[0;34m[\u001b[0m\u001b[0;34m'epoch'\u001b[0m\u001b[0;34m,\u001b[0m \u001b[0;34m'k'\u001b[0m\u001b[0;34m]\u001b[0m\u001b[0;34m,\u001b[0m \u001b[0mascending\u001b[0m\u001b[0;34m=\u001b[0m\u001b[0;34m[\u001b[0m\u001b[0;32mTrue\u001b[0m\u001b[0;34m,\u001b[0m \u001b[0;32mTrue\u001b[0m\u001b[0;34m]\u001b[0m\u001b[0;34m)\u001b[0m\u001b[0;34m\u001b[0m\u001b[0m\n",
      "\u001b[0;31mNameError\u001b[0m: name 'question_to_display_progress' is not defined"
     ]
    }
   ],
   "source": [
    "print('Question {} is plotted'.format(question_id_to_examine))\n",
    "paragraphs_to_plot = set(question_to_display_progress['paragraph_id'])\n",
    "data = []\n",
    "for p in paragraphs_to_plot:\n",
    "    df = question_to_display_progress[question_to_display_progress['paragraph_id'] == p].sort_values(by=['epoch', 'k'], ascending=[True, True])\n",
    "    if df.shape[0] > num_of_epochs:\n",
    "        name = 'Ground Truth {}'.format(p)\n",
    "    else:\n",
    "        name = 'Paragraph {}'.format(p)\n",
    "    df = df.drop_duplicates(subset=['question_id', 'epoch'])\n",
    "    plot_data = []\n",
    "    for _epoch in range(num_of_epochs + 1):\n",
    "        try:\n",
    "            distance = df[df['epoch'] == _epoch]['distance_to_paragraph'].values[0]\n",
    "        except:\n",
    "            distance = 1.5\n",
    "        plot_data.append((_epoch, distance))\n",
    "    plot_df = pd.DataFrame(plot_data, columns=['epoch', 'distance'])  \n",
    "    trace = go.Scatter(\n",
    "    x = plot_df.index,\n",
    "    y = plot_df['distance'],\n",
    "    mode = 'lines+markers',\n",
    "    name = name)\n",
    "    data.append(trace)\n",
    "\n",
    "layout = go.Layout(\n",
    "    title='Distances of the paragraphs to that question {} are getting progressed in each epoch'.format(question_id_to_examine),\n",
    "    xaxis=dict(\n",
    "        title='Epochs'\n",
    "    ),\n",
    "    yaxis=dict(\n",
    "        title='Distance'\n",
    "    )\n",
    ")\n",
    "fig =  go.Figure(data=data, layout=layout)\n",
    "py.offline.iplot(fig)"
   ]
  },
  {
   "cell_type": "code",
   "execution_count": 12,
   "metadata": {},
   "outputs": [
    {
     "name": "stdout",
     "output_type": "stream",
     "text": [
      "**********\n",
      "Parahraph 15135\n"
     ]
    },
    {
     "ename": "NameError",
     "evalue": "name '_k' is not defined",
     "output_type": "error",
     "traceback": [
      "\u001b[0;31m---------------------------------------------------------------------------\u001b[0m",
      "\u001b[0;31mNameError\u001b[0m                                 Traceback (most recent call last)",
      "\u001b[0;32m<ipython-input-12-8cc8d199a23c>\u001b[0m in \u001b[0;36m<module>\u001b[0;34m()\u001b[0m\n\u001b[1;32m     13\u001b[0m         \u001b[0m_epoch\u001b[0m \u001b[0;34m=\u001b[0m \u001b[0;36m0\u001b[0m\u001b[0;34m\u001b[0m\u001b[0m\n\u001b[0;32m---> 14\u001b[0;31m         \u001b[0;32mfor\u001b[0m \u001b[0m_k\u001b[0m \u001b[0;32min\u001b[0m \u001b[0mrange\u001b[0m\u001b[0;34m(\u001b[0m\u001b[0mtotal_ks\u001b[0m\u001b[0;34m)\u001b[0m\u001b[0;34m:\u001b[0m\u001b[0;34m\u001b[0m\u001b[0m\n\u001b[0m\u001b[1;32m     15\u001b[0m             \u001b[0;32mtry\u001b[0m\u001b[0;34m:\u001b[0m\u001b[0;34m\u001b[0m\u001b[0m\n",
      "\u001b[0;31mNameError\u001b[0m: name 'total_ks' is not defined",
      "\nDuring handling of the above exception, another exception occurred:\n",
      "\u001b[0;31mNameError\u001b[0m                                 Traceback (most recent call last)",
      "\u001b[0;32m<ipython-input-12-8cc8d199a23c>\u001b[0m in \u001b[0;36m<module>\u001b[0;34m()\u001b[0m\n\u001b[1;32m     47\u001b[0m \u001b[0;34m\u001b[0m\u001b[0m\n\u001b[1;32m     48\u001b[0m     \u001b[0;32mexcept\u001b[0m\u001b[0;34m:\u001b[0m\u001b[0;34m\u001b[0m\u001b[0m\n\u001b[0;32m---> 49\u001b[0;31m         \u001b[0mprint\u001b[0m\u001b[0;34m(\u001b[0m\u001b[0;34m'There is no such a question that belongs to paragraph {} in that 5000 subset at epoch:{}, k:{}'\u001b[0m\u001b[0;34m.\u001b[0m\u001b[0mformat\u001b[0m\u001b[0;34m(\u001b[0m\u001b[0mp\u001b[0m\u001b[0;34m,\u001b[0m \u001b[0m_epoch\u001b[0m\u001b[0;34m,\u001b[0m \u001b[0m_k\u001b[0m\u001b[0;34m+\u001b[0m\u001b[0;36m1\u001b[0m\u001b[0;34m)\u001b[0m\u001b[0;34m)\u001b[0m\u001b[0;34m\u001b[0m\u001b[0m\n\u001b[0m\u001b[1;32m     50\u001b[0m \u001b[0;34m\u001b[0m\u001b[0m\n\u001b[1;32m     51\u001b[0m \u001b[0mdf_traced_questions\u001b[0m \u001b[0;34m=\u001b[0m \u001b[0mpd\u001b[0m\u001b[0;34m.\u001b[0m\u001b[0mDataFrame\u001b[0m\u001b[0;34m(\u001b[0m\u001b[0mquestions\u001b[0m\u001b[0;34m,\u001b[0m \u001b[0mcolumns\u001b[0m\u001b[0;34m=\u001b[0m\u001b[0;34m[\u001b[0m\u001b[0;34m'question_id'\u001b[0m\u001b[0;34m,\u001b[0m\u001b[0;34m'epoch'\u001b[0m\u001b[0;34m,\u001b[0m \u001b[0;34m'k'\u001b[0m\u001b[0;34m,\u001b[0m \u001b[0;34m'paragraph_id'\u001b[0m\u001b[0;34m,\u001b[0m \u001b[0;34m'distance_to_paragraph'\u001b[0m\u001b[0;34m,\u001b[0m \u001b[0;34m'is_ground_truth_in_k_range'\u001b[0m\u001b[0;34m]\u001b[0m\u001b[0;34m)\u001b[0m\u001b[0;34m\u001b[0m\u001b[0m\n",
      "\u001b[0;31mNameError\u001b[0m: name '_k' is not defined"
     ]
    }
   ],
   "source": [
    "\"\"\"\n",
    "What is the progress of the paragraphs in which they became a ground-truth of another questions?\n",
    "# First we need to find which questions were assigned to that paragraph\n",
    "\"\"\"\n",
    "\n",
    "paragraph_ids_to_examine = [15135]\n",
    "questions = []\n",
    "for p in paragraph_ids_to_examine:\n",
    "    try:\n",
    "        print('*' * 10)\n",
    "        print('Parahraph {}'.format(p)) \n",
    "         # FOR EPOCH 0 : BEFORE APPENDIX\n",
    "        _epoch = 0\n",
    "        for _k in range(total_ks):\n",
    "            try:\n",
    "                question = np.where(data_dict['top_k'][str(_k+1)]['closest_labels_before'] \n",
    "                                                    == p)[0][_k]\n",
    "                paragraph_at_k = my_dict['top_k'][str(total_ks)]['closest_labels_before'][question][_k]\n",
    "                q_to_p_distance_at_k = my_dict['top_k'][str(total_ks)]['distances_before'][question][_k]\n",
    "                is_ground_truth_in_k_range = my_dict['top_k'][str(_k+1)]['are_founds_before'][question][0]\n",
    "                questions.append((question,\n",
    "                                 _epoch,\n",
    "                                 _k+1,\n",
    "                                 paragraph_at_k, \n",
    "                                 q_to_p_distance_at_k,\n",
    "                                 is_ground_truth_in_k_range\n",
    "                ))\n",
    "            except:\n",
    "                print('There is no such a question that belongs to paragraph {} in that 5000 subset at epoch:{}, k:{}'.format(p, _epoch, _k+1))\n",
    "\n",
    "        # FOR EPOCH > 0 : AFTER APPENDIX\n",
    "        for _epoch in range(1,num_of_epochs+1):\n",
    "            for _k in range(total_ks):\n",
    "                try:\n",
    "                    paragraph_at_k = my_dict[str(_epoch)]['top_k'][str(total_ks)]['closest_labels_after'][question][_k]\n",
    "                    q_to_p_distance_at_k = my_dict[str(_epoch)]['top_k'][str(total_ks)]['distances_after'][question][_k]\n",
    "                    is_ground_truth_in_k_range = my_dict[str(_epoch)]['top_k'][str(_k+1)]['are_founds_after'][question][0]\n",
    "                    questions.append((question,\n",
    "                                     _epoch,\n",
    "                                     _k+1,\n",
    "                                     paragraph_at_k, \n",
    "                                     q_to_p_distance_at_k,\n",
    "                                     is_ground_truth_in_k_range\n",
    "                    ))\n",
    "                except:\n",
    "                    print('There is no such a question that belongs to paragraph {} in that 5000 subset at epoch:{}, k:{}'.format(p, _epoch, _k+1))\n",
    "                \n",
    "    except:\n",
    "        print('There is no such a question that belongs to paragraph {} in that 5000 subset at epoch:{}, k:{}'.format(p, _epoch, _k+1))\n",
    "\n",
    "df_traced_questions = pd.DataFrame(questions, columns=['question_id','epoch', 'k', 'paragraph_id', 'distance_to_paragraph', 'is_ground_truth_in_k_range'])   "
   ]
  },
  {
   "cell_type": "code",
   "execution_count": 13,
   "metadata": {},
   "outputs": [
    {
     "ename": "IndexError",
     "evalue": "index 4257 is out of bounds for axis 1 with size 3845",
     "output_type": "error",
     "traceback": [
      "\u001b[0;31m---------------------------------------------------------------------------\u001b[0m",
      "\u001b[0;31mIndexError\u001b[0m                                Traceback (most recent call last)",
      "\u001b[0;32m<ipython-input-13-db0ec9ee6a1a>\u001b[0m in \u001b[0;36m<module>\u001b[0;34m()\u001b[0m\n\u001b[1;32m      7\u001b[0m \u001b[0mdata_delta\u001b[0m \u001b[0;34m=\u001b[0m \u001b[0mpd\u001b[0m\u001b[0;34m.\u001b[0m\u001b[0mDataFrame\u001b[0m\u001b[0;34m(\u001b[0m\u001b[0;34m)\u001b[0m\u001b[0;34m\u001b[0m\u001b[0m\n\u001b[1;32m      8\u001b[0m \u001b[0;32mfor\u001b[0m \u001b[0mi\u001b[0m \u001b[0;32min\u001b[0m \u001b[0mrange\u001b[0m\u001b[0;34m(\u001b[0m\u001b[0;36m1\u001b[0m\u001b[0;34m,\u001b[0m\u001b[0mnum_of_epochs\u001b[0m\u001b[0;34m+\u001b[0m\u001b[0;36m1\u001b[0m\u001b[0;34m)\u001b[0m\u001b[0;34m:\u001b[0m\u001b[0;34m\u001b[0m\u001b[0m\n\u001b[0;32m----> 9\u001b[0;31m     \u001b[0mdata_delta\u001b[0m\u001b[0;34m[\u001b[0m\u001b[0mi\u001b[0m\u001b[0;34m]\u001b[0m \u001b[0;34m=\u001b[0m \u001b[0mmy_dict\u001b[0m\u001b[0;34m[\u001b[0m\u001b[0mstr\u001b[0m\u001b[0;34m(\u001b[0m\u001b[0mi\u001b[0m\u001b[0;34m)\u001b[0m\u001b[0;34m]\u001b[0m\u001b[0;34m[\u001b[0m\u001b[0;34m'delta_before_after_model'\u001b[0m\u001b[0;34m]\u001b[0m\u001b[0;34m[\u001b[0m\u001b[0mquestion_ids\u001b[0m\u001b[0;34m]\u001b[0m\u001b[0;34m\u001b[0m\u001b[0m\n\u001b[0m\u001b[1;32m     10\u001b[0m \u001b[0mdata_delta\u001b[0m \u001b[0;34m=\u001b[0m \u001b[0mdata_delta\u001b[0m\u001b[0;34m.\u001b[0m\u001b[0mT\u001b[0m\u001b[0;34m\u001b[0m\u001b[0m\n\u001b[1;32m     11\u001b[0m \u001b[0mdata_delta\u001b[0m\u001b[0;34m.\u001b[0m\u001b[0mcolumns\u001b[0m \u001b[0;34m=\u001b[0m \u001b[0;34m[\u001b[0m\u001b[0mquestion_ids\u001b[0m\u001b[0;34m[\u001b[0m\u001b[0mcol_name\u001b[0m\u001b[0;34m]\u001b[0m \u001b[0;32mfor\u001b[0m \u001b[0mcol_name\u001b[0m \u001b[0;32min\u001b[0m \u001b[0mdata_delta\u001b[0m\u001b[0;34m.\u001b[0m\u001b[0mcolumns\u001b[0m\u001b[0;34m]\u001b[0m\u001b[0;34m\u001b[0m\u001b[0m\n",
      "\u001b[0;31mIndexError\u001b[0m: index 4257 is out of bounds for axis 1 with size 3845"
     ]
    }
   ],
   "source": [
    "\"\"\"\n",
    "In each training iteration, Are questions moving closer to ground_truth or not\n",
    "if a delta value is moving to smaller value, it means question is moving to farther from its ground-truth, \n",
    "else is moving to closer to its ground-truth. The bigger, the better.\n",
    "\"\"\"\n",
    "\n",
    "data_delta = pd.DataFrame()\n",
    "for i in range(1,num_of_epochs+1):\n",
    "    data_delta[i] = my_dict[str(i)]['delta_before_after_model'][question_ids]\n",
    "data_delta = data_delta.T\n",
    "data_delta.columns = [question_ids[col_name] for col_name in data_delta.columns]\n",
    "data = []\n",
    "for q in question_ids:\n",
    "    trace = go.Scatter(\n",
    "    x = data_delta.index,\n",
    "    y = data_delta[q],\n",
    "    mode = 'lines+markers',\n",
    "    name = 'Question {}'.format(q))\n",
    "    data.append(trace)\n",
    "\n",
    "layout = go.Layout(\n",
    "    title='Delta Before Trained Q. Embeds. to Ground Truth vs After Trained Q. Embeds. to Ground Truth',\n",
    "    xaxis=dict(\n",
    "        title='Epochs'\n",
    "    ),\n",
    "    yaxis=dict(\n",
    "        title='Delta Distance'\n",
    "    )\n",
    ")\n",
    "fig =  go.Figure(data=data, layout=layout)\n",
    "py.offline.iplot(fig)"
   ]
  },
  {
   "cell_type": "code",
   "execution_count": 14,
   "metadata": {},
   "outputs": [
    {
     "data": {
      "application/vnd.plotly.v1+json": {
       "data": [
        {
         "mode": "lines+markers",
         "type": "scatter",
         "x": [
          0,
          1
         ],
         "y": [
          0.1239284873008728,
          0.1206965446472168
         ]
        }
       ],
       "layout": {
        "title": "Standart Deviation of the distances q to ground truths for each epoch",
        "xaxis": {
         "title": "Epochs"
        },
        "yaxis": {
         "title": "Standart Deviation of the distances"
        }
       }
      },
      "text/html": [
       "<div id=\"a42a198e-73b0-4a7a-85b3-0f183f54adab\" style=\"height: 525px; width: 100%;\" class=\"plotly-graph-div\"></div><script type=\"text/javascript\">require([\"plotly\"], function(Plotly) { window.PLOTLYENV=window.PLOTLYENV || {};window.PLOTLYENV.BASE_URL=\"https://plot.ly\";Plotly.newPlot(\"a42a198e-73b0-4a7a-85b3-0f183f54adab\", [{\"mode\": \"lines+markers\", \"type\": \"scatter\", \"x\": [0, 1], \"y\": [0.1239284873008728, 0.1206965446472168]}], {\"xaxis\": {\"title\": \"Epochs\"}, \"title\": \"Standart Deviation of the distances q to ground truths for each epoch\", \"yaxis\": {\"title\": \"Standart Deviation of the distances\"}}, {\"linkText\": \"Export to plot.ly\", \"showLink\": true})});</script>"
      ],
      "text/vnd.plotly.v1+html": [
       "<div id=\"a42a198e-73b0-4a7a-85b3-0f183f54adab\" style=\"height: 525px; width: 100%;\" class=\"plotly-graph-div\"></div><script type=\"text/javascript\">require([\"plotly\"], function(Plotly) { window.PLOTLYENV=window.PLOTLYENV || {};window.PLOTLYENV.BASE_URL=\"https://plot.ly\";Plotly.newPlot(\"a42a198e-73b0-4a7a-85b3-0f183f54adab\", [{\"mode\": \"lines+markers\", \"type\": \"scatter\", \"x\": [0, 1], \"y\": [0.1239284873008728, 0.1206965446472168]}], {\"xaxis\": {\"title\": \"Epochs\"}, \"title\": \"Standart Deviation of the distances q to ground truths for each epoch\", \"yaxis\": {\"title\": \"Standart Deviation of the distances\"}}, {\"linkText\": \"Export to plot.ly\", \"showLink\": true})});</script>"
      ]
     },
     "metadata": {},
     "output_type": "display_data"
    }
   ],
   "source": [
    "\"\"\"\n",
    "Standart Deviation of the distances q to ground truths for each epoch. If it is getting smaller, which means that \n",
    "embeddings are getting look like each other\n",
    "\"\"\"\n",
    "\n",
    "data_dev = []\n",
    "data_dev.append(np.std(my_dict['distance_from_before_model_q_to_p']))\n",
    "for i in range(1,num_of_epochs+1):\n",
    "    data_dev.append(np.std(my_dict[str(i)]['distance_from_after_model_q_to_p']))\n",
    "df_dev = pd.DataFrame(data=data_dev, columns=['std_dev'])\n",
    "trace = go.Scatter(\n",
    "x = df_dev.index,\n",
    "y = df_dev['std_dev'],\n",
    "mode = 'lines+markers')\n",
    "\n",
    "layout = go.Layout(\n",
    "    title='Standart Deviation of the distances q to ground truths for each epoch',\n",
    "    xaxis=dict(\n",
    "        title='Epochs'\n",
    "    ),\n",
    "    yaxis=dict(\n",
    "        title='Standart Deviation of the distances'\n",
    "    )\n",
    ")\n",
    "fig =  go.Figure(data=[trace], layout=layout)\n",
    "py.offline.iplot(fig)"
   ]
  },
  {
   "cell_type": "code",
   "execution_count": 15,
   "metadata": {},
   "outputs": [
    {
     "data": {
      "application/vnd.plotly.v1+json": {
       "data": [
        {
         "mode": "lines+markers",
         "type": "scatter",
         "x": [
          0
         ],
         "y": [
          0
         ]
        }
       ],
       "layout": {
        "title": "How many questions are getting farther from its pair paragraph",
        "xaxis": {
         "title": "Epochs"
        },
        "yaxis": {
         "title": "Number of bad questions"
        }
       }
      },
      "text/html": [
       "<div id=\"f0f7fdcb-2255-4a7c-836a-174ca414052e\" style=\"height: 525px; width: 100%;\" class=\"plotly-graph-div\"></div><script type=\"text/javascript\">require([\"plotly\"], function(Plotly) { window.PLOTLYENV=window.PLOTLYENV || {};window.PLOTLYENV.BASE_URL=\"https://plot.ly\";Plotly.newPlot(\"f0f7fdcb-2255-4a7c-836a-174ca414052e\", [{\"mode\": \"lines+markers\", \"type\": \"scatter\", \"x\": [0], \"y\": [0]}], {\"xaxis\": {\"title\": \"Epochs\"}, \"title\": \"How many questions are getting farther from its pair paragraph\", \"yaxis\": {\"title\": \"Number of bad questions\"}}, {\"linkText\": \"Export to plot.ly\", \"showLink\": true})});</script>"
      ],
      "text/vnd.plotly.v1+html": [
       "<div id=\"f0f7fdcb-2255-4a7c-836a-174ca414052e\" style=\"height: 525px; width: 100%;\" class=\"plotly-graph-div\"></div><script type=\"text/javascript\">require([\"plotly\"], function(Plotly) { window.PLOTLYENV=window.PLOTLYENV || {};window.PLOTLYENV.BASE_URL=\"https://plot.ly\";Plotly.newPlot(\"f0f7fdcb-2255-4a7c-836a-174ca414052e\", [{\"mode\": \"lines+markers\", \"type\": \"scatter\", \"x\": [0], \"y\": [0]}], {\"xaxis\": {\"title\": \"Epochs\"}, \"title\": \"How many questions are getting farther from its pair paragraph\", \"yaxis\": {\"title\": \"Number of bad questions\"}}, {\"linkText\": \"Export to plot.ly\", \"showLink\": true})});</script>"
      ]
     },
     "metadata": {},
     "output_type": "display_data"
    }
   ],
   "source": [
    "\"\"\"\n",
    "The idea here is that how many pairs we have that their distance are getting worse means that\n",
    "they are getting farther. \n",
    "\"\"\"\n",
    "number_of_bad_questions = []\n",
    "set_bad_questions = set()\n",
    "for i in range(1,num_of_epochs+1):\n",
    "    bad_questions = np.where(my_dict[str(i)]['distance_from_after_model_q_to_p'] < 0)\n",
    "    bad_questions = my_dict[str(i)]['distance_from_after_model_q_to_p'][bad_questions]\n",
    "    number_of_bad_questions.append(bad_questions.shape[0])\n",
    "    set_bad_questions.update(bad_questions)\n",
    "    \n",
    "df_farther = pd.DataFrame(data=number_of_bad_questions, columns=['number_of_bad_questions'])\n",
    "trace = go.Scatter(\n",
    "x = df_farther.index,\n",
    "y = df_farther['number_of_bad_questions'],\n",
    "mode = 'lines+markers')\n",
    "\n",
    "layout = go.Layout(\n",
    "    title='How many questions are getting farther from its pair paragraph',\n",
    "    xaxis=dict(\n",
    "        title='Epochs'\n",
    "    ),\n",
    "    yaxis=dict(\n",
    "        title='Number of bad questions'\n",
    "    )\n",
    ")\n",
    "fig =  go.Figure(data=[trace], layout=layout)\n",
    "py.offline.iplot(fig)"
   ]
  },
  {
   "cell_type": "code",
   "execution_count": null,
   "metadata": {},
   "outputs": [],
   "source": []
  }
 ],
 "metadata": {
  "kernelspec": {
   "display_name": "Python 3",
   "language": "python",
   "name": "python3"
  },
  "language_info": {
   "codemirror_mode": {
    "name": "ipython",
    "version": 3
   },
   "file_extension": ".py",
   "mimetype": "text/x-python",
   "name": "python",
   "nbconvert_exporter": "python",
   "pygments_lexer": "ipython3",
   "version": "3.5.2"
  }
 },
 "nbformat": 4,
 "nbformat_minor": 1
}
