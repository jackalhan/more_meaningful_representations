{
 "cells": [
  {
   "cell_type": "code",
   "execution_count": null,
   "metadata": {},
   "outputs": [],
   "source": [
    "import os\n",
    "from collections import defaultdict\n",
    "import pandas as pd"
   ]
  },
  {
   "cell_type": "code",
   "execution_count": null,
   "metadata": {},
   "outputs": [],
   "source": [
    "#dataset_type = 'train'\n",
    "dataset_type = 'dev'\n",
    "dataset_version = 'v1.1'\n",
    "\n",
    "# required files\n",
    "_basepath = '/home/jackalhan/Development/github/more_meaningful_representations/squad/'\n",
    "datadir = os.path.join(_basepath, dataset_type)\n",
    "\n",
    "_paragraphs_file_name_as_txt = '{}_paragraphs.txt'\n",
    "paragraphs_file_as_txt = os.path.join(datadir, _paragraphs_file_name_as_txt.format(dataset_type))\n",
    "sanity_paragraphs_file_as_txt = os.path.join(datadir, _paragraphs_file_name_as_txt.format('sanity_' + dataset_type ))\n",
    "\n",
    "_questions_file_name_as_txt = '{}_questions.txt'\n",
    "questions_file_as_txt = os.path.join(datadir, _questions_file_name_as_txt.format(dataset_type))\n",
    "sanity_questions_file_as_txt = os.path.join(datadir, _questions_file_name_as_txt.format('sanity_' + dataset_type ))\n",
    "\n",
    "_voc_file_name_as_txt = '{}_voc.txt'\n",
    "voc_file_name_as_txt = os.path.join(datadir, _voc_file_name_as_txt.format('sanity_' + dataset_type ))\n",
    "\n",
    "_qas_file_name = '{}_qas.csv'.format('sanity_' + dataset_type )\n",
    "qas_file = os.path.join(datadir, _qas_file_name)\n"
   ]
  },
  {
   "cell_type": "code",
   "execution_count": null,
   "metadata": {},
   "outputs": [],
   "source": [
    "tokens = defaultdict(int)\n",
    "print('Occurences of tokens in paragraphs and questions')\n",
    "for _ in [paragraphs_file_as_txt, questions_file_as_txt]:\n",
    "    print(10*'*')\n",
    "    print(_)\n",
    "    print(10*'*')\n",
    "    with open(_, 'r') as fin:\n",
    "        for line in fin:\n",
    "            for token in line.strip().split():\n",
    "                tokens[token] +=1\n",
    "print('Done')"
   ]
  },
  {
   "cell_type": "code",
   "execution_count": null,
   "metadata": {},
   "outputs": [],
   "source": [
    "tokens_ = [(k, tokens[k]) for k in sorted(tokens, key=tokens.get, reverse=True)]\n",
    "print('tokens are ordered.')"
   ]
  },
  {
   "cell_type": "code",
   "execution_count": null,
   "metadata": {},
   "outputs": [],
   "source": [
    "print('Taking 10.000 tokens from the order of 100 to 10100 in the list')\n",
    "sanity_tokens = tokens_[100:9100]"
   ]
  },
  {
   "cell_type": "code",
   "execution_count": null,
   "metadata": {},
   "outputs": [],
   "source": [
    "print('Based on sanity tokens, voc, paragraphs, questions and qas are getting created!')\n",
    "qas = []\n",
    "with open(sanity_paragraphs_file_as_txt, 'w') as fp_out, open(sanity_questions_file_as_txt, 'w') as fq_out,open(voc_file_name_as_txt, 'w') as fv_out:\n",
    "    for _i, _t in enumerate(sanity_tokens):        \n",
    "        fp_out.write(_t[0] + '\\n')\n",
    "        fq_out.write(_t[0] + '\\n')\n",
    "        fv_out.write(_t[0] + '\\n')        \n",
    "        qas.append((_i, _i))\n",
    "        print(_i)\n",
    "df_qas = pd.DataFrame(data=qas, columns=['Paragraph_Id', 'Question_Id'])\n",
    "df_qas.to_csv(qas_file)\n",
    "print('Matchin Set is exported')"
   ]
  }
 ],
 "metadata": {
  "kernelspec": {
   "display_name": "Python 3",
   "language": "python",
   "name": "python3"
  },
  "language_info": {
   "codemirror_mode": {
    "name": "ipython",
    "version": 3
   },
   "file_extension": ".py",
   "mimetype": "text/x-python",
   "name": "python",
   "nbconvert_exporter": "python",
   "pygments_lexer": "ipython3",
   "version": "3.5.2"
  }
 },
 "nbformat": 4,
 "nbformat_minor": 2
}
