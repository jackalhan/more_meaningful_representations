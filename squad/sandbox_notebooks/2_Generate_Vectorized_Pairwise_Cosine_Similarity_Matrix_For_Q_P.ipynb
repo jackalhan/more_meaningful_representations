{
 "cells": [
  {
   "cell_type": "code",
   "execution_count": 2,
   "metadata": {},
   "outputs": [
    {
     "name": "stderr",
     "output_type": "stream",
     "text": [
      "/home/jackalhan/Development/github/more_meaningful_representations/venv/lib/python3.5/site-packages/h5py/__init__.py:36: FutureWarning: Conversion of the second argument of issubdtype from `float` to `np.floating` is deprecated. In future, it will be treated as `np.float64 == np.dtype(float).type`.\n",
      "  from ._conv import register_converters as _register_converters\n"
     ]
    }
   ],
   "source": [
    "import os\n",
    "import h5py\n",
    "import pandas as pd\n",
    "from tqdm import tqdm_notebook\n",
    "import sys\n",
    "import warnings\n",
    "import numpy as np\n",
    "from sklearn.metrics.pairwise import cosine_similarity\n",
    "import matplotlib\n",
    "import matplotlib.pyplot as plt\n",
    "warnings.filterwarnings('ignore')"
   ]
  },
  {
   "cell_type": "code",
   "execution_count": null,
   "metadata": {},
   "outputs": [],
   "source": [
    "#dataset_type = 'train'\n",
    "dataset_type = 'dev'\n",
    "dataset_version = 'v1.1'\n",
    "\n",
    "index_field = ['Unnamed: 0']\n",
    "\n",
    "# required files\n",
    "_basepath = '/home/jackalhan/Development/github/more_meaningful_representations/squad/'\n",
    "datadir = os.path.join(_basepath, dataset_type)\n",
    "modeldir = os.path.join(_basepath, 'model')\n",
    "\n",
    "_qas_file_name = '{}_qas.csv'.format(dataset_type)\n",
    "qas_file = os.path.join(datadir, _qas_file_name)\n",
    "\n",
    "_embedding_mean_paragraph_file_as_h5py_name = 'elmo_{}_mean_paragraph_embeddings.hdf5'\n",
    "embedding_mean_paragraph_file_as_h5py = os.path.join(datadir, _embedding_mean_paragraph_file_as_h5py_name)\n",
    "\n",
    "_embedding_mean_question_file_as_h5py_name = 'elmo_{}_mean_question_embeddings.hdf5'\n",
    "embedding_mean_question_file_as_h5py = os.path.join(datadir, _embedding_mean_question_file_as_h5py_name)\n",
    "\n",
    "_cos_similarity_results_file_name =  '{}_cos_similarity_with_{}_norm_for_q_vs_para.csv'\n",
    "cos_similarity_results_file_name = os.path.join(datadir, _cos_similarity_results_file_name)\n",
    "\n",
    "_nearest_all_cos_similarity_results_file_name =  '{}_nearest_all_cos_similarity_with_{}_norm_for_q_vs_para.csv'\n",
    "nearest_all_cos_similarity_results_file = os.path.join(datadir, _nearest_all_cos_similarity_results_file_name)\n",
    "\n",
    "_cos_similarity_results_as_hist_file_name =  'histogram_{}_cos_similarity_with_{}_norm_for_q_vs_para.png'\n",
    "cos_similarity_results_as_hist_file = os.path.join(datadir, _cos_similarity_results_as_hist_file_name)\n",
    "\n",
    "_paragraphs_file_name_as_txt = '{}_paragraphs.txt'.format(dataset_type)\n",
    "paragraphs_file_as_txt = os.path.join(datadir, _paragraphs_file_name_as_txt)\n",
    "\n",
    "_questions_file_name_as_txt = '{}_questions.txt'.format(dataset_type)\n",
    "questions_file_as_txt = os.path.join(datadir, _questions_file_name_as_txt)\n",
    "\n",
    "df_qas = pd.read_csv(qas_file).set_index(index_field)"
   ]
  },
  {
   "cell_type": "code",
   "execution_count": null,
   "metadata": {},
   "outputs": [],
   "source": [
    "p_look_up = []\n",
    "q_look_up = []\n",
    "with open(paragraphs_file_as_txt, 'r') as fp_in,open(questions_file_as_txt, 'r') as fq_in:\n",
    "    for i, line in enumerate(fp_in):\n",
    "        p_look_up.append((i, line.replace('\\n','')))\n",
    "    for i, line in enumerate(fq_in):\n",
    "        q_look_up.append((i, line.replace('\\n','')))\n",
    "df_p_look_up = pd.DataFrame(data=p_look_up, columns=['id', 'paragraph']).set_index('id')\n",
    "df_q_look_up = pd.DataFrame(data=q_look_up, columns=['id', 'question']).set_index('id')"
   ]
  },
  {
   "cell_type": "code",
   "execution_count": null,
   "metadata": {},
   "outputs": [],
   "source": [
    "dims = 1024\n",
    "items = [dict({'type':'questions', \n",
    "                     'source_file':embedding_mean_question_file_as_h5py\n",
    "                     }), \n",
    "              dict({'type':'paragraphs', \n",
    "                     'source_file':embedding_mean_paragraph_file_as_h5py,\n",
    "                     })\n",
    "              ]\n",
    "\n",
    "for norm_type in ['l2']:\n",
    "    print(10*'*', norm_type.upper(),'NORM', 10*'*')\n",
    "    for vals in items:\n",
    "        print(vals['type'], 'are getting processed!!!')\n",
    "        vals['matrix'] = np.empty((0, dims), dtype=float)\n",
    "        with h5py.File(vals['source_file'].format(norm_type), 'r') as fin:        \n",
    "            for _ in tqdm_notebook(fin, total=len(fin)):             \n",
    "                vec = np.reshape(np.array(fin[str(_)][...]), (1,dims))                                   \n",
    "                vals['matrix'] = np.append(vals['matrix'], vec, axis=0)\n",
    "            \n",
    "    QUES = items[0]['matrix']\n",
    "    print('QUES Shape', QUES.shape)\n",
    "    PARA = items[1]['matrix']\n",
    "    print('PARA Shape', PARA.shape)\n"
   ]
  },
  {
   "cell_type": "code",
   "execution_count": null,
   "metadata": {},
   "outputs": [],
   "source": [
    "for norm_type in ['l2']:\n",
    "    print('Similarities are getting calculated !!!')\n",
    "    results = []\n",
    "    nearest_paragraphs = []\n",
    "    for q_id, _ in enumerate(tqdm_notebook(QUES, total=len(QUES))):\n",
    "        question = df_q_look_up[df_q_look_up.index == q_id].values[0][0]\n",
    "        q_vec = np.array([_]) \n",
    "        sk_sim = cosine_similarity(q_vec,PARA)[0]\n",
    "        actual_paragraph_id = df_qas[df_qas['Question_Id'] == q_id]['Paragraph_Id'].values[0]\n",
    "        similarities = np.argsort(-sk_sim)\n",
    "        order_of_the_actual_paragraph_id = np.where(similarities == actual_paragraph_id)[0][0] + 1\n",
    "        calculated_most_similar_1_paragraph = similarities[0]\n",
    "        results.append((q_id, actual_paragraph_id,  \n",
    "                        order_of_the_actual_paragraph_id, \n",
    "                        sk_sim[actual_paragraph_id], \n",
    "                        calculated_most_similar_1_paragraph, \n",
    "                        sk_sim[calculated_most_similar_1_paragraph]))\n",
    "        for i, nearest_paragraph_id in enumerate(similarities[0:5]):\n",
    "            nearest_paragraphs.append((question, \n",
    "                                       df_p_look_up[df_p_look_up.index == nearest_paragraph_id].values[0][0],\n",
    "                                       i+1, \n",
    "                                       sk_sim[nearest_paragraph_id] ))\n",
    "        \n",
    "        \n",
    "    \n",
    "\n",
    "\n",
    "print('Done!')"
   ]
  },
  {
   "cell_type": "code",
   "execution_count": null,
   "metadata": {},
   "outputs": [],
   "source": [
    "df_nearest_paragraphs = pd.DataFrame(data=nearest_paragraphs, columns=['question', 'paragraph', 'nearest_order', 'cos_similarity'])\n",
    "df_nearest_paragraphs.to_csv(nearest_all_cos_similarity_results_file.format(dataset_type, norm_type), index=False)"
   ]
  },
  {
   "cell_type": "code",
   "execution_count": null,
   "metadata": {},
   "outputs": [],
   "source": [
    "df_results= pd.DataFrame(data=results, columns=['Question_Id', 'Actual_Paragraph_Id', \n",
    "                                             'Order Index of Actual_Paragraph_Id in Similarities List',\n",
    "                                             'Similarity Score for Actual_Paragraph_Id',\n",
    "                                             'Calculated Top 1 Most Similar Paragraph', \n",
    "                                             'Similarity Score for Most Similar Paragraph'\n",
    "                                            ])\n",
    "\n",
    "df_results.to_csv(cos_similarity_results_file_name.format(dataset_type, norm_type), index=False)\n",
    "ax = df_results['Order Index of Actual_Paragraph_Id in Similarities List'].hist()\n",
    "fig = ax.get_figure()\n",
    "fig.savefig(cos_similarity_results_as_hist_file.format(dataset_type, norm_type))"
   ]
  },
  {
   "cell_type": "code",
   "execution_count": null,
   "metadata": {},
   "outputs": [],
   "source": [
    "similarities"
   ]
  },
  {
   "cell_type": "code",
   "execution_count": null,
   "metadata": {},
   "outputs": [],
   "source": [
    "df_results = pd.read_csv('/home/jackalhan/Development/github/more_meaningful_representations/squad/dev/dev_neighbors.csv')"
   ]
  },
  {
   "cell_type": "code",
   "execution_count": null,
   "metadata": {},
   "outputs": [],
   "source": [
    "df_results_filtered=df_results.drop_duplicates(['question'])"
   ]
  },
  {
   "cell_type": "code",
   "execution_count": null,
   "metadata": {},
   "outputs": [],
   "source": [
    "ax = df_results_filtered['actual_paragraph_order'].hist(bins=[x for x in range(0, 101,1)], width=1)\n",
    "fig = ax.get_figure()\n",
    "fig.savefig('/home/jackalhan/Development/github/more_meaningful_representations/squad/dev/dev_neighbors_removed_duplicates_q_hist.png')"
   ]
  },
  {
   "cell_type": "code",
   "execution_count": null,
   "metadata": {},
   "outputs": [],
   "source": [
    "def plot_histogram_01(values, cutoff=100, total_size = 2050):\n",
    "    bins = np.arange(0,cutoff+1,5)\n",
    "\n",
    "    fig, ax = plt.subplots(figsize=(9, 5))\n",
    "    _, bins, patches = plt.hist([np.clip(values, bins[0], bins[-1])],\n",
    "                                normed=1,  # normed is deprecated and will be replaced by density\n",
    "                                bins=bins, color=['#3782CC'])\n",
    "\n",
    "    xlabels = [str(b) for b in bins[1:]]\n",
    "    xlabels[-1] = str(cutoff) + '+'\n",
    "\n",
    "    N_labels = len(xlabels)\n",
    "    plt.xlim([0, 325])\n",
    "    plt.xticks(25 * np.arange(N_labels) + 12.5)\n",
    "    ax.set_xticklabels(xlabels)\n",
    "\n",
    "    plt.yticks([])\n",
    "    plt.title('')\n",
    "    plt.setp(patches, linewidth=0)\n",
    "    plt.legend(loc='upper left')\n",
    "\n",
    "    fig.tight_layout()\n",
    "plot_histogram_01(df_results_filtered['actual_paragraph_order'].values)"
   ]
  },
  {
   "cell_type": "code",
   "execution_count": null,
   "metadata": {},
   "outputs": [],
   "source": [
    "bins = np.arange(0,100+1,5)\n",
    "np.clip(df_results_filtered['actual_paragraph_order'].values, bins[0], bins[-1])"
   ]
  },
  {
   "cell_type": "code",
   "execution_count": null,
   "metadata": {},
   "outputs": [],
   "source": [
    "bins[1:]"
   ]
  },
  {
   "cell_type": "code",
   "execution_count": null,
   "metadata": {},
   "outputs": [],
   "source": [
    "from sklearn.metrics import recall_score\n",
    "y_true = [0, 1, 2, 0, 1, 2]\n",
    "y_pred = [0, 2, 1, 0, 0, 1]\n",
    "recall_score(y_true, y_pred, average='macro')  "
   ]
  },
  {
   "cell_type": "code",
   "execution_count": null,
   "metadata": {},
   "outputs": [],
   "source": [
    "df_results_filtered['actual_paragraph_order'].hist(bins=[x for x in range(1, 101,1)], width=1).values"
   ]
  },
  {
   "cell_type": "code",
   "execution_count": null,
   "metadata": {},
   "outputs": [],
   "source": [
    "#df_results_filtered['actual_paragraph_order'].values.hist(bins=[x for x in range(0, 101,1)], width=1)\n",
    "# hist ranks\n",
    "count, division = np.histogram(df_results_filtered['actual_paragraph_order'],bins=[x for x in range(1, 101,1)])"
   ]
  },
  {
   "cell_type": "code",
   "execution_count": null,
   "metadata": {},
   "outputs": [],
   "source": [
    "division,count"
   ]
  },
  {
   "cell_type": "code",
   "execution_count": null,
   "metadata": {},
   "outputs": [],
   "source": [
    "# Could you compute the recall (as percentage) at rank 1, 2, 3 5, 10, 50?\n",
    "\n",
    "# Also we could use look at the roc curve and perhaps using auc as the target metric for tuning the embedding."
   ]
  },
  {
   "cell_type": "code",
   "execution_count": null,
   "metadata": {},
   "outputs": [],
   "source": [
    "def accumulate_truth(iterable):\n",
    "    true = 0\n",
    "    false = 0\n",
    "    for i in iterable:\n",
    "        if i:\n",
    "            true += 1\n",
    "        else:\n",
    "            false += 1\n",
    "        yield true, false\n",
    "\n",
    "\n",
    "def my_ROC(scores, targets):\n",
    "    total_targets = sum(targets)\n",
    "    length_sub_targets = len(targets) - total_targets\n",
    "\n",
    "    scores, targets = zip(*sorted(zip(scores, targets), reverse=True))\n",
    "    tprs = []\n",
    "    fprs = []\n",
    "    for true, false in accumulate_truth(targets):\n",
    "        tprs.append(true / total_targets)\n",
    "        fprs.append(false / length_sub_targets)\n",
    "\n",
    "    return tprs, fprs"
   ]
  },
  {
   "cell_type": "code",
   "execution_count": null,
   "metadata": {},
   "outputs": [],
   "source": [
    "def is_in_top_n(actual_order, n):\n",
    "    if actual_order <= n:\n",
    "        return 1\n",
    "    else:\n",
    "        return 0\n"
   ]
  },
  {
   "cell_type": "code",
   "execution_count": null,
   "metadata": {},
   "outputs": [],
   "source": [
    "scores = rankx[str(i)]['neighbor_cos_similarity.1']\n",
    "targets = rankx[str(i)]['actual_order']\n",
    "len(targets)\n",
    "len(targets) - sum(targets)"
   ]
  },
  {
   "cell_type": "code",
   "execution_count": null,
   "metadata": {},
   "outputs": [],
   "source": [
    "from sklearn.metrics import precision_score\n",
    "from sklearn.metrics import auc\n",
    "recall_scores = []\n",
    "precision_scores = []\n",
    "rankx = dict()\n",
    "plt.figure(0).clf()\n",
    "for i in [1,2,3,5,10,50]:    \n",
    "    rankx[str(i)] =pd.concat([df_results_filtered.apply(lambda x: is_in_top_n(x['actual_paragraph_order'],\n",
    "                                                                                    i),\n",
    "                                  axis=1).rename('actual_order'), \n",
    "                  df_results_filtered['neighbor_order'],\n",
    "                  df_results_filtered['neighbor_paragraph'],\n",
    "                  df_results_filtered['actual_paragraph'],\n",
    "                  df_results_filtered['neighbor_cos_similarity.1']\n",
    "                 ], axis=1)\n",
    "    rankx[str(i)].sort_values(by=['neighbor_cos_similarity.1'], ascending=[False] ,inplace=True)\n",
    "    recall_scores.append(('Rank_' + str(i),recall_score(rankx[str(i)]['neighbor_order'], rankx[str(i)]['actual_order']) * 100 ))\n",
    "    tpr, fpr = my_ROC(rankx[str(i)]['neighbor_cos_similarity.1'], rankx[str(i)]['actual_order'])\n",
    "    roc_auc = auc(fpr, tpr)\n",
    "    plt.plot(fpr,tpr,label=\"Rank \" + str(i) +\", auc=\"+str(roc_auc))\n",
    "    \n",
    "plt.xlabel('False Positive Rate')\n",
    "plt.ylabel('True Positive Rate')\n",
    "plt.title('AUC of 1,2,3,5,10,50 Ranks')\n",
    "plt.legend(loc=0)\n",
    "plt.rcParams[\"figure.figsize\"] = [15,15]\n",
    "    \n",
    "    #recall_scores.append(('Rank_' + str(i),recall_score(rankx[str(i)]['actual_order'], rankx[str(i)]['neighbor_order']) * 100 ))\n",
    "#     \n",
    "#     recall_scores.append(('Rank_' + str(i),recall_score(rankx[str(i)]['actual_order'], rankx[str(i)]['neighbor_order']) * 100 ))\n",
    "#     precision_scores.append(('Rank_' + str(i),precision_score(rankx[str(i)]['actual_order'], rankx[str(i)]['neighbor_order']) * 100 ))"
   ]
  },
  {
   "cell_type": "code",
   "execution_count": null,
   "metadata": {},
   "outputs": [],
   "source": [
    "recall_scores"
   ]
  },
  {
   "cell_type": "code",
   "execution_count": null,
   "metadata": {},
   "outputs": [],
   "source": [
    "from sklearn.metrics import roc_curve, auc\n",
    "\n",
    "tot_op = rankx[str(1)]['neighbor_cos_similarity.1']\n",
    "targets = rankx[str(1)]['actual_order']\n",
    "\n",
    "tpr, fpr = home_made_ROC(tot_op, targets)\n",
    "roc_auc = auc(fpr, tpr)\n",
    "\n",
    "# plt.figure()\n",
    "# lw = 2\n",
    "# plt.plot(fpr, tpr, color='darkorange',\n",
    "#          lw=lw, label='ROC curve (area = %0.2f)' % roc_auc)\n",
    "# plt.plot([0, 1], [0, 1], color='navy', lw=lw, linestyle='--')\n",
    "# plt.xlim([0.0, 1.0])\n",
    "# plt.ylim([0.0, 1.05])\n",
    "# plt.xlabel('False Positive Rate')\n",
    "# plt.ylabel('True Positive Rate')\n",
    "# plt.title('Receiver operating characteristic')\n",
    "# plt.legend(loc=\"lower right\")\n",
    "# plt.show()\n",
    "\n",
    "\n",
    "plt.figure(0).clf()\n",
    "\n",
    "plt.plot(fpr,tpr,label=\"data 1, auc=\"+str(roc_auc))\n",
    "\n",
    "tot_op = rankx[str(2)]['neighbor_cos_similarity.1']\n",
    "targets = rankx[str(2)]['actual_order']\n",
    "\n",
    "tpr, fpr = home_made_ROC(tot_op, targets)\n",
    "roc_auc = auc(fpr, tpr)\n",
    "\n",
    "plt.plot(fpr,tpr,label=\"data 2, auc=\"+str(roc_auc))\n",
    "\n",
    "plt.legend(loc=0)\n"
   ]
  },
  {
   "cell_type": "code",
   "execution_count": null,
   "metadata": {},
   "outputs": [],
   "source": [
    "fprs"
   ]
  },
  {
   "cell_type": "code",
   "execution_count": null,
   "metadata": {},
   "outputs": [],
   "source": [
    "pd.DataFrame(data = precision_scores, columns=['Rank', 'Precision Score']).to_csv('/home/jackalhan/Development/github/more_meaningful_representations/squad/dev/precision_scores.csv')"
   ]
  },
  {
   "cell_type": "code",
   "execution_count": null,
   "metadata": {},
   "outputs": [],
   "source": [
    "from sklearn.metrics import roc_curve, auc\n",
    "\n",
    "rank_sorted = rankx[str(5)]#.sort_values(by=['neighbor_cos_similarity.1'])\n",
    "\n",
    "fpr, tpr, _ = roc_curve(rank_sorted['neighbor_cos_similarity.1'], rank_sorted['actual_order'])\n",
    "\n",
    "plt.figure()\n",
    "lw = 2\n",
    "plt.plot(fpr, tpr, color='darkorange',\n",
    "         lw=lw, label='ROC curve (area = %0.2f)' % roc_auc)\n",
    "plt.plot([0, 1], [0, 1], color='navy', lw=lw, linestyle='--')\n",
    "plt.xlim([0.0, 1.0])\n",
    "plt.ylim([0.0, 1.05])\n",
    "plt.xlabel('False Positive Rate')\n",
    "plt.ylabel('True Positive Rate')\n",
    "plt.title('Receiver operating characteristic')\n",
    "plt.legend(loc=\"lower right\")\n",
    "plt.show()\n"
   ]
  },
  {
   "cell_type": "code",
   "execution_count": null,
   "metadata": {},
   "outputs": [],
   "source": [
    "fpr, tpr, _"
   ]
  },
  {
   "cell_type": "code",
   "execution_count": null,
   "metadata": {},
   "outputs": [],
   "source": [
    "precision_scores"
   ]
  },
  {
   "cell_type": "code",
   "execution_count": null,
   "metadata": {},
   "outputs": [],
   "source": []
  },
  {
   "cell_type": "code",
   "execution_count": null,
   "metadata": {},
   "outputs": [],
   "source": [
    "rank1_trues = rank1_sorted['neighbor_order'].values"
   ]
  },
  {
   "cell_type": "code",
   "execution_count": null,
   "metadata": {},
   "outputs": [],
   "source": [
    "rank1_preds = rank1_sorted['actual_paragraph_order'].values"
   ]
  },
  {
   "cell_type": "code",
   "execution_count": null,
   "metadata": {},
   "outputs": [],
   "source": [
    "rank1_preds"
   ]
  },
  {
   "cell_type": "code",
   "execution_count": null,
   "metadata": {},
   "outputs": [],
   "source": [
    "# True Positive (TP): we predict a label of 1 (positive), and the true label is 1.\n",
    "rank1_TP = np.sum(np.logical_and(rank1_preds == 1, rank1_trues == 1))\n",
    " \n",
    "# True Negative (TN): we predict a label of 0 (negative), and the true label is 0.\n",
    "rank1_TN = np.sum(np.logical_and(rank1_preds != 1, rank1_trues != 1))\n",
    " \n",
    "# False Positive (FP): we predict a label of 1 (positive), but the true label is 0.\n",
    "rank1_FP = np.sum(np.logical_and(rank1_preds == 1, rank1_trues !=  1))\n",
    " \n",
    "# False Negative (FN): we predict a label of 0 (negative), but the true label is 1.\n",
    "rank1_FN = np.sum(np.logical_and(rank1_preds != 1, rank1_trues == 1))\n",
    " \n",
    "print ('TP: %i, FP: %i, TN: %i, FN: %i' % (rank1_TP,rank1_TN,rank1_FP,rank1_FN))"
   ]
  },
  {
   "cell_type": "code",
   "execution_count": null,
   "metadata": {},
   "outputs": [],
   "source": [
    "rank1_sorted = rank2.sort_values(by=['neighbor_cos_similarity.1'])\n",
    "rank1_trues = rank1_sorted['neighbor_order'].values\n",
    "rank1_preds = rank1_sorted['actual_paragraph_order'].values\n",
    "# True Positive (TP): we predict a label of 1 (positive), and the true label is 1.\n",
    "rank1_TP = np.sum(np.logical_and(rank1_preds == 1, rank1_trues == 1))\n",
    " \n",
    "# True Negative (TN): we predict a label of 0 (negative), and the true label is 0.\n",
    "rank1_TN = np.sum(np.logical_and(rank1_preds != 1, rank1_trues != 1))\n",
    " \n",
    "# False Positive (FP): we predict a label of 1 (positive), but the true label is 0.\n",
    "rank1_FP = np.sum(np.logical_and(rank1_preds == 1, rank1_trues !=  1))\n",
    " \n",
    "# False Negative (FN): we predict a label of 0 (negative), but the true label is 1.\n",
    "rank1_FN = np.sum(np.logical_and(rank1_preds != 1, rank1_trues == 1))\n",
    " \n",
    "print ('TP: %i, FP: %i, TN: %i, FN: %i' % (rank1_TP,rank1_FP,rank1_TN,rank1_FN))\n",
    "\n",
    "false_pos_rate = rank1_FP / (rank1_FP + rank1_TN)\n",
    "true_pos_rate = rank1_TP / (rank1_TP + rank1_FN)\n",
    "\n",
    "print('FP Rate', false_pos_rate)\n",
    "print('TP Rate', true_pos_rate)"
   ]
  },
  {
   "cell_type": "code",
   "execution_count": null,
   "metadata": {},
   "outputs": [],
   "source": [
    "# q = 'What is needed to pack electrons densely together ?'\n",
    "# p = \"In 1529 , Warsaw for the first time became the seat of the General Sejm , permanent from 1569 . In 1573 the city gave its name to the Warsaw Confederation , formally establishing religious freedom in the Polish – Lithuanian Commonwealth . Due to its central location between the Commonwealth 's capitals of Kraków and Vilnius , Warsaw became the capital of the Commonwealth and the Crown of the Kingdom of Poland when King Sigismund III Vasa moved his court from Kraków to Warsaw in 1596 . In the following years the town expanded towards the suburbs . Several private independent districts were established , the property of aristocrats and the gentry , which were ruled by their own laws . Three times between 1655–1658 the city was under siege and three times it was taken and pillaged by the Swedish , Brandenburgian and Transylvanian forces .\"\n",
    "q = 'equipment cleaning knives'\n",
    "p = 'food-safety baking equipment substitutions bread'\n",
    "\n",
    "q_ref = q.strip().split()\n",
    "p_test = p.strip().split()"
   ]
  },
  {
   "cell_type": "code",
   "execution_count": null,
   "metadata": {},
   "outputs": [],
   "source": [
    "q_ref_ = set(q_ref)\n",
    "p_test_= set(p_test)"
   ]
  },
  {
   "cell_type": "code",
   "execution_count": null,
   "metadata": {},
   "outputs": [],
   "source": [
    "precision= len(q_ref_.intersection(p_test_)) / len(p_test_)\n",
    "recall = len(q_ref_.intersection(p_test_)) / len(q_ref_)"
   ]
  },
  {
   "cell_type": "code",
   "execution_count": null,
   "metadata": {},
   "outputs": [],
   "source": [
    "precision, recall"
   ]
  },
  {
   "cell_type": "code",
   "execution_count": 106,
   "metadata": {},
   "outputs": [],
   "source": [
    "results = pd.read_csv('/home/jackalhan/Development/github/more_meaningful_representations/squad/dev/dev_neighbors.csv')"
   ]
  },
  {
   "cell_type": "code",
   "execution_count": 107,
   "metadata": {},
   "outputs": [],
   "source": [
    "results['Is_Actual_Paragraph'] = (results['neighbor_paragraph'] == results['actual_paragraph']).astype('int')"
   ]
  },
  {
   "cell_type": "code",
   "execution_count": 108,
   "metadata": {},
   "outputs": [],
   "source": [
    "results.sort_values(by=['neighbor_cos_similarity'], ascending=[False], inplace=True)"
   ]
  },
  {
   "cell_type": "code",
   "execution_count": 109,
   "metadata": {},
   "outputs": [
    {
     "data": {
      "text/html": [
       "<div>\n",
       "<style scoped>\n",
       "    .dataframe tbody tr th:only-of-type {\n",
       "        vertical-align: middle;\n",
       "    }\n",
       "\n",
       "    .dataframe tbody tr th {\n",
       "        vertical-align: top;\n",
       "    }\n",
       "\n",
       "    .dataframe thead th {\n",
       "        text-align: right;\n",
       "    }\n",
       "</style>\n",
       "<table border=\"1\" class=\"dataframe\">\n",
       "  <thead>\n",
       "    <tr style=\"text-align: right;\">\n",
       "      <th></th>\n",
       "      <th>slice_type</th>\n",
       "      <th>question</th>\n",
       "      <th>neighbor_paragraph</th>\n",
       "      <th>neighbor_order</th>\n",
       "      <th>neighbor_cos_similarity</th>\n",
       "      <th>actual_paragraph</th>\n",
       "      <th>actual_paragraph_order</th>\n",
       "      <th>actual_paragrraph_cos_similarity</th>\n",
       "      <th>Is_Actual_Paragraph</th>\n",
       "    </tr>\n",
       "  </thead>\n",
       "  <tbody>\n",
       "    <tr>\n",
       "      <th>7273773</th>\n",
       "      <td>All</td>\n",
       "      <td>3519</td>\n",
       "      <td>625</td>\n",
       "      <td>1</td>\n",
       "      <td>0.855149</td>\n",
       "      <td>625</td>\n",
       "      <td>1</td>\n",
       "      <td>0.855149</td>\n",
       "      <td>1</td>\n",
       "    </tr>\n",
       "    <tr>\n",
       "      <th>13613262</th>\n",
       "      <td>All</td>\n",
       "      <td>6586</td>\n",
       "      <td>1244</td>\n",
       "      <td>1</td>\n",
       "      <td>0.853176</td>\n",
       "      <td>1244</td>\n",
       "      <td>1</td>\n",
       "      <td>0.853176</td>\n",
       "      <td>1</td>\n",
       "    </tr>\n",
       "    <tr>\n",
       "      <th>13619463</th>\n",
       "      <td>All</td>\n",
       "      <td>6589</td>\n",
       "      <td>1244</td>\n",
       "      <td>1</td>\n",
       "      <td>0.845520</td>\n",
       "      <td>1245</td>\n",
       "      <td>2</td>\n",
       "      <td>0.842657</td>\n",
       "      <td>0</td>\n",
       "    </tr>\n",
       "    <tr>\n",
       "      <th>13609128</th>\n",
       "      <td>All</td>\n",
       "      <td>6584</td>\n",
       "      <td>1244</td>\n",
       "      <td>1</td>\n",
       "      <td>0.845435</td>\n",
       "      <td>1244</td>\n",
       "      <td>1</td>\n",
       "      <td>0.845435</td>\n",
       "      <td>1</td>\n",
       "    </tr>\n",
       "    <tr>\n",
       "      <th>13609129</th>\n",
       "      <td>All</td>\n",
       "      <td>6584</td>\n",
       "      <td>1245</td>\n",
       "      <td>2</td>\n",
       "      <td>0.843887</td>\n",
       "      <td>1244</td>\n",
       "      <td>1</td>\n",
       "      <td>0.845435</td>\n",
       "      <td>0</td>\n",
       "    </tr>\n",
       "  </tbody>\n",
       "</table>\n",
       "</div>"
      ],
      "text/plain": [
       "         slice_type  question  neighbor_paragraph  neighbor_order  \\\n",
       "7273773         All      3519                 625               1   \n",
       "13613262        All      6586                1244               1   \n",
       "13619463        All      6589                1244               1   \n",
       "13609128        All      6584                1244               1   \n",
       "13609129        All      6584                1245               2   \n",
       "\n",
       "          neighbor_cos_similarity  actual_paragraph  actual_paragraph_order  \\\n",
       "7273773                  0.855149               625                       1   \n",
       "13613262                 0.853176              1244                       1   \n",
       "13619463                 0.845520              1245                       2   \n",
       "13609128                 0.845435              1244                       1   \n",
       "13609129                 0.843887              1244                       1   \n",
       "\n",
       "          actual_paragrraph_cos_similarity  Is_Actual_Paragraph  \n",
       "7273773                           0.855149                    1  \n",
       "13613262                          0.853176                    1  \n",
       "13619463                          0.842657                    0  \n",
       "13609128                          0.845435                    1  \n",
       "13609129                          0.845435                    0  "
      ]
     },
     "execution_count": 109,
     "metadata": {},
     "output_type": "execute_result"
    }
   ],
   "source": [
    "results.head()"
   ]
  },
  {
   "cell_type": "code",
   "execution_count": 110,
   "metadata": {},
   "outputs": [],
   "source": [
    "prediction_model = []\n",
    "total_zeros = results.groupby(['Is_Actual_Paragraph']).count()[grouped.index == 0]['slice_type'].values[0]\n",
    "total_1s = results.groupby(['Is_Actual_Paragraph']).count()[grouped.index == 1]['slice_type'].values[0]\n",
    "for _cut_off in [float(x/10) for x in range(0,11)]:\n",
    "    grouped_greater = results[results['neighbor_cos_similarity'] >= _cut_off].groupby(['Is_Actual_Paragraph']).count()\n",
    "    try:\n",
    "        true_positive = grouped_greater[grouped_greater.index == 1]['slice_type'].values[0]\n",
    "    except:\n",
    "        true_positive = 0\n",
    "        \n",
    "    grouped_smaller = results[results['neighbor_cos_similarity'] < _cut_off].groupby(['Is_Actual_Paragraph']).count()\n",
    "    try:\n",
    "        true_negative = grouped_smaller[grouped_smaller.index == 0]['slice_type'].values[0]\n",
    "    except:\n",
    "        true_negative = 0 \n",
    "    \n",
    "    try:\n",
    "        false_positive = grouped_greater[grouped_greater.index == 0]['slice_type'].values[0]\n",
    "    except:\n",
    "        false_positive = 0\n",
    "    \n",
    "    try:\n",
    "        false_negative = grouped_smaller[grouped_smaller.index == 1]['slice_type'].values[0]\n",
    "    except:\n",
    "        false_negative = 0\n",
    "        \n",
    "    true_negative_rate = (true_negative/total_zeros)\n",
    "    false_positive_rate = 1 - true_negative_rate\n",
    "    true_positive_rate = (true_positive/total_1s)\n",
    "    try:\n",
    "        precision = true_positive / (true_positive + false_positive)\n",
    "    except:\n",
    "        precision = 0\n",
    "    \n",
    "    try:\n",
    "        recall = true_positive / (true_positive + false_negative)\n",
    "    except:\n",
    "        recall = 0\n",
    "    prediction_model.append((_cut_off, true_positive, true_negative, false_positive, false_negative, precision, recall, true_negative_rate, false_positive_rate, true_positive_rate))"
   ]
  },
  {
   "cell_type": "code",
   "execution_count": 99,
   "metadata": {},
   "outputs": [
    {
     "data": {
      "text/plain": [
       "21837620"
      ]
     },
     "execution_count": 99,
     "metadata": {},
     "output_type": "execute_result"
    }
   ],
   "source": [
    "total_zeros"
   ]
  },
  {
   "cell_type": "code",
   "execution_count": 111,
   "metadata": {},
   "outputs": [],
   "source": [
    "df_prediction_model = pd.DataFrame(data=prediction_model, columns=['cut_off', 'True Positive', 'True Negative', 'False_Positive', 'False_Negative','Precision', 'Recall', 'True Negative Rate', 'False Positive Rate', 'True Positive Rate'])"
   ]
  },
  {
   "cell_type": "code",
   "execution_count": 112,
   "metadata": {},
   "outputs": [],
   "source": [
    "df_prediction_model.to_csv('/home/jackalhan/Development/github/more_meaningful_representations/squad/dev/model_performance.csv')"
   ]
  },
  {
   "cell_type": "code",
   "execution_count": 113,
   "metadata": {},
   "outputs": [
    {
     "data": {
      "text/html": [
       "<div>\n",
       "<style scoped>\n",
       "    .dataframe tbody tr th:only-of-type {\n",
       "        vertical-align: middle;\n",
       "    }\n",
       "\n",
       "    .dataframe tbody tr th {\n",
       "        vertical-align: top;\n",
       "    }\n",
       "\n",
       "    .dataframe thead th {\n",
       "        text-align: right;\n",
       "    }\n",
       "</style>\n",
       "<table border=\"1\" class=\"dataframe\">\n",
       "  <thead>\n",
       "    <tr style=\"text-align: right;\">\n",
       "      <th></th>\n",
       "      <th>cut_off</th>\n",
       "      <th>True Positive</th>\n",
       "      <th>True Negative</th>\n",
       "      <th>False_Positive</th>\n",
       "      <th>False_Negative</th>\n",
       "      <th>Precision</th>\n",
       "      <th>Recall</th>\n",
       "      <th>True Negative Rate</th>\n",
       "      <th>False Positive Rate</th>\n",
       "      <th>True Positive Rate</th>\n",
       "    </tr>\n",
       "  </thead>\n",
       "  <tbody>\n",
       "    <tr>\n",
       "      <th>0</th>\n",
       "      <td>0.0</td>\n",
       "      <td>10570</td>\n",
       "      <td>0</td>\n",
       "      <td>21837620</td>\n",
       "      <td>0</td>\n",
       "      <td>0.000484</td>\n",
       "      <td>1.000000</td>\n",
       "      <td>0.000000</td>\n",
       "      <td>1.000000</td>\n",
       "      <td>1.000000</td>\n",
       "    </tr>\n",
       "    <tr>\n",
       "      <th>1</th>\n",
       "      <td>0.1</td>\n",
       "      <td>10570</td>\n",
       "      <td>990</td>\n",
       "      <td>21836630</td>\n",
       "      <td>0</td>\n",
       "      <td>0.000484</td>\n",
       "      <td>1.000000</td>\n",
       "      <td>0.000045</td>\n",
       "      <td>0.999955</td>\n",
       "      <td>1.000000</td>\n",
       "    </tr>\n",
       "    <tr>\n",
       "      <th>2</th>\n",
       "      <td>0.2</td>\n",
       "      <td>10570</td>\n",
       "      <td>479132</td>\n",
       "      <td>21358488</td>\n",
       "      <td>0</td>\n",
       "      <td>0.000495</td>\n",
       "      <td>1.000000</td>\n",
       "      <td>0.021941</td>\n",
       "      <td>0.978059</td>\n",
       "      <td>1.000000</td>\n",
       "    </tr>\n",
       "    <tr>\n",
       "      <th>3</th>\n",
       "      <td>0.3</td>\n",
       "      <td>10526</td>\n",
       "      <td>5812425</td>\n",
       "      <td>16025195</td>\n",
       "      <td>44</td>\n",
       "      <td>0.000656</td>\n",
       "      <td>0.995837</td>\n",
       "      <td>0.266166</td>\n",
       "      <td>0.733834</td>\n",
       "      <td>0.995837</td>\n",
       "    </tr>\n",
       "    <tr>\n",
       "      <th>4</th>\n",
       "      <td>0.4</td>\n",
       "      <td>10106</td>\n",
       "      <td>15612184</td>\n",
       "      <td>6225436</td>\n",
       "      <td>464</td>\n",
       "      <td>0.001621</td>\n",
       "      <td>0.956102</td>\n",
       "      <td>0.714921</td>\n",
       "      <td>0.285079</td>\n",
       "      <td>0.956102</td>\n",
       "    </tr>\n",
       "    <tr>\n",
       "      <th>5</th>\n",
       "      <td>0.5</td>\n",
       "      <td>8270</td>\n",
       "      <td>20603176</td>\n",
       "      <td>1234444</td>\n",
       "      <td>2300</td>\n",
       "      <td>0.006655</td>\n",
       "      <td>0.782403</td>\n",
       "      <td>0.943472</td>\n",
       "      <td>0.056528</td>\n",
       "      <td>0.782403</td>\n",
       "    </tr>\n",
       "    <tr>\n",
       "      <th>6</th>\n",
       "      <td>0.6</td>\n",
       "      <td>4271</td>\n",
       "      <td>21696611</td>\n",
       "      <td>141009</td>\n",
       "      <td>6299</td>\n",
       "      <td>0.029398</td>\n",
       "      <td>0.404068</td>\n",
       "      <td>0.993543</td>\n",
       "      <td>0.006457</td>\n",
       "      <td>0.404068</td>\n",
       "    </tr>\n",
       "    <tr>\n",
       "      <th>7</th>\n",
       "      <td>0.7</td>\n",
       "      <td>877</td>\n",
       "      <td>21829487</td>\n",
       "      <td>8133</td>\n",
       "      <td>9693</td>\n",
       "      <td>0.097336</td>\n",
       "      <td>0.082971</td>\n",
       "      <td>0.999628</td>\n",
       "      <td>0.000372</td>\n",
       "      <td>0.082971</td>\n",
       "    </tr>\n",
       "    <tr>\n",
       "      <th>8</th>\n",
       "      <td>0.8</td>\n",
       "      <td>30</td>\n",
       "      <td>21837496</td>\n",
       "      <td>124</td>\n",
       "      <td>10540</td>\n",
       "      <td>0.194805</td>\n",
       "      <td>0.002838</td>\n",
       "      <td>0.999994</td>\n",
       "      <td>0.000006</td>\n",
       "      <td>0.002838</td>\n",
       "    </tr>\n",
       "    <tr>\n",
       "      <th>9</th>\n",
       "      <td>0.9</td>\n",
       "      <td>0</td>\n",
       "      <td>21837620</td>\n",
       "      <td>0</td>\n",
       "      <td>10570</td>\n",
       "      <td>0.000000</td>\n",
       "      <td>0.000000</td>\n",
       "      <td>1.000000</td>\n",
       "      <td>0.000000</td>\n",
       "      <td>0.000000</td>\n",
       "    </tr>\n",
       "    <tr>\n",
       "      <th>10</th>\n",
       "      <td>1.0</td>\n",
       "      <td>0</td>\n",
       "      <td>21837620</td>\n",
       "      <td>0</td>\n",
       "      <td>10570</td>\n",
       "      <td>0.000000</td>\n",
       "      <td>0.000000</td>\n",
       "      <td>1.000000</td>\n",
       "      <td>0.000000</td>\n",
       "      <td>0.000000</td>\n",
       "    </tr>\n",
       "  </tbody>\n",
       "</table>\n",
       "</div>"
      ],
      "text/plain": [
       "    cut_off  True Positive  True Negative  False_Positive  False_Negative  \\\n",
       "0       0.0          10570              0        21837620               0   \n",
       "1       0.1          10570            990        21836630               0   \n",
       "2       0.2          10570         479132        21358488               0   \n",
       "3       0.3          10526        5812425        16025195              44   \n",
       "4       0.4          10106       15612184         6225436             464   \n",
       "5       0.5           8270       20603176         1234444            2300   \n",
       "6       0.6           4271       21696611          141009            6299   \n",
       "7       0.7            877       21829487            8133            9693   \n",
       "8       0.8             30       21837496             124           10540   \n",
       "9       0.9              0       21837620               0           10570   \n",
       "10      1.0              0       21837620               0           10570   \n",
       "\n",
       "    Precision    Recall  True Negative Rate  False Positive Rate  \\\n",
       "0    0.000484  1.000000            0.000000             1.000000   \n",
       "1    0.000484  1.000000            0.000045             0.999955   \n",
       "2    0.000495  1.000000            0.021941             0.978059   \n",
       "3    0.000656  0.995837            0.266166             0.733834   \n",
       "4    0.001621  0.956102            0.714921             0.285079   \n",
       "5    0.006655  0.782403            0.943472             0.056528   \n",
       "6    0.029398  0.404068            0.993543             0.006457   \n",
       "7    0.097336  0.082971            0.999628             0.000372   \n",
       "8    0.194805  0.002838            0.999994             0.000006   \n",
       "9    0.000000  0.000000            1.000000             0.000000   \n",
       "10   0.000000  0.000000            1.000000             0.000000   \n",
       "\n",
       "    True Positive Rate  \n",
       "0             1.000000  \n",
       "1             1.000000  \n",
       "2             1.000000  \n",
       "3             0.995837  \n",
       "4             0.956102  \n",
       "5             0.782403  \n",
       "6             0.404068  \n",
       "7             0.082971  \n",
       "8             0.002838  \n",
       "9             0.000000  \n",
       "10            0.000000  "
      ]
     },
     "execution_count": 113,
     "metadata": {},
     "output_type": "execute_result"
    }
   ],
   "source": [
    "df_prediction_model"
   ]
  },
  {
   "cell_type": "code",
   "execution_count": 114,
   "metadata": {},
   "outputs": [
    {
     "data": {
      "image/png": "[encoded data removed]",
      "text/plain": [
       "<matplotlib.figure.Figure at 0x7fc5538e5a90>"
      ]
     },
     "metadata": {},
     "output_type": "display_data"
    }
   ],
   "source": [
    "from sklearn.metrics import roc_curve, auc\n",
    "\n",
    "roc_auc = auc(df_prediction_model['False Positive Rate'], df_prediction_model['True Positive Rate'])\n",
    "plt.figure()\n",
    "lw = 2\n",
    "plt.plot(df_prediction_model['False Positive Rate'].values, df_prediction_model['True Positive Rate'].values, color='darkorange',\n",
    "         lw=lw, label='ROC curve (area = %0.2f)' % roc_auc)\n",
    "plt.plot([0, 1], [0, 1], color='navy', lw=lw, linestyle='--')\n",
    "plt.xlim([0.0, 1.0])\n",
    "plt.ylim([0.0, 1.05])\n",
    "plt.xlabel('False Positive Rate')\n",
    "plt.ylabel('True Positive Rate')\n",
    "plt.title('Receiver operating characteristic')\n",
    "plt.legend(loc=\"lower right\")\n",
    "plt.rcParams[\"figure.figsize\"] = [15,15]\n",
    "plt.show()\n"
   ]
  },
  {
   "cell_type": "code",
   "execution_count": 115,
   "metadata": {},
   "outputs": [
    {
     "data": {
      "image/png": "[encoded data removed]",
      "text/plain": [
       "<matplotlib.figure.Figure at 0x7fc5538ea588>"
      ]
     },
     "metadata": {},
     "output_type": "display_data"
    }
   ],
   "source": [
    "from sklearn import metrics\n",
    "fpr, tpr, thresholds = metrics.roc_curve(results['Is_Actual_Paragraph']\n",
    "                                         ,results['neighbor_cos_similarity'])\n",
    "roc_auc = auc(fpr,tpr)\n",
    "plt.figure()\n",
    "lw = 2\n",
    "plt.plot(fpr, tpr, color='darkorange',\n",
    "         lw=lw, label='ROC curve (area = %0.2f)' % roc_auc)\n",
    "plt.plot([0, 1], [0, 1], color='navy', lw=lw, linestyle='--')\n",
    "plt.xlim([0.0, 1.0])\n",
    "plt.ylim([0.0, 1.05])\n",
    "plt.xlabel('False Positive Rate')\n",
    "plt.ylabel('True Positive Rate')\n",
    "plt.title('Receiver operating characteristic example')\n",
    "plt.legend(loc=\"lower right\")\n",
    "plt.show()"
   ]
  },
  {
   "cell_type": "code",
   "execution_count": 116,
   "metadata": {},
   "outputs": [],
   "source": [
    "# average_precision = []\n",
    "# for index, row in df_prediction_model.iterrows():\n",
    "    "
   ]
  },
  {
   "cell_type": "code",
   "execution_count": 74,
   "metadata": {},
   "outputs": [],
   "source": [
    "from sklearn.metrics import average_precision_score\n",
    "average_precision = average_precision_score(results['Is_Actual_Paragraph'], results['neighbor_cos_similarity'])"
   ]
  },
  {
   "cell_type": "code",
   "execution_count": 75,
   "metadata": {},
   "outputs": [
    {
     "data": {
      "text/plain": [
       "0.03569548189148938"
      ]
     },
     "execution_count": 75,
     "metadata": {},
     "output_type": "execute_result"
    }
   ],
   "source": [
    "average_precision"
   ]
  },
  {
   "cell_type": "code",
   "execution_count": 117,
   "metadata": {},
   "outputs": [
    {
     "data": {
      "text/plain": [
       "Text(0.5,1,'2-class Precision-Recall curve: AP=0.04')"
      ]
     },
     "execution_count": 117,
     "metadata": {},
     "output_type": "execute_result"
    },
    {
     "data": {
      "image/png": "[encoded data removed]",
      "text/plain": [
       "<matplotlib.figure.Figure at 0x7fc553889048>"
      ]
     },
     "metadata": {},
     "output_type": "display_data"
    }
   ],
   "source": [
    "from sklearn.metrics import precision_recall_curve\n",
    "import matplotlib.pyplot as plt\n",
    "\n",
    "average_precision = average_precision_score(results['Is_Actual_Paragraph'], results['neighbor_cos_similarity'])\n",
    "precision, recall, _ = precision_recall_curve(results['Is_Actual_Paragraph'], results['neighbor_cos_similarity'])\n",
    "\n",
    "plt.step(recall, precision, color='b', alpha=0.2,\n",
    "         where='post')\n",
    "plt.fill_between(recall, precision, step='post', alpha=0.2,\n",
    "                 color='b')\n",
    "\n",
    "plt.xlabel('Recall')\n",
    "plt.ylabel('Precision')\n",
    "plt.ylim([0.0, 1.05])\n",
    "plt.xlim([0.0, 1.0])\n",
    "plt.title('2-class Precision-Recall curve: AP={0:0.2f}'.format(\n",
    "          average_precision))"
   ]
  },
  {
   "cell_type": "code",
   "execution_count": 78,
   "metadata": {},
   "outputs": [
    {
     "data": {
      "text/plain": [
       "array([0.21356171, 0.21356174, 0.21356194, ..., 0.84552014, 0.85317624,\n",
       "       0.85514945])"
      ]
     },
     "execution_count": 78,
     "metadata": {},
     "output_type": "execute_result"
    }
   ],
   "source": [
    "_"
   ]
  },
  {
   "cell_type": "code",
   "execution_count": 84,
   "metadata": {},
   "outputs": [],
   "source": [
    "_cut_off = 0\n",
    "total_zeros = results.groupby(['Is_Actual_Paragraph']).count()[grouped.index == 0]['slice_type'].values[0]\n",
    "total_1s = results.groupby(['Is_Actual_Paragraph']).count()[grouped.index == 1]['slice_type'].values[0]\n",
    "grouped_greater = results[results['neighbor_cos_similarity'] >= _cut_off].groupby(['Is_Actual_Paragraph']).count()\n",
    "try:\n",
    "    true_positive = grouped_greater[grouped_greater.index == 1]['slice_type'].values[0]\n",
    "except:\n",
    "    true_positive = 0\n",
    "\n",
    "grouped_smaller = results[results['neighbor_cos_similarity'] < _cut_off].groupby(['Is_Actual_Paragraph']).count()\n",
    "try:\n",
    "    true_negative = grouped_smaller[grouped_smaller.index == 0]['slice_type'].values[0]\n",
    "except:\n",
    "    true_negative = 0 \n",
    "\n",
    "try:\n",
    "    false_positive = grouped_greater[grouped_greater.index == 0]['slice_type'].values[0]\n",
    "except:\n",
    "    false_positive = 0\n",
    "\n",
    "try:\n",
    "    false_negative = grouped_smaller[grouped_smaller.index == 1]['slice_type'].values[0]\n",
    "except:\n",
    "    false_negative = 0\n",
    "\n",
    "true_negative_rate = (true_negative/total_zeros)\n",
    "false_positive_rate = 1 - true_negative_rate\n",
    "true_positive_rate = (true_positive/total_1s)\n",
    "try:\n",
    "    precision = true_positive / (true_positive + false_positive)\n",
    "except:\n",
    "    precision = 0\n",
    "\n",
    "try:\n",
    "    recall = true_positive / (true_positive + false_negative)\n",
    "except:\n",
    "    recall = 0\n",
    "    \n",
    "    "
   ]
  },
  {
   "cell_type": "code",
   "execution_count": 85,
   "metadata": {},
   "outputs": [
    {
     "data": {
      "text/html": [
       "<div>\n",
       "<style scoped>\n",
       "    .dataframe tbody tr th:only-of-type {\n",
       "        vertical-align: middle;\n",
       "    }\n",
       "\n",
       "    .dataframe tbody tr th {\n",
       "        vertical-align: top;\n",
       "    }\n",
       "\n",
       "    .dataframe thead th {\n",
       "        text-align: right;\n",
       "    }\n",
       "</style>\n",
       "<table border=\"1\" class=\"dataframe\">\n",
       "  <thead>\n",
       "    <tr style=\"text-align: right;\">\n",
       "      <th></th>\n",
       "      <th>slice_type</th>\n",
       "      <th>question</th>\n",
       "      <th>neighbor_paragraph</th>\n",
       "      <th>neighbor_order</th>\n",
       "      <th>neighbor_cos_similarity</th>\n",
       "      <th>actual_paragraph</th>\n",
       "      <th>actual_paragraph_order</th>\n",
       "      <th>actual_paragrraph_cos_similarity</th>\n",
       "    </tr>\n",
       "    <tr>\n",
       "      <th>Is_Actual_Paragraph</th>\n",
       "      <th></th>\n",
       "      <th></th>\n",
       "      <th></th>\n",
       "      <th></th>\n",
       "      <th></th>\n",
       "      <th></th>\n",
       "      <th></th>\n",
       "      <th></th>\n",
       "    </tr>\n",
       "  </thead>\n",
       "  <tbody>\n",
       "    <tr>\n",
       "      <th>0</th>\n",
       "      <td>21837620</td>\n",
       "      <td>21837620</td>\n",
       "      <td>21837620</td>\n",
       "      <td>21837620</td>\n",
       "      <td>21837620</td>\n",
       "      <td>21837620</td>\n",
       "      <td>21837620</td>\n",
       "      <td>21837620</td>\n",
       "    </tr>\n",
       "    <tr>\n",
       "      <th>1</th>\n",
       "      <td>10570</td>\n",
       "      <td>10570</td>\n",
       "      <td>10570</td>\n",
       "      <td>10570</td>\n",
       "      <td>10570</td>\n",
       "      <td>10570</td>\n",
       "      <td>10570</td>\n",
       "      <td>10570</td>\n",
       "    </tr>\n",
       "  </tbody>\n",
       "</table>\n",
       "</div>"
      ],
      "text/plain": [
       "                     slice_type  question  neighbor_paragraph  neighbor_order  \\\n",
       "Is_Actual_Paragraph                                                             \n",
       "0                      21837620  21837620            21837620        21837620   \n",
       "1                         10570     10570               10570           10570   \n",
       "\n",
       "                     neighbor_cos_similarity  actual_paragraph  \\\n",
       "Is_Actual_Paragraph                                              \n",
       "0                                   21837620          21837620   \n",
       "1                                      10570             10570   \n",
       "\n",
       "                     actual_paragraph_order  actual_paragrraph_cos_similarity  \n",
       "Is_Actual_Paragraph                                                            \n",
       "0                                  21837620                          21837620  \n",
       "1                                     10570                             10570  "
      ]
     },
     "execution_count": 85,
     "metadata": {},
     "output_type": "execute_result"
    }
   ],
   "source": [
    "grouped_greater"
   ]
  },
  {
   "cell_type": "code",
   "execution_count": 86,
   "metadata": {},
   "outputs": [
    {
     "data": {
      "text/html": [
       "<div>\n",
       "<style scoped>\n",
       "    .dataframe tbody tr th:only-of-type {\n",
       "        vertical-align: middle;\n",
       "    }\n",
       "\n",
       "    .dataframe tbody tr th {\n",
       "        vertical-align: top;\n",
       "    }\n",
       "\n",
       "    .dataframe thead th {\n",
       "        text-align: right;\n",
       "    }\n",
       "</style>\n",
       "<table border=\"1\" class=\"dataframe\">\n",
       "  <thead>\n",
       "    <tr style=\"text-align: right;\">\n",
       "      <th></th>\n",
       "      <th>slice_type</th>\n",
       "      <th>question</th>\n",
       "      <th>neighbor_paragraph</th>\n",
       "      <th>neighbor_order</th>\n",
       "      <th>neighbor_cos_similarity</th>\n",
       "      <th>actual_paragraph</th>\n",
       "      <th>actual_paragraph_order</th>\n",
       "      <th>actual_paragrraph_cos_similarity</th>\n",
       "    </tr>\n",
       "    <tr>\n",
       "      <th>Is_Actual_Paragraph</th>\n",
       "      <th></th>\n",
       "      <th></th>\n",
       "      <th></th>\n",
       "      <th></th>\n",
       "      <th></th>\n",
       "      <th></th>\n",
       "      <th></th>\n",
       "      <th></th>\n",
       "    </tr>\n",
       "  </thead>\n",
       "  <tbody>\n",
       "  </tbody>\n",
       "</table>\n",
       "</div>"
      ],
      "text/plain": [
       "Empty DataFrame\n",
       "Columns: [slice_type, question, neighbor_paragraph, neighbor_order, neighbor_cos_similarity, actual_paragraph, actual_paragraph_order, actual_paragrraph_cos_similarity]\n",
       "Index: []"
      ]
     },
     "execution_count": 86,
     "metadata": {},
     "output_type": "execute_result"
    }
   ],
   "source": [
    "grouped_smaller"
   ]
  },
  {
   "cell_type": "code",
   "execution_count": 87,
   "metadata": {},
   "outputs": [
    {
     "data": {
      "text/plain": [
       "21837620"
      ]
     },
     "execution_count": 87,
     "metadata": {},
     "output_type": "execute_result"
    }
   ],
   "source": [
    "false_positive"
   ]
  },
  {
   "cell_type": "code",
   "execution_count": 88,
   "metadata": {},
   "outputs": [
    {
     "data": {
      "text/plain": [
       "0"
      ]
     },
     "execution_count": 88,
     "metadata": {},
     "output_type": "execute_result"
    }
   ],
   "source": [
    "false_negative"
   ]
  },
  {
   "cell_type": "code",
   "execution_count": 89,
   "metadata": {},
   "outputs": [
    {
     "data": {
      "text/plain": [
       "10570"
      ]
     },
     "execution_count": 89,
     "metadata": {},
     "output_type": "execute_result"
    }
   ],
   "source": [
    "true_positive"
   ]
  },
  {
   "cell_type": "code",
   "execution_count": 90,
   "metadata": {},
   "outputs": [
    {
     "data": {
      "text/plain": [
       "0"
      ]
     },
     "execution_count": 90,
     "metadata": {},
     "output_type": "execute_result"
    }
   ],
   "source": [
    "true_negative"
   ]
  }
 ],
 "metadata": {
  "kernelspec": {
   "display_name": "Python 3",
   "language": "python",
   "name": "python3"
  },
  "language_info": {
   "codemirror_mode": {
    "name": "ipython",
    "version": 3
   },
   "file_extension": ".py",
   "mimetype": "text/x-python",
   "name": "python",
   "nbconvert_exporter": "python",
   "pygments_lexer": "ipython3",
   "version": "3.5.2"
  }
 },
 "nbformat": 4,
 "nbformat_minor": 2
}
