{
 "cells": [
  {
   "cell_type": "code",
   "execution_count": 1,
   "metadata": {},
   "outputs": [],
   "source": [
    "import pandas as pd\n",
    "import numpy as np\n",
    "import matplotlib.pyplot as plt\n",
    "%matplotlib inline"
   ]
  },
  {
   "cell_type": "code",
   "execution_count": 2,
   "metadata": {},
   "outputs": [],
   "source": [
    "data = pd.read_csv(\"monthly-milk-production.csv\").set_index('Month')"
   ]
  },
  {
   "cell_type": "code",
   "execution_count": 3,
   "metadata": {},
   "outputs": [
    {
     "data": {
      "text/html": [
       "<div>\n",
       "<style scoped>\n",
       "    .dataframe tbody tr th:only-of-type {\n",
       "        vertical-align: middle;\n",
       "    }\n",
       "\n",
       "    .dataframe tbody tr th {\n",
       "        vertical-align: top;\n",
       "    }\n",
       "\n",
       "    .dataframe thead th {\n",
       "        text-align: right;\n",
       "    }\n",
       "</style>\n",
       "<table border=\"1\" class=\"dataframe\">\n",
       "  <thead>\n",
       "    <tr style=\"text-align: right;\">\n",
       "      <th></th>\n",
       "      <th>Milk Production</th>\n",
       "    </tr>\n",
       "    <tr>\n",
       "      <th>Month</th>\n",
       "      <th></th>\n",
       "    </tr>\n",
       "  </thead>\n",
       "  <tbody>\n",
       "    <tr>\n",
       "      <th>1962-01-01 01:00:00</th>\n",
       "      <td>589.0</td>\n",
       "    </tr>\n",
       "    <tr>\n",
       "      <th>1962-02-01 01:00:00</th>\n",
       "      <td>561.0</td>\n",
       "    </tr>\n",
       "    <tr>\n",
       "      <th>1962-03-01 01:00:00</th>\n",
       "      <td>640.0</td>\n",
       "    </tr>\n",
       "    <tr>\n",
       "      <th>1962-04-01 01:00:00</th>\n",
       "      <td>656.0</td>\n",
       "    </tr>\n",
       "    <tr>\n",
       "      <th>1962-05-01 01:00:00</th>\n",
       "      <td>727.0</td>\n",
       "    </tr>\n",
       "  </tbody>\n",
       "</table>\n",
       "</div>"
      ],
      "text/plain": [
       "                     Milk Production\n",
       "Month                               \n",
       "1962-01-01 01:00:00            589.0\n",
       "1962-02-01 01:00:00            561.0\n",
       "1962-03-01 01:00:00            640.0\n",
       "1962-04-01 01:00:00            656.0\n",
       "1962-05-01 01:00:00            727.0"
      ]
     },
     "execution_count": 3,
     "metadata": {},
     "output_type": "execute_result"
    }
   ],
   "source": [
    "data.head()"
   ]
  },
  {
   "cell_type": "code",
   "execution_count": 4,
   "metadata": {},
   "outputs": [],
   "source": [
    "#Make the index a time series by using\n",
    "data.index = pd.to_datetime(data.index)"
   ]
  },
  {
   "cell_type": "code",
   "execution_count": 5,
   "metadata": {},
   "outputs": [
    {
     "data": {
      "text/plain": [
       "<matplotlib.axes._subplots.AxesSubplot at 0x7faf275d3668>"
      ]
     },
     "execution_count": 5,
     "metadata": {},
     "output_type": "execute_result"
    },
    {
     "data": {
      "image/png": "[encoded data removed]",
      "text/plain": [
       "<matplotlib.figure.Figure at 0x7faf27614fd0>"
      ]
     },
     "metadata": {},
     "output_type": "display_data"
    }
   ],
   "source": [
    "data.plot()"
   ]
  },
  {
   "cell_type": "code",
   "execution_count": 6,
   "metadata": {},
   "outputs": [
    {
     "name": "stdout",
     "output_type": "stream",
     "text": [
      "<class 'pandas.core.frame.DataFrame'>\n",
      "DatetimeIndex: 168 entries, 1962-01-01 01:00:00 to 1975-12-01 01:00:00\n",
      "Data columns (total 1 columns):\n",
      "Milk Production    168 non-null float64\n",
      "dtypes: float64(1)\n",
      "memory usage: 2.6 KB\n"
     ]
    }
   ],
   "source": [
    "data.info()"
   ]
  },
  {
   "cell_type": "markdown",
   "metadata": {},
   "source": [
    "### Split Data"
   ]
  },
  {
   "cell_type": "code",
   "execution_count": 7,
   "metadata": {},
   "outputs": [],
   "source": [
    "# We are going to attempt a predict a year's worth of data (12 months or 12 steps)\n",
    "num_of_timesteps = 12\n",
    "\n",
    "#head = first years\n",
    "train_set = data.head(len(data)-num_of_timesteps) # we could do same thing by slicing it using the iloc]\\\n",
    "\n",
    "#tail = last years\n",
    "test_set = data.tail(num_of_timesteps)"
   ]
  },
  {
   "cell_type": "markdown",
   "metadata": {},
   "source": [
    "### Scale the Data"
   ]
  },
  {
   "cell_type": "code",
   "execution_count": 8,
   "metadata": {},
   "outputs": [],
   "source": [
    "from sklearn.preprocessing import MinMaxScaler"
   ]
  },
  {
   "cell_type": "code",
   "execution_count": 9,
   "metadata": {},
   "outputs": [],
   "source": [
    "scaler = MinMaxScaler()\n",
    "train_scaled = scaler.fit_transform(train_set)\n",
    "test_scaled = scaler.transform(train_set)"
   ]
  },
  {
   "cell_type": "markdown",
   "metadata": {},
   "source": [
    "### Batch Function"
   ]
  },
  {
   "cell_type": "code",
   "execution_count": 10,
   "metadata": {},
   "outputs": [],
   "source": [
    "def next_batch(training_data, batch_size, num_of_timesteps):\n",
    "    \"\"\"\n",
    "    input : Data, Batch Size, Time Steps per batch\n",
    "    output : A tuple of y time series results. y[:,:-1] and y[:,1:]\n",
    "    \"\"\"\n",
    "    # STEP 1: Set a random starting point index for the batch\n",
    "    # Each batch needs have the same number of steps in it.\n",
    "    # Means that limit the starting point to len(data) - steps\n",
    "    rand_start = np.random.randint(0, len(training_data)-num_of_timesteps)\n",
    "    \n",
    "    y_batch = np.array(training_data[rand_start:rand_start+num_of_timesteps+1]).reshape(1, num_of_timesteps+1)\n",
    "    \n",
    "    # Return the batches. We will have two batches to return y[:,:-1] and y[:,1:]\n",
    "    # We will need to reshape these into tensors for the RNN to reshape(-1, num_of_steps, 1)\n",
    "    return y_batch[:,:-1].reshape(-1, num_of_timesteps, 1), y_batch[:,1:].reshape(-1, num_of_timesteps, 1)"
   ]
  },
  {
   "cell_type": "markdown",
   "metadata": {},
   "source": [
    "### RNN Model"
   ]
  },
  {
   "cell_type": "code",
   "execution_count": 11,
   "metadata": {},
   "outputs": [
    {
     "name": "stderr",
     "output_type": "stream",
     "text": [
      "/home/jackalhan/Development/github/more_meaningful_representations/venv/lib/python3.5/site-packages/h5py/__init__.py:36: FutureWarning: Conversion of the second argument of issubdtype from `float` to `np.floating` is deprecated. In future, it will be treated as `np.float64 == np.dtype(float).type`.\n",
      "  from ._conv import register_converters as _register_converters\n"
     ]
    }
   ],
   "source": [
    "import tensorflow as tf"
   ]
  },
  {
   "cell_type": "code",
   "execution_count": 12,
   "metadata": {},
   "outputs": [],
   "source": [
    "# Constants # hyperparameters\n",
    "num_of_inputs = 1\n",
    "num_of_neurons = 200\n",
    "num_of_outputs = 1\n",
    "learning_rate = 0.001\n",
    "num_of_training_iterations = 10000\n",
    "batch_size = 1"
   ]
  },
  {
   "cell_type": "code",
   "execution_count": 13,
   "metadata": {},
   "outputs": [],
   "source": [
    "# placeholders\n",
    "X = tf.placeholder(tf.float32, [None, num_of_timesteps, num_of_inputs])\n",
    "y = tf.placeholder(tf.float32, [None, num_of_timesteps, num_of_outputs])"
   ]
  },
  {
   "cell_type": "code",
   "execution_count": 14,
   "metadata": {},
   "outputs": [],
   "source": [
    "cell = tf.contrib.rnn.GRUCell(num_units=num_of_neurons, activation=tf.nn.relu)\n",
    "# we are just predicting one output here, we just want one time series output\n",
    "# number of neurons we are using here is 100, so we do not want 100 outputs\n",
    "# we need to project this kust to be one, the way we can do is using output projection wrapper\n",
    "cell = tf.contrib.rnn.OutputProjectionWrapper(cell, output_size=num_of_outputs)"
   ]
  },
  {
   "cell_type": "code",
   "execution_count": 15,
   "metadata": {},
   "outputs": [],
   "source": [
    "# it is going to automatically ouput both the outputs and the states of this cells\n",
    "# it performs a dynamic unrolling of the inputs that basically just means\n",
    "# it is using a while loop operation to run over the cell the approp. number of times.\n",
    "outputs, states = tf.nn.dynamic_rnn(cell=cell, inputs=X, dtype=tf.float32)"
   ]
  },
  {
   "cell_type": "code",
   "execution_count": 16,
   "metadata": {},
   "outputs": [],
   "source": [
    "# Loss Function\n",
    "loss = tf.reduce_mean(tf.square(outputs-y))"
   ]
  },
  {
   "cell_type": "code",
   "execution_count": 17,
   "metadata": {},
   "outputs": [],
   "source": [
    "# Optimizer\n",
    "optimizer = tf.train.AdamOptimizer(learning_rate=learning_rate)\n",
    "# Training\n",
    "train = optimizer.minimize(loss)"
   ]
  },
  {
   "cell_type": "code",
   "execution_count": 18,
   "metadata": {},
   "outputs": [
    {
     "name": "stdout",
     "output_type": "stream",
     "text": [
      "0 \tmse 0.0880037\n",
      "100 \tmse 0.027243352\n",
      "200 \tmse 0.017217493\n",
      "300 \tmse 0.011863633\n",
      "400 \tmse 0.009557906\n",
      "500 \tmse 0.012569647\n",
      "600 \tmse 0.008289387\n",
      "700 \tmse 0.0071855\n",
      "800 \tmse 0.008012796\n",
      "900 \tmse 0.0055947304\n",
      "1000 \tmse 0.005564954\n",
      "1100 \tmse 0.004666599\n",
      "1200 \tmse 0.006674262\n",
      "1300 \tmse 0.005146006\n",
      "1400 \tmse 0.00537608\n",
      "1500 \tmse 0.0067884587\n",
      "1600 \tmse 0.0066897143\n",
      "1700 \tmse 0.006616466\n",
      "1800 \tmse 0.0029783824\n",
      "1900 \tmse 0.006666006\n",
      "2000 \tmse 0.005290285\n",
      "2100 \tmse 0.0055002887\n",
      "2200 \tmse 0.00670235\n",
      "2300 \tmse 0.008807168\n",
      "2400 \tmse 0.0063469023\n",
      "2500 \tmse 0.0027643591\n",
      "2600 \tmse 0.0044385153\n",
      "2700 \tmse 0.0046701063\n",
      "2800 \tmse 0.0049694125\n",
      "2900 \tmse 0.0015425108\n",
      "3000 \tmse 0.0066187363\n",
      "3100 \tmse 0.005446064\n",
      "3200 \tmse 0.0035279605\n",
      "3300 \tmse 0.005179729\n",
      "3400 \tmse 0.003942004\n",
      "3500 \tmse 0.0025752413\n",
      "3600 \tmse 0.0037575008\n",
      "3700 \tmse 0.0051704394\n",
      "3800 \tmse 0.003060202\n",
      "3900 \tmse 0.004830842\n",
      "4000 \tmse 0.001567802\n",
      "4100 \tmse 0.0026465012\n",
      "4200 \tmse 0.0042314376\n",
      "4300 \tmse 0.0047673285\n",
      "4400 \tmse 0.002386813\n",
      "4500 \tmse 0.0046444987\n",
      "4600 \tmse 0.0018341717\n",
      "4700 \tmse 0.0032606025\n",
      "4800 \tmse 0.0013388622\n",
      "4900 \tmse 0.007941328\n",
      "5000 \tmse 0.0021637422\n",
      "5100 \tmse 0.0024133432\n",
      "5200 \tmse 0.002736436\n",
      "5300 \tmse 0.0015692605\n",
      "5400 \tmse 0.0022114862\n",
      "5500 \tmse 0.0013075778\n",
      "5600 \tmse 0.0006827808\n",
      "5700 \tmse 0.0049027614\n",
      "5800 \tmse 0.003366302\n",
      "5900 \tmse 0.0021236145\n",
      "6000 \tmse 0.0013875096\n",
      "6100 \tmse 0.003819476\n",
      "6200 \tmse 0.0014191539\n",
      "6300 \tmse 0.0042374977\n",
      "6400 \tmse 0.0012716465\n",
      "6500 \tmse 0.00054225064\n",
      "6600 \tmse 0.002382599\n",
      "6700 \tmse 0.0019170969\n",
      "6800 \tmse 0.0071849474\n",
      "6900 \tmse 0.0032499928\n",
      "7000 \tmse 0.0026910238\n",
      "7100 \tmse 0.0029201687\n",
      "7200 \tmse 0.004401175\n",
      "7300 \tmse 0.004258484\n",
      "7400 \tmse 0.0054101073\n",
      "7500 \tmse 0.0025884614\n",
      "7600 \tmse 0.00083993626\n",
      "7700 \tmse 0.0057075773\n",
      "7800 \tmse 0.003688183\n",
      "7900 \tmse 0.002071292\n",
      "8000 \tmse 0.0021771626\n",
      "8100 \tmse 0.0031929715\n",
      "8200 \tmse 0.0021264146\n",
      "8300 \tmse 0.0016291272\n",
      "8400 \tmse 0.0013867506\n",
      "8500 \tmse 0.0050252504\n",
      "8600 \tmse 0.003244003\n",
      "8700 \tmse 0.0035507435\n",
      "8800 \tmse 0.0011401646\n",
      "8900 \tmse 0.0024983163\n",
      "9000 \tmse 0.002854015\n",
      "9100 \tmse 0.0077688615\n",
      "9200 \tmse 0.0014818009\n",
      "9300 \tmse 0.002446303\n",
      "9400 \tmse 0.00515019\n",
      "9500 \tmse 0.0015798281\n",
      "9600 \tmse 0.0043162038\n",
      "9700 \tmse 0.0019013672\n",
      "9800 \tmse 0.004078609\n",
      "9900 \tmse 0.0022295837\n"
     ]
    }
   ],
   "source": [
    "init = tf.global_variables_initializer()\n",
    "gpu_options = tf.GPUOptions(per_process_gpu_memory_fraction=0.85)\n",
    "# saver function to save our model \n",
    "saver = tf.train.Saver()\n",
    "with tf.Session(config=tf.ConfigProto(gpu_options =gpu_options)) as sess:\n",
    "    sess.run(init)\n",
    "    for i in range(num_of_training_iterations):\n",
    "        X_batch, y_batch = next_batch(train_scaled, batch_size, num_of_timesteps)\n",
    "        sess.run(train, feed_dict={X:X_batch, y:y_batch})\n",
    "        if i % 100 == 0:\n",
    "            mse = loss.eval(feed_dict={X:X_batch, y:y_batch})\n",
    "            # we could also pass the test data\n",
    "            print(i, '\\tmse', mse)\n",
    "    saver.save(sess, './models/my_ex_time_series_model')\n",
    "        "
   ]
  },
  {
   "cell_type": "markdown",
   "metadata": {},
   "source": [
    "### Predict the Future"
   ]
  },
  {
   "cell_type": "code",
   "execution_count": 19,
   "metadata": {},
   "outputs": [
    {
     "data": {
      "text/html": [
       "<div>\n",
       "<style scoped>\n",
       "    .dataframe tbody tr th:only-of-type {\n",
       "        vertical-align: middle;\n",
       "    }\n",
       "\n",
       "    .dataframe tbody tr th {\n",
       "        vertical-align: top;\n",
       "    }\n",
       "\n",
       "    .dataframe thead th {\n",
       "        text-align: right;\n",
       "    }\n",
       "</style>\n",
       "<table border=\"1\" class=\"dataframe\">\n",
       "  <thead>\n",
       "    <tr style=\"text-align: right;\">\n",
       "      <th></th>\n",
       "      <th>Milk Production</th>\n",
       "    </tr>\n",
       "    <tr>\n",
       "      <th>Month</th>\n",
       "      <th></th>\n",
       "    </tr>\n",
       "  </thead>\n",
       "  <tbody>\n",
       "    <tr>\n",
       "      <th>1975-01-01 01:00:00</th>\n",
       "      <td>834.0</td>\n",
       "    </tr>\n",
       "    <tr>\n",
       "      <th>1975-02-01 01:00:00</th>\n",
       "      <td>782.0</td>\n",
       "    </tr>\n",
       "    <tr>\n",
       "      <th>1975-03-01 01:00:00</th>\n",
       "      <td>892.0</td>\n",
       "    </tr>\n",
       "    <tr>\n",
       "      <th>1975-04-01 01:00:00</th>\n",
       "      <td>903.0</td>\n",
       "    </tr>\n",
       "    <tr>\n",
       "      <th>1975-05-01 01:00:00</th>\n",
       "      <td>966.0</td>\n",
       "    </tr>\n",
       "    <tr>\n",
       "      <th>1975-06-01 01:00:00</th>\n",
       "      <td>937.0</td>\n",
       "    </tr>\n",
       "    <tr>\n",
       "      <th>1975-07-01 01:00:00</th>\n",
       "      <td>896.0</td>\n",
       "    </tr>\n",
       "    <tr>\n",
       "      <th>1975-08-01 01:00:00</th>\n",
       "      <td>858.0</td>\n",
       "    </tr>\n",
       "    <tr>\n",
       "      <th>1975-09-01 01:00:00</th>\n",
       "      <td>817.0</td>\n",
       "    </tr>\n",
       "    <tr>\n",
       "      <th>1975-10-01 01:00:00</th>\n",
       "      <td>827.0</td>\n",
       "    </tr>\n",
       "    <tr>\n",
       "      <th>1975-11-01 01:00:00</th>\n",
       "      <td>797.0</td>\n",
       "    </tr>\n",
       "    <tr>\n",
       "      <th>1975-12-01 01:00:00</th>\n",
       "      <td>843.0</td>\n",
       "    </tr>\n",
       "  </tbody>\n",
       "</table>\n",
       "</div>"
      ],
      "text/plain": [
       "                     Milk Production\n",
       "Month                               \n",
       "1975-01-01 01:00:00            834.0\n",
       "1975-02-01 01:00:00            782.0\n",
       "1975-03-01 01:00:00            892.0\n",
       "1975-04-01 01:00:00            903.0\n",
       "1975-05-01 01:00:00            966.0\n",
       "1975-06-01 01:00:00            937.0\n",
       "1975-07-01 01:00:00            896.0\n",
       "1975-08-01 01:00:00            858.0\n",
       "1975-09-01 01:00:00            817.0\n",
       "1975-10-01 01:00:00            827.0\n",
       "1975-11-01 01:00:00            797.0\n",
       "1975-12-01 01:00:00            843.0"
      ]
     },
     "execution_count": 19,
     "metadata": {},
     "output_type": "execute_result"
    }
   ],
   "source": [
    "test_set"
   ]
  },
  {
   "cell_type": "code",
   "execution_count": 20,
   "metadata": {},
   "outputs": [],
   "source": [
    "# We want to predict these 12 months of data, using onl the training data we had. \n",
    "# To do that we fill feed in a seed training_instance of the last 12 months of the training_set of data\n",
    "# to predict 12 months in the future. Then we will be able to compare our generated 12 months to our actual true gistorical values\n",
    "# from the test set"
   ]
  },
  {
   "cell_type": "markdown",
   "metadata": {},
   "source": [
    "### Generative Session"
   ]
  },
  {
   "cell_type": "code",
   "execution_count": 21,
   "metadata": {},
   "outputs": [
    {
     "name": "stdout",
     "output_type": "stream",
     "text": [
      "INFO:tensorflow:Restoring parameters from ./models/my_ex_time_series_model\n"
     ]
    }
   ],
   "source": [
    "with tf.Session() as sess:\n",
    "    saver.restore(sess, './models/my_ex_time_series_model')\n",
    "    \n",
    "    seq_seed_and_predictions = list(train_scaled[-num_of_timesteps:])\n",
    "    for iteration in range(num_of_timesteps):\n",
    "        X_batch = np.array(seq_seed_and_predictions[-num_of_timesteps:]).reshape(1, num_of_timesteps,1)\n",
    "        y_pred = sess.run(outputs, feed_dict={X:X_batch})\n",
    "        \n",
    "        # I am trying to get the 30 zeros and then generated values\n",
    "        # always get the value from the last item of y predictions\n",
    "        seq_seed_and_predictions.append(y_pred[0,-1,0])"
   ]
  },
  {
   "cell_type": "code",
   "execution_count": 22,
   "metadata": {},
   "outputs": [
    {
     "data": {
      "text/plain": [
       "[array([0.66105769]),\n",
       " array([0.54086538]),\n",
       " array([0.80769231]),\n",
       " array([0.83894231]),\n",
       " array([1.]),\n",
       " array([0.94711538]),\n",
       " array([0.85336538]),\n",
       " array([0.75480769]),\n",
       " array([0.62980769]),\n",
       " array([0.62259615]),\n",
       " array([0.52884615]),\n",
       " array([0.625]),\n",
       " 0.6665873,\n",
       " 0.56394464,\n",
       " 0.8410789,\n",
       " 0.8999931,\n",
       " 1.1102042,\n",
       " 1.0394357,\n",
       " 0.91543686,\n",
       " 0.8160296,\n",
       " 0.7012029,\n",
       " 0.665829,\n",
       " 0.5768703,\n",
       " 0.64733255]"
      ]
     },
     "execution_count": 22,
     "metadata": {},
     "output_type": "execute_result"
    }
   ],
   "source": [
    "seq_seed_and_predictions"
   ]
  },
  {
   "cell_type": "code",
   "execution_count": 23,
   "metadata": {},
   "outputs": [],
   "source": [
    "#grab the portion of the results that are the generated values and apply inverse_transform on them\n",
    "# to turn them back to milk production value units (lbs per cow). ALSO reshape the results to be (12,1)\n",
    "# so we can easily add them to the test dataframe"
   ]
  },
  {
   "cell_type": "code",
   "execution_count": 24,
   "metadata": {},
   "outputs": [],
   "source": [
    "results = scaler.inverse_transform(np.array(seq_seed_and_predictions[-num_of_timesteps:]).reshape(num_of_timesteps,1))"
   ]
  },
  {
   "cell_type": "code",
   "execution_count": 25,
   "metadata": {},
   "outputs": [
    {
     "name": "stderr",
     "output_type": "stream",
     "text": [
      "/home/jackalhan/Development/github/more_meaningful_representations/venv/lib/python3.5/site-packages/ipykernel_launcher.py:1: SettingWithCopyWarning: \n",
      "A value is trying to be set on a copy of a slice from a DataFrame.\n",
      "Try using .loc[row_indexer,col_indexer] = value instead\n",
      "\n",
      "See the caveats in the documentation: http://pandas.pydata.org/pandas-docs/stable/indexing.html#indexing-view-versus-copy\n",
      "  \"\"\"Entry point for launching an IPython kernel.\n"
     ]
    }
   ],
   "source": [
    "test_set['Generated'] = results"
   ]
  },
  {
   "cell_type": "code",
   "execution_count": 26,
   "metadata": {},
   "outputs": [
    {
     "data": {
      "text/html": [
       "<div>\n",
       "<style scoped>\n",
       "    .dataframe tbody tr th:only-of-type {\n",
       "        vertical-align: middle;\n",
       "    }\n",
       "\n",
       "    .dataframe tbody tr th {\n",
       "        vertical-align: top;\n",
       "    }\n",
       "\n",
       "    .dataframe thead th {\n",
       "        text-align: right;\n",
       "    }\n",
       "</style>\n",
       "<table border=\"1\" class=\"dataframe\">\n",
       "  <thead>\n",
       "    <tr style=\"text-align: right;\">\n",
       "      <th></th>\n",
       "      <th>Milk Production</th>\n",
       "      <th>Generated</th>\n",
       "    </tr>\n",
       "    <tr>\n",
       "      <th>Month</th>\n",
       "      <th></th>\n",
       "      <th></th>\n",
       "    </tr>\n",
       "  </thead>\n",
       "  <tbody>\n",
       "    <tr>\n",
       "      <th>1975-01-01 01:00:00</th>\n",
       "      <td>834.0</td>\n",
       "      <td>830.300293</td>\n",
       "    </tr>\n",
       "    <tr>\n",
       "      <th>1975-02-01 01:00:00</th>\n",
       "      <td>782.0</td>\n",
       "      <td>787.600952</td>\n",
       "    </tr>\n",
       "    <tr>\n",
       "      <th>1975-03-01 01:00:00</th>\n",
       "      <td>892.0</td>\n",
       "      <td>902.888855</td>\n",
       "    </tr>\n",
       "    <tr>\n",
       "      <th>1975-04-01 01:00:00</th>\n",
       "      <td>903.0</td>\n",
       "      <td>927.397156</td>\n",
       "    </tr>\n",
       "    <tr>\n",
       "      <th>1975-05-01 01:00:00</th>\n",
       "      <td>966.0</td>\n",
       "      <td>1014.844910</td>\n",
       "    </tr>\n",
       "    <tr>\n",
       "      <th>1975-06-01 01:00:00</th>\n",
       "      <td>937.0</td>\n",
       "      <td>985.405273</td>\n",
       "    </tr>\n",
       "    <tr>\n",
       "      <th>1975-07-01 01:00:00</th>\n",
       "      <td>896.0</td>\n",
       "      <td>933.821777</td>\n",
       "    </tr>\n",
       "    <tr>\n",
       "      <th>1975-08-01 01:00:00</th>\n",
       "      <td>858.0</td>\n",
       "      <td>892.468262</td>\n",
       "    </tr>\n",
       "    <tr>\n",
       "      <th>1975-09-01 01:00:00</th>\n",
       "      <td>817.0</td>\n",
       "      <td>844.700378</td>\n",
       "    </tr>\n",
       "    <tr>\n",
       "      <th>1975-10-01 01:00:00</th>\n",
       "      <td>827.0</td>\n",
       "      <td>829.984863</td>\n",
       "    </tr>\n",
       "    <tr>\n",
       "      <th>1975-11-01 01:00:00</th>\n",
       "      <td>797.0</td>\n",
       "      <td>792.978027</td>\n",
       "    </tr>\n",
       "    <tr>\n",
       "      <th>1975-12-01 01:00:00</th>\n",
       "      <td>843.0</td>\n",
       "      <td>822.290344</td>\n",
       "    </tr>\n",
       "  </tbody>\n",
       "</table>\n",
       "</div>"
      ],
      "text/plain": [
       "                     Milk Production    Generated\n",
       "Month                                            \n",
       "1975-01-01 01:00:00            834.0   830.300293\n",
       "1975-02-01 01:00:00            782.0   787.600952\n",
       "1975-03-01 01:00:00            892.0   902.888855\n",
       "1975-04-01 01:00:00            903.0   927.397156\n",
       "1975-05-01 01:00:00            966.0  1014.844910\n",
       "1975-06-01 01:00:00            937.0   985.405273\n",
       "1975-07-01 01:00:00            896.0   933.821777\n",
       "1975-08-01 01:00:00            858.0   892.468262\n",
       "1975-09-01 01:00:00            817.0   844.700378\n",
       "1975-10-01 01:00:00            827.0   829.984863\n",
       "1975-11-01 01:00:00            797.0   792.978027\n",
       "1975-12-01 01:00:00            843.0   822.290344"
      ]
     },
     "execution_count": 26,
     "metadata": {},
     "output_type": "execute_result"
    }
   ],
   "source": [
    "test_set"
   ]
  },
  {
   "cell_type": "code",
   "execution_count": 27,
   "metadata": {},
   "outputs": [
    {
     "data": {
      "text/plain": [
       "<matplotlib.axes._subplots.AxesSubplot at 0x7faede4b15c0>"
      ]
     },
     "execution_count": 27,
     "metadata": {},
     "output_type": "execute_result"
    },
    {
     "data": {
      "image/png": "[encoded data removed]",
      "text/plain": [
       "<matplotlib.figure.Figure at 0x7faede457390>"
      ]
     },
     "metadata": {},
     "output_type": "display_data"
    }
   ],
   "source": [
    "test_set.plot()"
   ]
  }
 ],
 "metadata": {
  "kernelspec": {
   "display_name": "Python 3",
   "language": "python",
   "name": "python3"
  },
  "language_info": {
   "codemirror_mode": {
    "name": "ipython",
    "version": 3
   },
   "file_extension": ".py",
   "mimetype": "text/x-python",
   "name": "python",
   "nbconvert_exporter": "python",
   "pygments_lexer": "ipython3",
   "version": "3.5.2"
  }
 },
 "nbformat": 4,
 "nbformat_minor": 2
}
