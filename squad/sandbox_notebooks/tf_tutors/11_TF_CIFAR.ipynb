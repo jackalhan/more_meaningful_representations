{
 "cells": [
  {
   "cell_type": "markdown",
   "metadata": {},
   "source": [
    "### CIFAR Dataset"
   ]
  },
  {
   "cell_type": "code",
   "execution_count": 1,
   "metadata": {},
   "outputs": [],
   "source": [
    "DATA_DIR = '/home/jackalhan/Development/github/more_meaningful_representations/squad/sandbox_notebooks/tf/cifar-10-batches-py'"
   ]
  },
  {
   "cell_type": "code",
   "execution_count": 2,
   "metadata": {},
   "outputs": [],
   "source": [
    "def unpickle(file):\n",
    "    import pickle\n",
    "    with open(file, 'rb') as fi:\n",
    "        cifar_dict = pickle.load(fi, encoding='bytes')\n",
    "    return cifar_dict"
   ]
  },
  {
   "cell_type": "code",
   "execution_count": 13,
   "metadata": {},
   "outputs": [
    {
     "name": "stdout",
     "output_type": "stream",
     "text": [
      "data_batch_1\n",
      "batches.meta\n",
      "data_batch_5\n",
      "data_batch_3\n",
      "data_batch_4\n",
      "test_batch\n",
      "data_batch_2\n"
     ]
    }
   ],
   "source": [
    "import os\n",
    "ALL_DATA = {}\n",
    "for root, dirs, files in os.walk(DATA_DIR, topdown=False):\n",
    "    for name in files:\n",
    "        print(name)\n",
    "        ALL_DATA[name] = unpickle(os.path.join(root, name))"
   ]
  },
  {
   "cell_type": "code",
   "execution_count": 17,
   "metadata": {},
   "outputs": [
    {
     "data": {
      "text/plain": [
       "{b'label_names': [b'airplane',\n",
       "  b'automobile',\n",
       "  b'bird',\n",
       "  b'cat',\n",
       "  b'deer',\n",
       "  b'dog',\n",
       "  b'frog',\n",
       "  b'horse',\n",
       "  b'ship',\n",
       "  b'truck'],\n",
       " b'num_cases_per_batch': 10000,\n",
       " b'num_vis': 3072}"
      ]
     },
     "execution_count": 17,
     "metadata": {},
     "output_type": "execute_result"
    }
   ],
   "source": [
    "ALL_DATA['batches.meta']"
   ]
  },
  {
   "cell_type": "markdown",
   "metadata": {},
   "source": [
    "### data : 10000x3072 nump arrays of uint8s. Each row of the array stores a 32 x 32 colour image.  3072 is coming from 1024 (32 x 32) x 3 (RGB = Channels) so First 1024 of 3072 belongs to Red, Second 1024 of 3072 belongs to Green and Last 1024 of 3072 belongs to Blue\n",
    "\n",
    "### label: a list of 10000 umbers in the range 0-9 The number at index i indicates the label of the ith image in the array data. \n",
    "\n",
    "### label names: batches.meta.label_names, a 10-element list which gives meaning-ful names to the numeric labels in the labels array described above. For example : label_names[0] == 'airplane', label_names[1] == 'automobile'"
   ]
  },
  {
   "cell_type": "code",
   "execution_count": 19,
   "metadata": {},
   "outputs": [
    {
     "data": {
      "text/plain": [
       "dict_keys([b'labels', b'batch_label', b'filenames', b'data'])"
      ]
     },
     "execution_count": 19,
     "metadata": {},
     "output_type": "execute_result"
    }
   ],
   "source": [
    "ALL_DATA['data_batch_1'].keys()"
   ]
  },
  {
   "cell_type": "code",
   "execution_count": 123,
   "metadata": {},
   "outputs": [],
   "source": [
    "X = ALL_DATA['data_batch_1'][b\"data\"]"
   ]
  },
  {
   "cell_type": "code",
   "execution_count": 124,
   "metadata": {},
   "outputs": [
    {
     "data": {
      "text/plain": [
       "(10000, 3072)"
      ]
     },
     "execution_count": 124,
     "metadata": {},
     "output_type": "execute_result"
    }
   ],
   "source": [
    "X.shape"
   ]
  },
  {
   "cell_type": "code",
   "execution_count": 125,
   "metadata": {},
   "outputs": [],
   "source": [
    "X = X.reshape(X.shape[0], 3,32,32)"
   ]
  },
  {
   "cell_type": "code",
   "execution_count": 126,
   "metadata": {},
   "outputs": [],
   "source": [
    "sample_x = X[12]"
   ]
  },
  {
   "cell_type": "code",
   "execution_count": 127,
   "metadata": {},
   "outputs": [
    {
     "data": {
      "text/plain": [
       "(3, 32, 32)"
      ]
     },
     "execution_count": 127,
     "metadata": {},
     "output_type": "execute_result"
    }
   ],
   "source": [
    "sample_x.shape"
   ]
  },
  {
   "cell_type": "code",
   "execution_count": 128,
   "metadata": {},
   "outputs": [
    {
     "name": "stdout",
     "output_type": "stream",
     "text": [
      "(32, 32, 3)\n"
     ]
    },
    {
     "data": {
      "text/plain": [
       "<matplotlib.image.AxesImage at 0x7ff392c3f160>"
      ]
     },
     "execution_count": 128,
     "metadata": {},
     "output_type": "execute_result"
    },
    {
     "data": {
      "image/png": "[encoded data removed]",
      "text/plain": [
       "<matplotlib.figure.Figure at 0x7ff392cbab00>"
      ]
     },
     "metadata": {},
     "output_type": "display_data"
    }
   ],
   "source": [
    "# Shape (3, 32, 32) does not work with plt.imshow()\n",
    "# therefore we need to convert it to (32,32,3)\n",
    "sample_x = sample_x.transpose(1,2,0)\n",
    "print(sample_x.shape)\n",
    "plt.imshow(sample_x)"
   ]
  },
  {
   "cell_type": "code",
   "execution_count": 129,
   "metadata": {},
   "outputs": [],
   "source": [
    "#In order to change the shape of all the images in X :\n",
    "# we have 2 options, \n",
    "## 1 is :\n",
    "X =X.transpose(0,2,3,1).astype(\"uint8\") #Uint8 efficient loading.\n",
    "## 2 is :\n",
    "## X = X.swapaxes(2,3).swapaxes(1,3)"
   ]
  },
  {
   "cell_type": "code",
   "execution_count": 121,
   "metadata": {},
   "outputs": [
    {
     "data": {
      "text/plain": [
       "(10000, 32, 32, 3)"
      ]
     },
     "execution_count": 121,
     "metadata": {},
     "output_type": "execute_result"
    }
   ],
   "source": [
    "X.shape"
   ]
  },
  {
   "cell_type": "code",
   "execution_count": 71,
   "metadata": {},
   "outputs": [],
   "source": [
    "import matplotlib.pyplot as plt\n",
    "%matplotlib inline\n",
    "import numpy as np"
   ]
  },
  {
   "cell_type": "code",
   "execution_count": 130,
   "metadata": {},
   "outputs": [
    {
     "data": {
      "text/plain": [
       "<matplotlib.image.AxesImage at 0x7ff392c5fa58>"
      ]
     },
     "execution_count": 130,
     "metadata": {},
     "output_type": "execute_result"
    },
    {
     "data": {
      "image/png": "[encoded data removed]",
      "text/plain": [
       "<matplotlib.figure.Figure at 0x7ff392c8dbe0>"
      ]
     },
     "metadata": {},
     "output_type": "display_data"
    }
   ],
   "source": [
    "plt.imshow(X[12])"
   ]
  },
  {
   "cell_type": "markdown",
   "metadata": {},
   "source": [
    "### Helper Functions"
   ]
  },
  {
   "cell_type": "code",
   "execution_count": 183,
   "metadata": {},
   "outputs": [],
   "source": [
    "def one_hot_encode(vec, encode_size=10):\n",
    "    n = len(vec)\n",
    "    out = np.zeros((n, encode_size))\n",
    "    # set the value 1 to the index associated with label of the vector\n",
    "    out[range(n), vec] = 1\n",
    "    return out"
   ]
  },
  {
   "cell_type": "code",
   "execution_count": 224,
   "metadata": {},
   "outputs": [],
   "source": [
    "class CifarHelper():\n",
    "    \n",
    "    def __init__(self, ALL_DATA):\n",
    "        self.i = 0\n",
    "        \n",
    "        # Grabs a list of all the data batches for training\n",
    "        self.all_train_batches = [ALL_DATA['data_batch_1'], \n",
    "                                  ALL_DATA['data_batch_2'], \n",
    "                                  ALL_DATA['data_batch_3'], \n",
    "                                  ALL_DATA['data_batch_4'], \n",
    "                                  ALL_DATA['data_batch_5']]\n",
    "        \n",
    "        # Grabs a list of all the test batches (really just one batch)\n",
    "        self.test_batch = [ALL_DATA['test_batch']]\n",
    "        \n",
    "        # Initialize some empty variables for later on\n",
    "        self.training_images= None\n",
    "        self.training_labels = None\n",
    "        \n",
    "        self.test_images = None\n",
    "        self.test_labels = None\n",
    "    \n",
    "    def set_up_images(self):\n",
    "        \n",
    "        print('Setting up Training Images and Labels')\n",
    "        # Vertically stacks the training images\n",
    "        self.training_images = np.vstack([d[b\"data\"] for d in self.all_train_batches])\n",
    "        train_len = len(self.training_images)\n",
    "        # Reshapes and normalize training images by max rgb value\n",
    "        self.training_images = self.training_images.reshape(train_len,3,32,32).transpose(0,2,3,1) / 255\n",
    "        # One hot encodes the training labels (e.g. [0,0,0,1,0,0,0,0,0,0,])\n",
    "        self.training_labels = one_hot_encode(np.hstack(\n",
    "            [d[b\"labels\"] for d in self.all_train_batches]\n",
    "        ))\n",
    "        \n",
    "        print(\"Setting Up Test Images and Labels\")\n",
    "        # Vertically stacks the test images\n",
    "        self.test_images = np.vstack([d[b\"data\"] for d in self.test_batch])\n",
    "        test_len = len(self.test_images)\n",
    "        \n",
    "        # Reshapes and normalized test images\n",
    "        self.test_images = self.test_images.reshape(test_len, 3,32,32).transpose(0,2,3,1)\n",
    "        # One hot encodes\n",
    "        self.test_labels = one_hot_encode(np.hstack([d[b\"labels\"] for d in self.test_batch]))\n",
    "    \n",
    "    def next_batch(self, batch_size):\n",
    "        # Note that the 100 dimension in the reshape call is set by an assumed batch size of 100\n",
    "        x = self.training_images[self.i:self.i + batch_size].reshape(batch_size, 32,32,3)\n",
    "        y = self.training_labels[self.i:self.i + batch_size]\n",
    "        self.i = (self.i + batch_size) % len(self.training_images)\n",
    "        return x, y"
   ]
  },
  {
   "cell_type": "code",
   "execution_count": 225,
   "metadata": {},
   "outputs": [
    {
     "name": "stdout",
     "output_type": "stream",
     "text": [
      "Setting up Training Images and Labels\n",
      "Setting Up Test Images and Labels\n"
     ]
    }
   ],
   "source": [
    "ch = CifarHelper(ALL_DATA)\n",
    "ch.set_up_images()\n",
    "\n",
    "# During your session to grab the next batch use this line\n",
    "# (Just like we did for mnist.traing.next_batch)\n",
    "# Batch = ch.next_batch(100)"
   ]
  },
  {
   "cell_type": "markdown",
   "metadata": {},
   "source": [
    "#### Helper Functions"
   ]
  },
  {
   "cell_type": "code",
   "execution_count": 199,
   "metadata": {},
   "outputs": [],
   "source": [
    "# INIT WEIGHTS\n",
    "def init_weights(shape):\n",
    "    init_random_dist = tf.truncated_normal(shape, stddev=0.1)\n",
    "    return tf.Variable(init_random_dist)\n",
    "\n",
    "# INIT BIAS\n",
    "def init_bias(shape):\n",
    "    init_bias_vals = tf.constant(0.1, shape=shape)\n",
    "    return tf.Variable(init_bias_vals)\n",
    "\n",
    "# CONV2D\n",
    "def conv2d(x, W):\n",
    "    # x --> input tensor, so shape:[batch, H, W, Channels]\n",
    "    # W --> kernel, shape:[filter_height, filter_width, channels_in, channels_out]    \n",
    "    return tf.nn.conv2d(x,W, strides=[1,1,1,1], padding='SAME') # SAME = zero padding\n",
    "\n",
    "# POOLING\n",
    "def max_pooling_2by2(x):\n",
    "    # x --> input tensor, so shape:[batch, H, W, Channels]\n",
    "    # ksize, strides --> we want to apply pooling to the H and W values of the tensor (image) \n",
    "    # therefore we need to skip the\n",
    "    # batch and channels by putting 1, and the rest is 2\n",
    "    return tf.nn.max_pool(x, ksize=[1,2,2,1], strides=[1,2,2,1], padding='SAME') # SAME = zero padding\n",
    "\n",
    "# CONVOLUTIONAL LAYER\n",
    "def convolutional_layer(input_x, shape):\n",
    "    W = init_weights(shape)\n",
    "    b = init_bias([shape[3]])\n",
    "    _conv2d = conv2d(input_x, W) + b\n",
    "    return tf.nn.relu(_conv2d)\n",
    "\n",
    "# FULLY CONNECTED LAYER\n",
    "def fully_connected_layer(input_layer, size):\n",
    "    #size = neuron size in fully connected layer\n",
    "    input_size = int(input_layer.get_shape()[1])\n",
    "    W = init_weights([input_size, size])\n",
    "    b = init_bias([size])\n",
    "    _fully_connected_layer = tf.matmul(input_layer, W) + b\n",
    "    return _fully_connected_layer"
   ]
  },
  {
   "cell_type": "markdown",
   "metadata": {},
   "source": [
    "### Creating the Model"
   ]
  },
  {
   "cell_type": "code",
   "execution_count": 203,
   "metadata": {},
   "outputs": [],
   "source": [
    "import tensorflow as tf"
   ]
  },
  {
   "cell_type": "code",
   "execution_count": 204,
   "metadata": {},
   "outputs": [],
   "source": [
    "X = tf.placeholder(tf.float32, shape=[None, 32,32,3])\n",
    "y = tf.placeholder(tf.uint8, shape=[None, 10])\n",
    "hold_prob_dropout = tf.placeholder(tf.float32)"
   ]
  },
  {
   "cell_type": "markdown",
   "metadata": {},
   "source": [
    "#### Create the Layers"
   ]
  },
  {
   "cell_type": "code",
   "execution_count": 205,
   "metadata": {},
   "outputs": [],
   "source": [
    "convo_1 = convolutional_layer(X, shape=[4,4,3,32]) # 4,4 filter size, 3: input channels RGB, 32 is for output channels\n",
    "convo_1_pooling = max_pooling_2by2(convo_1)\n",
    "\n",
    "convo_2 = convolutional_layer(convo_1_pooling, shape=[4,4,32,64]) # 4,4 filter size, 3: input channels RGB, 32 is for output channels\n",
    "convo_2_pooling = max_pooling_2by2(convo_2)"
   ]
  },
  {
   "cell_type": "markdown",
   "metadata": {},
   "source": [
    "#### Flattened Layer"
   ]
  },
  {
   "cell_type": "code",
   "execution_count": 206,
   "metadata": {},
   "outputs": [],
   "source": [
    "# reshaping the pooling layer by [-1, 4096] or [8*8*64] or what ever we want :) \n",
    "convo_2_flat = tf.reshape(convo_2_pooling, [-1, 4096])"
   ]
  },
  {
   "cell_type": "markdown",
   "metadata": {},
   "source": [
    "#### Fully Connected Layer"
   ]
  },
  {
   "cell_type": "code",
   "execution_count": 207,
   "metadata": {},
   "outputs": [],
   "source": [
    "full_layer_one =tf.nn.relu(fully_connected_layer(convo_2_flat,1024))"
   ]
  },
  {
   "cell_type": "markdown",
   "metadata": {},
   "source": [
    "#### Dropout Layer"
   ]
  },
  {
   "cell_type": "code",
   "execution_count": 208,
   "metadata": {},
   "outputs": [],
   "source": [
    "full_one_dropout = tf.nn.dropout(full_layer_one, hold_prob_dropout)"
   ]
  },
  {
   "cell_type": "markdown",
   "metadata": {},
   "source": [
    "#### Predictions"
   ]
  },
  {
   "cell_type": "code",
   "execution_count": 209,
   "metadata": {},
   "outputs": [],
   "source": [
    "y_pred = fully_connected_layer(full_one_dropout, 10) #10 possible labels"
   ]
  },
  {
   "cell_type": "markdown",
   "metadata": {},
   "source": [
    "### Loss Function"
   ]
  },
  {
   "cell_type": "code",
   "execution_count": 210,
   "metadata": {},
   "outputs": [],
   "source": [
    "cross_entrtropy = tf.reduce_mean(tf.nn.softmax_cross_entropy_with_logits(labels=y, logits=y_pred))"
   ]
  },
  {
   "cell_type": "markdown",
   "metadata": {},
   "source": [
    "### Optimizer"
   ]
  },
  {
   "cell_type": "code",
   "execution_count": 211,
   "metadata": {},
   "outputs": [],
   "source": [
    "optimizer = tf.train.AdamOptimizer(learning_rate=0.001)\n",
    "# minimize our loss\n",
    "train = optimizer.minimize(cross_entrtropy)"
   ]
  },
  {
   "cell_type": "code",
   "execution_count": 212,
   "metadata": {},
   "outputs": [],
   "source": [
    "init = tf.global_variables_initializer()"
   ]
  },
  {
   "cell_type": "markdown",
   "metadata": {},
   "source": [
    "### Graph Session"
   ]
  },
  {
   "cell_type": "code",
   "execution_count": 226,
   "metadata": {},
   "outputs": [
    {
     "name": "stdout",
     "output_type": "stream",
     "text": [
      "Step: 0\n",
      "0.1009\n",
      "----------\n",
      "Step: 100\n",
      "0.3487\n",
      "----------\n",
      "Step: 200\n",
      "0.3969\n",
      "----------\n",
      "Step: 300\n",
      "0.4019\n",
      "----------\n",
      "Step: 400\n",
      "0.4164\n",
      "----------\n",
      "Step: 500\n",
      "0.4227\n",
      "----------\n",
      "Step: 600\n",
      "0.4548\n",
      "----------\n",
      "Step: 700\n",
      "0.4334\n",
      "----------\n",
      "Step: 800\n",
      "0.4552\n",
      "----------\n",
      "Step: 900\n",
      "0.4569\n",
      "----------\n",
      "Step: 1000\n",
      "0.4585\n",
      "----------\n",
      "Step: 1100\n",
      "0.5076\n",
      "----------\n",
      "Step: 1200\n",
      "0.4906\n",
      "----------\n",
      "Step: 1300\n",
      "0.4969\n",
      "----------\n",
      "Step: 1400\n",
      "0.4861\n",
      "----------\n",
      "Step: 1500\n",
      "0.4973\n",
      "----------\n",
      "Step: 1600\n",
      "0.5535\n",
      "----------\n",
      "Step: 1700\n",
      "0.5452\n",
      "----------\n",
      "Step: 1800\n",
      "0.5265\n",
      "----------\n",
      "Step: 1900\n",
      "0.5226\n",
      "----------\n",
      "Step: 2000\n",
      "0.531\n",
      "----------\n",
      "Step: 2100\n",
      "0.5701\n",
      "----------\n",
      "Step: 2200\n",
      "0.5566\n",
      "----------\n",
      "Step: 2300\n",
      "0.5422\n",
      "----------\n",
      "Step: 2400\n",
      "0.5518\n",
      "----------\n",
      "Step: 2500\n",
      "0.5578\n",
      "----------\n",
      "Step: 2600\n",
      "0.5805\n",
      "----------\n",
      "Step: 2700\n",
      "0.5765\n",
      "----------\n",
      "Step: 2800\n",
      "0.5586\n",
      "----------\n",
      "Step: 2900\n",
      "0.5748\n",
      "----------\n",
      "Step: 3000\n",
      "0.586\n",
      "----------\n",
      "Step: 3100\n",
      "0.6017\n",
      "----------\n",
      "Step: 3200\n",
      "0.5892\n",
      "----------\n",
      "Step: 3300\n",
      "0.5654\n",
      "----------\n",
      "Step: 3400\n",
      "0.5777\n",
      "----------\n",
      "Step: 3500\n",
      "0.6072\n",
      "----------\n",
      "Step: 3600\n",
      "0.6184\n",
      "----------\n",
      "Step: 3700\n",
      "0.6039\n",
      "----------\n",
      "Step: 3800\n",
      "0.5685\n",
      "----------\n",
      "Step: 3900\n",
      "0.5868\n",
      "----------\n",
      "Step: 4000\n",
      "0.5945\n",
      "----------\n",
      "Step: 4100\n",
      "0.613\n",
      "----------\n",
      "Step: 4200\n",
      "0.6121\n",
      "----------\n",
      "Step: 4300\n",
      "0.5924\n",
      "----------\n",
      "Step: 4400\n",
      "0.6055\n",
      "----------\n",
      "Step: 4500\n",
      "0.6051\n",
      "----------\n",
      "Step: 4600\n",
      "0.6197\n",
      "----------\n",
      "Step: 4700\n",
      "0.6135\n",
      "----------\n",
      "Step: 4800\n",
      "0.615\n",
      "----------\n",
      "Step: 4900\n",
      "0.6126\n",
      "----------\n"
     ]
    }
   ],
   "source": [
    "with tf.Session() as sess:\n",
    "    sess.run(init)\n",
    "    \n",
    "    for i in range(5000):\n",
    "        batch = ch.next_batch(100)\n",
    "        # x = batch[0]\n",
    "        # y = batch[1]\n",
    "        sess.run(train, feed_dict ={X:batch[0], y: batch[1], hold_prob_dropout: 0.5})\n",
    "        if i % 100 == 0:\n",
    "            print(\"Step: {}\".format(i))\n",
    "            matches = tf.equal(tf.argmax(y_pred,1), tf.argmax(y,1))\n",
    "            acc = tf.reduce_mean(tf.cast(matches, tf.float32))\n",
    "            print(sess.run(acc, feed_dict={X:ch.test_images, y:ch.test_labels, hold_prob_dropout:1}))\n",
    "            print(10*'-')"
   ]
  }
 ],
 "metadata": {
  "kernelspec": {
   "display_name": "Python 3",
   "language": "python",
   "name": "python3"
  },
  "language_info": {
   "codemirror_mode": {
    "name": "ipython",
    "version": 3
   },
   "file_extension": ".py",
   "mimetype": "text/x-python",
   "name": "python",
   "nbconvert_exporter": "python",
   "pygments_lexer": "ipython3",
   "version": "3.5.2"
  }
 },
 "nbformat": 4,
 "nbformat_minor": 2
}
